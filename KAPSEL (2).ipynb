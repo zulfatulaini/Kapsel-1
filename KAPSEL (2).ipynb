{
  "nbformat": 4,
  "nbformat_minor": 0,
  "metadata": {
    "colab": {
      "name": "KAPSEL",
      "provenance": [],
      "collapsed_sections": []
    },
    "kernelspec": {
      "display_name": "Python 3",
      "name": "python3"
    }
  },
  "cells": [
    {
      "cell_type": "markdown",
      "metadata": {
        "id": "2WVyR2zj7gQX"
      },
      "source": [
        "**Crawling Data**\n"
      ]
    },
    {
      "cell_type": "code",
      "metadata": {
        "id": "un9j1wp2izeo",
        "colab": {
          "base_uri": "https://localhost:8080/"
        },
        "outputId": "07143406-c63a-4198-cf9c-27e28273e616"
      },
      "source": [
        "pip install unidecode twython tweepy beautifulsoup4 tika"
      ],
      "execution_count": null,
      "outputs": [
        {
          "output_type": "stream",
          "name": "stdout",
          "text": [
            "Collecting unidecode\n",
            "  Downloading Unidecode-1.3.2-py3-none-any.whl (235 kB)\n",
            "\u001b[?25l\r\u001b[K     |█▍                              | 10 kB 23.3 MB/s eta 0:00:01\r\u001b[K     |██▉                             | 20 kB 25.2 MB/s eta 0:00:01\r\u001b[K     |████▏                           | 30 kB 22.0 MB/s eta 0:00:01\r\u001b[K     |█████▋                          | 40 kB 17.1 MB/s eta 0:00:01\r\u001b[K     |███████                         | 51 kB 8.5 MB/s eta 0:00:01\r\u001b[K     |████████▍                       | 61 kB 9.8 MB/s eta 0:00:01\r\u001b[K     |█████████▊                      | 71 kB 8.9 MB/s eta 0:00:01\r\u001b[K     |███████████▏                    | 81 kB 9.8 MB/s eta 0:00:01\r\u001b[K     |████████████▌                   | 92 kB 7.9 MB/s eta 0:00:01\r\u001b[K     |██████████████                  | 102 kB 8.2 MB/s eta 0:00:01\r\u001b[K     |███████████████▎                | 112 kB 8.2 MB/s eta 0:00:01\r\u001b[K     |████████████████▊               | 122 kB 8.2 MB/s eta 0:00:01\r\u001b[K     |██████████████████              | 133 kB 8.2 MB/s eta 0:00:01\r\u001b[K     |███████████████████▌            | 143 kB 8.2 MB/s eta 0:00:01\r\u001b[K     |████████████████████▉           | 153 kB 8.2 MB/s eta 0:00:01\r\u001b[K     |██████████████████████▎         | 163 kB 8.2 MB/s eta 0:00:01\r\u001b[K     |███████████████████████▋        | 174 kB 8.2 MB/s eta 0:00:01\r\u001b[K     |█████████████████████████       | 184 kB 8.2 MB/s eta 0:00:01\r\u001b[K     |██████████████████████████▍     | 194 kB 8.2 MB/s eta 0:00:01\r\u001b[K     |███████████████████████████▉    | 204 kB 8.2 MB/s eta 0:00:01\r\u001b[K     |█████████████████████████████▏  | 215 kB 8.2 MB/s eta 0:00:01\r\u001b[K     |██████████████████████████████▋ | 225 kB 8.2 MB/s eta 0:00:01\r\u001b[K     |████████████████████████████████| 235 kB 8.2 MB/s eta 0:00:01\r\u001b[K     |████████████████████████████████| 235 kB 8.2 MB/s \n",
            "\u001b[?25hCollecting twython\n",
            "  Downloading twython-3.9.1-py3-none-any.whl (33 kB)\n",
            "Requirement already satisfied: tweepy in /usr/local/lib/python3.7/dist-packages (3.10.0)\n",
            "Requirement already satisfied: beautifulsoup4 in /usr/local/lib/python3.7/dist-packages (4.6.3)\n",
            "Collecting tika\n",
            "  Downloading tika-1.24.tar.gz (28 kB)\n",
            "Requirement already satisfied: requests>=2.1.0 in /usr/local/lib/python3.7/dist-packages (from twython) (2.23.0)\n",
            "Requirement already satisfied: requests-oauthlib>=0.4.0 in /usr/local/lib/python3.7/dist-packages (from twython) (1.3.0)\n",
            "Requirement already satisfied: idna<3,>=2.5 in /usr/local/lib/python3.7/dist-packages (from requests>=2.1.0->twython) (2.10)\n",
            "Requirement already satisfied: chardet<4,>=3.0.2 in /usr/local/lib/python3.7/dist-packages (from requests>=2.1.0->twython) (3.0.4)\n",
            "Requirement already satisfied: certifi>=2017.4.17 in /usr/local/lib/python3.7/dist-packages (from requests>=2.1.0->twython) (2021.5.30)\n",
            "Requirement already satisfied: urllib3!=1.25.0,!=1.25.1,<1.26,>=1.21.1 in /usr/local/lib/python3.7/dist-packages (from requests>=2.1.0->twython) (1.24.3)\n",
            "Requirement already satisfied: oauthlib>=3.0.0 in /usr/local/lib/python3.7/dist-packages (from requests-oauthlib>=0.4.0->twython) (3.1.1)\n",
            "Requirement already satisfied: six>=1.10.0 in /usr/local/lib/python3.7/dist-packages (from tweepy) (1.15.0)\n",
            "Requirement already satisfied: PySocks!=1.5.7,>=1.5.6 in /usr/local/lib/python3.7/dist-packages (from requests>=2.1.0->twython) (1.7.1)\n",
            "Requirement already satisfied: setuptools in /usr/local/lib/python3.7/dist-packages (from tika) (57.4.0)\n",
            "Building wheels for collected packages: tika\n",
            "  Building wheel for tika (setup.py) ... \u001b[?25l\u001b[?25hdone\n",
            "  Created wheel for tika: filename=tika-1.24-py3-none-any.whl size=32891 sha256=1cb97e5499b68e8fd3c7e7d261d113515349fc84c0508e6168e130fc10c2e989\n",
            "  Stored in directory: /root/.cache/pip/wheels/ec/2b/38/58ff05467a742e32f67f5d0de048fa046e764e2fbb25ac93f3\n",
            "Successfully built tika\n",
            "Installing collected packages: unidecode, twython, tika\n",
            "Successfully installed tika-1.24 twython-3.9.1 unidecode-1.3.2\n"
          ]
        }
      ]
    },
    {
      "cell_type": "code",
      "metadata": {
        "id": "buUpQCRir8RF"
      },
      "source": [
        "import tweepy"
      ],
      "execution_count": null,
      "outputs": []
    },
    {
      "cell_type": "code",
      "metadata": {
        "id": "OsjrypmSksth"
      },
      "source": [
        "import warnings; warnings.simplefilter('ignore')\n",
        "import tweepy, json, nltk, urllib.request, requests\n",
        "from urllib.request import Request, urlopen\n",
        "from twython import TwythonStreamer\n",
        "from bs4 import BeautifulSoup as bs"
      ],
      "execution_count": null,
      "outputs": []
    },
    {
      "cell_type": "code",
      "metadata": {
        "id": "waA0wSTHk0xT",
        "colab": {
          "base_uri": "https://localhost:8080/",
          "height": 35
        },
        "outputId": "cb72c821-3113-48fe-d919-64d4f69ae6ac"
      },
      "source": [
        "\n",
        "\n",
        "Ck = 'tm7hlF4C1lsFTWo1U5DOhIona' # consumer_key\n",
        "Cs = '8YEY48tsjOPCth5kgTugK1wQq8nlMpz88yNLLfvALv6r8sked3' # consumer_secret\n",
        "At = '1398529904065454080-R40ldKfYCYlDXhXeOimlbHsynEOvEu' # access_token\n",
        "As = 'tJNg1c9f8tioSlSyKszAViQ86IW7KApO0kNpmjhMoHYPJ' # access_secret\n",
        "'Done'\n"
      ],
      "execution_count": null,
      "outputs": [
        {
          "output_type": "execute_result",
          "data": {
            "application/vnd.google.colaboratory.intrinsic+json": {
              "type": "string"
            },
            "text/plain": [
              "'Done'"
            ]
          },
          "metadata": {},
          "execution_count": 17
        }
      ]
    },
    {
      "cell_type": "code",
      "metadata": {
        "id": "xFTixpMBsi8R"
      },
      "source": [
        "def connect(Ck, Cs, At, As):\n",
        "    auth = tweepy.auth.OAuthHandler(Ck, Cs)\n",
        "    auth.set_access_token(At, As)\n",
        "    api = tweepy.API(auth)\n",
        "    usr_ = api.verify_credentials()\n",
        "    print('Welcome \"{}\" you are now connected to twitter server'.format(usr_.name))\n",
        "    return api"
      ],
      "execution_count": null,
      "outputs": []
    },
    {
      "cell_type": "markdown",
      "metadata": {
        "id": "blb6-n_zLYtt"
      },
      "source": [
        "**Koneksi Ke Twitter**\n"
      ]
    },
    {
      "cell_type": "code",
      "metadata": {
        "id": "K5mgvB7Ys14i",
        "colab": {
          "base_uri": "https://localhost:8080/"
        },
        "outputId": "d3f296d1-ca26-46a5-a246-8b81747c42b3"
      },
      "source": [
        "api = connect(Ck, Cs, At, As)"
      ],
      "execution_count": null,
      "outputs": [
        {
          "output_type": "stream",
          "name": "stdout",
          "text": [
            "Welcome \"Zulfatul Aini\" you are now connected to twitter server\n"
          ]
        }
      ]
    },
    {
      "cell_type": "code",
      "metadata": {
        "colab": {
          "base_uri": "https://localhost:8080/"
        },
        "id": "jKt8gYWWLTOO",
        "outputId": "6f52f935-5819-467a-8b6f-781b3ccd0c63"
      },
      "source": [
        "import tweepy\n",
        "\n",
        "qry = 'khai'\n",
        "N = 100 # jumlah N tweet \"terkini\" yang ingin diambil\n",
        "T = []\n",
        "for post in tweepy.Cursor(api.search, q=qry, lang='id', tweet_mode='extended').items(N):\n",
        "    T.append(post)\n",
        "    \n",
        "T[0]\n",
        "\n"
      ],
      "execution_count": null,
      "outputs": [
        {
          "output_type": "execute_result",
          "data": {
            "text/plain": [
              "Status(_api=<tweepy.api.API object at 0x7fc17fa06650>, _json={'created_at': 'Mon Nov 01 15:27:59 +0000 2021', 'id': 1455194918951948288, 'id_str': '1455194918951948288', 'full_text': 'benci bgt sm yg nyebar foto khai :( kayanya yang heboh nyebar foto khai tuh bukan zquad,directioners,maupun fans gigi ga sih? terus knpsi mrk nyebarinnya 💀💀', 'truncated': False, 'display_text_range': [0, 156], 'entities': {'hashtags': [], 'symbols': [], 'user_mentions': [], 'urls': []}, 'metadata': {'iso_language_code': 'in', 'result_type': 'recent'}, 'source': '<a href=\"http://twitter.com/download/iphone\" rel=\"nofollow\">Twitter for iPhone</a>', 'in_reply_to_status_id': None, 'in_reply_to_status_id_str': None, 'in_reply_to_user_id': None, 'in_reply_to_user_id_str': None, 'in_reply_to_screen_name': None, 'user': {'id': 2429700186, 'id_str': '2429700186', 'name': 'kira rest', 'screen_name': 'sn0psy', 'location': '', 'description': 'i believe in zayn supremacy ⌇꒳ ˓🥣 5/5 ⭐⟡ ⠀⠀ ⠀⠀⠀⠀ ⠀⠀ ⠀⠀ ⠀•°. *࿐ she/her ʚĭɞ', 'url': 'https://t.co/7nnqLoC8oW', 'entities': {'url': {'urls': [{'url': 'https://t.co/7nnqLoC8oW', 'expanded_url': 'https://open.spotify.com/user/31h7y25i3h7xps3nigbbihmikh4e?si=ehV_MhsDSt2JJFmUkpUa4A&dl_branch=1', 'display_url': 'open.spotify.com/user/31h7y25i3…', 'indices': [0, 23]}]}, 'description': {'urls': []}}, 'protected': False, 'followers_count': 1054, 'friends_count': 1105, 'listed_count': 9, 'created_at': 'Sun Apr 06 01:50:09 +0000 2014', 'favourites_count': 1184, 'utc_offset': None, 'time_zone': None, 'geo_enabled': False, 'verified': False, 'statuses_count': 4713, 'lang': None, 'contributors_enabled': False, 'is_translator': False, 'is_translation_enabled': False, 'profile_background_color': 'C0DEED', 'profile_background_image_url': 'http://abs.twimg.com/images/themes/theme1/bg.png', 'profile_background_image_url_https': 'https://abs.twimg.com/images/themes/theme1/bg.png', 'profile_background_tile': False, 'profile_image_url': 'http://pbs.twimg.com/profile_images/1437792454913187858/fc-lJr0P_normal.jpg', 'profile_image_url_https': 'https://pbs.twimg.com/profile_images/1437792454913187858/fc-lJr0P_normal.jpg', 'profile_banner_url': 'https://pbs.twimg.com/profile_banners/2429700186/1630881228', 'profile_link_color': '1DA1F2', 'profile_sidebar_border_color': 'C0DEED', 'profile_sidebar_fill_color': 'DDEEF6', 'profile_text_color': '333333', 'profile_use_background_image': True, 'has_extended_profile': False, 'default_profile': True, 'default_profile_image': False, 'following': False, 'follow_request_sent': False, 'notifications': False, 'translator_type': 'none', 'withheld_in_countries': []}, 'geo': None, 'coordinates': None, 'place': None, 'contributors': None, 'is_quote_status': False, 'retweet_count': 0, 'favorite_count': 0, 'favorited': False, 'retweeted': False, 'lang': 'in'}, created_at=datetime.datetime(2021, 11, 1, 15, 27, 59), id=1455194918951948288, id_str='1455194918951948288', full_text='benci bgt sm yg nyebar foto khai :( kayanya yang heboh nyebar foto khai tuh bukan zquad,directioners,maupun fans gigi ga sih? terus knpsi mrk nyebarinnya 💀💀', truncated=False, display_text_range=[0, 156], entities={'hashtags': [], 'symbols': [], 'user_mentions': [], 'urls': []}, metadata={'iso_language_code': 'in', 'result_type': 'recent'}, source='Twitter for iPhone', source_url='http://twitter.com/download/iphone', in_reply_to_status_id=None, in_reply_to_status_id_str=None, in_reply_to_user_id=None, in_reply_to_user_id_str=None, in_reply_to_screen_name=None, author=User(_api=<tweepy.api.API object at 0x7fc17fa06650>, _json={'id': 2429700186, 'id_str': '2429700186', 'name': 'kira rest', 'screen_name': 'sn0psy', 'location': '', 'description': 'i believe in zayn supremacy ⌇꒳ ˓🥣 5/5 ⭐⟡ ⠀⠀ ⠀⠀⠀⠀ ⠀⠀ ⠀⠀ ⠀•°. *࿐ she/her ʚĭɞ', 'url': 'https://t.co/7nnqLoC8oW', 'entities': {'url': {'urls': [{'url': 'https://t.co/7nnqLoC8oW', 'expanded_url': 'https://open.spotify.com/user/31h7y25i3h7xps3nigbbihmikh4e?si=ehV_MhsDSt2JJFmUkpUa4A&dl_branch=1', 'display_url': 'open.spotify.com/user/31h7y25i3…', 'indices': [0, 23]}]}, 'description': {'urls': []}}, 'protected': False, 'followers_count': 1054, 'friends_count': 1105, 'listed_count': 9, 'created_at': 'Sun Apr 06 01:50:09 +0000 2014', 'favourites_count': 1184, 'utc_offset': None, 'time_zone': None, 'geo_enabled': False, 'verified': False, 'statuses_count': 4713, 'lang': None, 'contributors_enabled': False, 'is_translator': False, 'is_translation_enabled': False, 'profile_background_color': 'C0DEED', 'profile_background_image_url': 'http://abs.twimg.com/images/themes/theme1/bg.png', 'profile_background_image_url_https': 'https://abs.twimg.com/images/themes/theme1/bg.png', 'profile_background_tile': False, 'profile_image_url': 'http://pbs.twimg.com/profile_images/1437792454913187858/fc-lJr0P_normal.jpg', 'profile_image_url_https': 'https://pbs.twimg.com/profile_images/1437792454913187858/fc-lJr0P_normal.jpg', 'profile_banner_url': 'https://pbs.twimg.com/profile_banners/2429700186/1630881228', 'profile_link_color': '1DA1F2', 'profile_sidebar_border_color': 'C0DEED', 'profile_sidebar_fill_color': 'DDEEF6', 'profile_text_color': '333333', 'profile_use_background_image': True, 'has_extended_profile': False, 'default_profile': True, 'default_profile_image': False, 'following': False, 'follow_request_sent': False, 'notifications': False, 'translator_type': 'none', 'withheld_in_countries': []}, id=2429700186, id_str='2429700186', name='kira rest', screen_name='sn0psy', location='', description='i believe in zayn supremacy ⌇꒳ ˓🥣 5/5 ⭐⟡ ⠀⠀ ⠀⠀⠀⠀ ⠀⠀ ⠀⠀ ⠀•°. *࿐ she/her ʚĭɞ', url='https://t.co/7nnqLoC8oW', entities={'url': {'urls': [{'url': 'https://t.co/7nnqLoC8oW', 'expanded_url': 'https://open.spotify.com/user/31h7y25i3h7xps3nigbbihmikh4e?si=ehV_MhsDSt2JJFmUkpUa4A&dl_branch=1', 'display_url': 'open.spotify.com/user/31h7y25i3…', 'indices': [0, 23]}]}, 'description': {'urls': []}}, protected=False, followers_count=1054, friends_count=1105, listed_count=9, created_at=datetime.datetime(2014, 4, 6, 1, 50, 9), favourites_count=1184, utc_offset=None, time_zone=None, geo_enabled=False, verified=False, statuses_count=4713, lang=None, contributors_enabled=False, is_translator=False, is_translation_enabled=False, profile_background_color='C0DEED', profile_background_image_url='http://abs.twimg.com/images/themes/theme1/bg.png', profile_background_image_url_https='https://abs.twimg.com/images/themes/theme1/bg.png', profile_background_tile=False, profile_image_url='http://pbs.twimg.com/profile_images/1437792454913187858/fc-lJr0P_normal.jpg', profile_image_url_https='https://pbs.twimg.com/profile_images/1437792454913187858/fc-lJr0P_normal.jpg', profile_banner_url='https://pbs.twimg.com/profile_banners/2429700186/1630881228', profile_link_color='1DA1F2', profile_sidebar_border_color='C0DEED', profile_sidebar_fill_color='DDEEF6', profile_text_color='333333', profile_use_background_image=True, has_extended_profile=False, default_profile=True, default_profile_image=False, following=False, follow_request_sent=False, notifications=False, translator_type='none', withheld_in_countries=[]), user=User(_api=<tweepy.api.API object at 0x7fc17fa06650>, _json={'id': 2429700186, 'id_str': '2429700186', 'name': 'kira rest', 'screen_name': 'sn0psy', 'location': '', 'description': 'i believe in zayn supremacy ⌇꒳ ˓🥣 5/5 ⭐⟡ ⠀⠀ ⠀⠀⠀⠀ ⠀⠀ ⠀⠀ ⠀•°. *࿐ she/her ʚĭɞ', 'url': 'https://t.co/7nnqLoC8oW', 'entities': {'url': {'urls': [{'url': 'https://t.co/7nnqLoC8oW', 'expanded_url': 'https://open.spotify.com/user/31h7y25i3h7xps3nigbbihmikh4e?si=ehV_MhsDSt2JJFmUkpUa4A&dl_branch=1', 'display_url': 'open.spotify.com/user/31h7y25i3…', 'indices': [0, 23]}]}, 'description': {'urls': []}}, 'protected': False, 'followers_count': 1054, 'friends_count': 1105, 'listed_count': 9, 'created_at': 'Sun Apr 06 01:50:09 +0000 2014', 'favourites_count': 1184, 'utc_offset': None, 'time_zone': None, 'geo_enabled': False, 'verified': False, 'statuses_count': 4713, 'lang': None, 'contributors_enabled': False, 'is_translator': False, 'is_translation_enabled': False, 'profile_background_color': 'C0DEED', 'profile_background_image_url': 'http://abs.twimg.com/images/themes/theme1/bg.png', 'profile_background_image_url_https': 'https://abs.twimg.com/images/themes/theme1/bg.png', 'profile_background_tile': False, 'profile_image_url': 'http://pbs.twimg.com/profile_images/1437792454913187858/fc-lJr0P_normal.jpg', 'profile_image_url_https': 'https://pbs.twimg.com/profile_images/1437792454913187858/fc-lJr0P_normal.jpg', 'profile_banner_url': 'https://pbs.twimg.com/profile_banners/2429700186/1630881228', 'profile_link_color': '1DA1F2', 'profile_sidebar_border_color': 'C0DEED', 'profile_sidebar_fill_color': 'DDEEF6', 'profile_text_color': '333333', 'profile_use_background_image': True, 'has_extended_profile': False, 'default_profile': True, 'default_profile_image': False, 'following': False, 'follow_request_sent': False, 'notifications': False, 'translator_type': 'none', 'withheld_in_countries': []}, id=2429700186, id_str='2429700186', name='kira rest', screen_name='sn0psy', location='', description='i believe in zayn supremacy ⌇꒳ ˓🥣 5/5 ⭐⟡ ⠀⠀ ⠀⠀⠀⠀ ⠀⠀ ⠀⠀ ⠀•°. *࿐ she/her ʚĭɞ', url='https://t.co/7nnqLoC8oW', entities={'url': {'urls': [{'url': 'https://t.co/7nnqLoC8oW', 'expanded_url': 'https://open.spotify.com/user/31h7y25i3h7xps3nigbbihmikh4e?si=ehV_MhsDSt2JJFmUkpUa4A&dl_branch=1', 'display_url': 'open.spotify.com/user/31h7y25i3…', 'indices': [0, 23]}]}, 'description': {'urls': []}}, protected=False, followers_count=1054, friends_count=1105, listed_count=9, created_at=datetime.datetime(2014, 4, 6, 1, 50, 9), favourites_count=1184, utc_offset=None, time_zone=None, geo_enabled=False, verified=False, statuses_count=4713, lang=None, contributors_enabled=False, is_translator=False, is_translation_enabled=False, profile_background_color='C0DEED', profile_background_image_url='http://abs.twimg.com/images/themes/theme1/bg.png', profile_background_image_url_https='https://abs.twimg.com/images/themes/theme1/bg.png', profile_background_tile=False, profile_image_url='http://pbs.twimg.com/profile_images/1437792454913187858/fc-lJr0P_normal.jpg', profile_image_url_https='https://pbs.twimg.com/profile_images/1437792454913187858/fc-lJr0P_normal.jpg', profile_banner_url='https://pbs.twimg.com/profile_banners/2429700186/1630881228', profile_link_color='1DA1F2', profile_sidebar_border_color='C0DEED', profile_sidebar_fill_color='DDEEF6', profile_text_color='333333', profile_use_background_image=True, has_extended_profile=False, default_profile=True, default_profile_image=False, following=False, follow_request_sent=False, notifications=False, translator_type='none', withheld_in_countries=[]), geo=None, coordinates=None, place=None, contributors=None, is_quote_status=False, retweet_count=0, favorite_count=0, favorited=False, retweeted=False, lang='in')"
            ]
          },
          "metadata": {},
          "execution_count": 20
        }
      ]
    },
    {
      "cell_type": "code",
      "metadata": {
        "id": "nhcYoUObnj3U",
        "colab": {
          "base_uri": "https://localhost:8080/"
        },
        "outputId": "8ec13022-8ca4-4d6d-8724-745206e70d0a"
      },
      "source": [
        "from google.colab import drive\n",
        "drive.mount('/content/drive')"
      ],
      "execution_count": null,
      "outputs": [
        {
          "output_type": "stream",
          "name": "stdout",
          "text": [
            "Drive already mounted at /content/drive; to attempt to forcibly remount, call drive.mount(\"/content/drive\", force_remount=True).\n"
          ]
        }
      ]
    },
    {
      "cell_type": "code",
      "metadata": {
        "id": "MefyXbaZL8eC",
        "colab": {
          "base_uri": "https://localhost:8080/"
        },
        "outputId": "8fea1ab2-128b-4f99-af08-796c26d0dc61"
      },
      "source": [
        "tweets = [t._json for t in T]\n",
        "print(' Berhasil mendapatkan {} tweets'.format(len(tweets)))"
      ],
      "execution_count": null,
      "outputs": [
        {
          "output_type": "stream",
          "name": "stdout",
          "text": [
            " Berhasil mendapatkan 100 tweets\n"
          ]
        }
      ]
    },
    {
      "cell_type": "code",
      "metadata": {
        "id": "kTkZ58OIMUVk",
        "colab": {
          "base_uri": "https://localhost:8080/"
        },
        "outputId": "19e7287f-8997-4ef0-baac-9614708fafeb"
      },
      "source": [
        "tweets[0]"
      ],
      "execution_count": null,
      "outputs": [
        {
          "output_type": "execute_result",
          "data": {
            "text/plain": [
              "{'contributors': None,\n",
              " 'coordinates': None,\n",
              " 'created_at': 'Mon Nov 01 15:27:59 +0000 2021',\n",
              " 'display_text_range': [0, 156],\n",
              " 'entities': {'hashtags': [], 'symbols': [], 'urls': [], 'user_mentions': []},\n",
              " 'favorite_count': 0,\n",
              " 'favorited': False,\n",
              " 'full_text': 'benci bgt sm yg nyebar foto khai :( kayanya yang heboh nyebar foto khai tuh bukan zquad,directioners,maupun fans gigi ga sih? terus knpsi mrk nyebarinnya 💀💀',\n",
              " 'geo': None,\n",
              " 'id': 1455194918951948288,\n",
              " 'id_str': '1455194918951948288',\n",
              " 'in_reply_to_screen_name': None,\n",
              " 'in_reply_to_status_id': None,\n",
              " 'in_reply_to_status_id_str': None,\n",
              " 'in_reply_to_user_id': None,\n",
              " 'in_reply_to_user_id_str': None,\n",
              " 'is_quote_status': False,\n",
              " 'lang': 'in',\n",
              " 'metadata': {'iso_language_code': 'in', 'result_type': 'recent'},\n",
              " 'place': None,\n",
              " 'retweet_count': 0,\n",
              " 'retweeted': False,\n",
              " 'source': '<a href=\"http://twitter.com/download/iphone\" rel=\"nofollow\">Twitter for iPhone</a>',\n",
              " 'truncated': False,\n",
              " 'user': {'contributors_enabled': False,\n",
              "  'created_at': 'Sun Apr 06 01:50:09 +0000 2014',\n",
              "  'default_profile': True,\n",
              "  'default_profile_image': False,\n",
              "  'description': 'i believe in zayn supremacy ⌇꒳ ˓🥣 5/5 ⭐⟡ ⠀⠀ ⠀⠀⠀⠀ ⠀⠀ ⠀⠀ ⠀•°. *࿐ she/her ʚĭɞ',\n",
              "  'entities': {'description': {'urls': []},\n",
              "   'url': {'urls': [{'display_url': 'open.spotify.com/user/31h7y25i3…',\n",
              "      'expanded_url': 'https://open.spotify.com/user/31h7y25i3h7xps3nigbbihmikh4e?si=ehV_MhsDSt2JJFmUkpUa4A&dl_branch=1',\n",
              "      'indices': [0, 23],\n",
              "      'url': 'https://t.co/7nnqLoC8oW'}]}},\n",
              "  'favourites_count': 1184,\n",
              "  'follow_request_sent': False,\n",
              "  'followers_count': 1054,\n",
              "  'following': False,\n",
              "  'friends_count': 1105,\n",
              "  'geo_enabled': False,\n",
              "  'has_extended_profile': False,\n",
              "  'id': 2429700186,\n",
              "  'id_str': '2429700186',\n",
              "  'is_translation_enabled': False,\n",
              "  'is_translator': False,\n",
              "  'lang': None,\n",
              "  'listed_count': 9,\n",
              "  'location': '',\n",
              "  'name': 'kira rest',\n",
              "  'notifications': False,\n",
              "  'profile_background_color': 'C0DEED',\n",
              "  'profile_background_image_url': 'http://abs.twimg.com/images/themes/theme1/bg.png',\n",
              "  'profile_background_image_url_https': 'https://abs.twimg.com/images/themes/theme1/bg.png',\n",
              "  'profile_background_tile': False,\n",
              "  'profile_banner_url': 'https://pbs.twimg.com/profile_banners/2429700186/1630881228',\n",
              "  'profile_image_url': 'http://pbs.twimg.com/profile_images/1437792454913187858/fc-lJr0P_normal.jpg',\n",
              "  'profile_image_url_https': 'https://pbs.twimg.com/profile_images/1437792454913187858/fc-lJr0P_normal.jpg',\n",
              "  'profile_link_color': '1DA1F2',\n",
              "  'profile_sidebar_border_color': 'C0DEED',\n",
              "  'profile_sidebar_fill_color': 'DDEEF6',\n",
              "  'profile_text_color': '333333',\n",
              "  'profile_use_background_image': True,\n",
              "  'protected': False,\n",
              "  'screen_name': 'sn0psy',\n",
              "  'statuses_count': 4713,\n",
              "  'time_zone': None,\n",
              "  'translator_type': 'none',\n",
              "  'url': 'https://t.co/7nnqLoC8oW',\n",
              "  'utc_offset': None,\n",
              "  'verified': False,\n",
              "  'withheld_in_countries': []}}"
            ]
          },
          "metadata": {},
          "execution_count": 29
        }
      ]
    },
    {
      "cell_type": "markdown",
      "metadata": {
        "id": "97BD8xdXMm4U"
      },
      "source": [
        "**Mengambil Data Lebih Banyak**"
      ]
    },
    {
      "cell_type": "code",
      "metadata": {
        "id": "R6vATyS_PX32",
        "colab": {
          "base_uri": "https://localhost:8080/"
        },
        "outputId": "af149bde-bd8d-4842-f048-ef8e22d80d8c"
      },
      "source": [
        "last_id = T[-1]._json['id'] - 1\n",
        "last_id"
      ],
      "execution_count": null,
      "outputs": [
        {
          "output_type": "execute_result",
          "data": {
            "text/plain": [
              "1455153880388440073"
            ]
          },
          "metadata": {},
          "execution_count": 23
        }
      ]
    },
    {
      "cell_type": "code",
      "metadata": {
        "id": "8KTp_FIaoeyP",
        "colab": {
          "base_uri": "https://localhost:8080/",
          "height": 214
        },
        "outputId": "0d001b95-9e1b-4a70-c7d5-a7b3dbff3b90"
      },
      "source": [
        "T = twitter.search(q=topic, lang=bahasa, count=N, tweet_mode = 'extended', max_id=last_id)\n",
        "tweets.extend([t._json for t in T])\n",
        "\n",
        "print('Jumlah data sekarang = ', len(tweets))"
      ],
      "execution_count": null,
      "outputs": [
        {
          "output_type": "error",
          "ename": "NameError",
          "evalue": "ignored",
          "traceback": [
            "\u001b[0;31m---------------------------------------------------------------------------\u001b[0m",
            "\u001b[0;31mNameError\u001b[0m                                 Traceback (most recent call last)",
            "\u001b[0;32m<ipython-input-35-c4cc44e544dc>\u001b[0m in \u001b[0;36m<module>\u001b[0;34m()\u001b[0m\n\u001b[0;32m----> 1\u001b[0;31m \u001b[0mT\u001b[0m \u001b[0;34m=\u001b[0m \u001b[0mtwitter\u001b[0m\u001b[0;34m.\u001b[0m\u001b[0msearch\u001b[0m\u001b[0;34m(\u001b[0m\u001b[0mq\u001b[0m\u001b[0;34m=\u001b[0m\u001b[0mtopic\u001b[0m\u001b[0;34m,\u001b[0m \u001b[0mlang\u001b[0m\u001b[0;34m=\u001b[0m\u001b[0mbahasa\u001b[0m\u001b[0;34m,\u001b[0m \u001b[0mcount\u001b[0m\u001b[0;34m=\u001b[0m\u001b[0mN\u001b[0m\u001b[0;34m,\u001b[0m \u001b[0mtweet_mode\u001b[0m \u001b[0;34m=\u001b[0m \u001b[0;34m'extended'\u001b[0m\u001b[0;34m,\u001b[0m \u001b[0mmax_id\u001b[0m\u001b[0;34m=\u001b[0m\u001b[0mlast_id\u001b[0m\u001b[0;34m)\u001b[0m\u001b[0;34m\u001b[0m\u001b[0;34m\u001b[0m\u001b[0m\n\u001b[0m\u001b[1;32m      2\u001b[0m \u001b[0mtweets\u001b[0m\u001b[0;34m.\u001b[0m\u001b[0mextend\u001b[0m\u001b[0;34m(\u001b[0m\u001b[0;34m[\u001b[0m\u001b[0mt\u001b[0m\u001b[0;34m.\u001b[0m\u001b[0m_json\u001b[0m \u001b[0;32mfor\u001b[0m \u001b[0mt\u001b[0m \u001b[0;32min\u001b[0m \u001b[0mT\u001b[0m\u001b[0;34m]\u001b[0m\u001b[0;34m)\u001b[0m\u001b[0;34m\u001b[0m\u001b[0;34m\u001b[0m\u001b[0m\n\u001b[1;32m      3\u001b[0m \u001b[0;34m\u001b[0m\u001b[0m\n\u001b[1;32m      4\u001b[0m \u001b[0mprint\u001b[0m\u001b[0;34m(\u001b[0m\u001b[0;34m'Jumlah data sekarang = '\u001b[0m\u001b[0;34m,\u001b[0m \u001b[0mlen\u001b[0m\u001b[0;34m(\u001b[0m\u001b[0mtweets\u001b[0m\u001b[0;34m)\u001b[0m\u001b[0;34m)\u001b[0m\u001b[0;34m\u001b[0m\u001b[0;34m\u001b[0m\u001b[0m\n",
            "\u001b[0;31mNameError\u001b[0m: name 'twitter' is not defined"
          ]
        }
      ]
    },
    {
      "cell_type": "code",
      "metadata": {
        "id": "y752vpZgRytk"
      },
      "source": [
        "def saveTweets(tweets, file='Tweets.json'): #in Json Format\n",
        "    with open(file, 'w') as f:\n",
        "        for t in tweets:\n",
        "            try:\n",
        "                f.write(json.dumps(t)+'\\n')\n",
        "            except:\n",
        "                pass"
      ],
      "execution_count": null,
      "outputs": []
    },
    {
      "cell_type": "code",
      "metadata": {
        "id": "qZWt9L2cSLC2",
        "colab": {
          "base_uri": "https://localhost:8080/"
        },
        "outputId": "ee5608f4-2fff-4ec0-8afe-9f2e36f2ad2a"
      },
      "source": [
        "# Menyimpan hasil crawling twitter\n",
        "fileName = 'khai.json'\n",
        "saveTweets(tweets, file=fileName)\n",
        "print('Saved to '+fileName)"
      ],
      "execution_count": null,
      "outputs": [
        {
          "output_type": "stream",
          "name": "stdout",
          "text": [
            "Saved to khai.json\n"
          ]
        }
      ]
    },
    {
      "cell_type": "markdown",
      "metadata": {
        "id": "gAK9rP6ToS0H"
      },
      "source": [
        ""
      ]
    },
    {
      "cell_type": "code",
      "metadata": {
        "id": "r7BsfK6VSwzD",
        "colab": {
          "base_uri": "https://localhost:8080/"
        },
        "outputId": "352a2f82-122e-4fd4-ea77-44250b7115f4"
      },
      "source": [
        "!pip install unidecode twython tweepy beautifulsoup4 tika"
      ],
      "execution_count": null,
      "outputs": [
        {
          "output_type": "stream",
          "name": "stdout",
          "text": [
            "Requirement already satisfied: unidecode in /usr/local/lib/python3.7/dist-packages (1.3.2)\n",
            "Requirement already satisfied: twython in /usr/local/lib/python3.7/dist-packages (3.9.1)\n",
            "Requirement already satisfied: tweepy in /usr/local/lib/python3.7/dist-packages (3.10.0)\n",
            "Requirement already satisfied: beautifulsoup4 in /usr/local/lib/python3.7/dist-packages (4.6.3)\n",
            "Requirement already satisfied: tika in /usr/local/lib/python3.7/dist-packages (1.24)\n",
            "Requirement already satisfied: requests-oauthlib>=0.4.0 in /usr/local/lib/python3.7/dist-packages (from twython) (1.3.0)\n",
            "Requirement already satisfied: requests>=2.1.0 in /usr/local/lib/python3.7/dist-packages (from twython) (2.23.0)\n",
            "Requirement already satisfied: urllib3!=1.25.0,!=1.25.1,<1.26,>=1.21.1 in /usr/local/lib/python3.7/dist-packages (from requests>=2.1.0->twython) (1.24.3)\n",
            "Requirement already satisfied: idna<3,>=2.5 in /usr/local/lib/python3.7/dist-packages (from requests>=2.1.0->twython) (2.10)\n",
            "Requirement already satisfied: chardet<4,>=3.0.2 in /usr/local/lib/python3.7/dist-packages (from requests>=2.1.0->twython) (3.0.4)\n",
            "Requirement already satisfied: certifi>=2017.4.17 in /usr/local/lib/python3.7/dist-packages (from requests>=2.1.0->twython) (2021.5.30)\n",
            "Requirement already satisfied: oauthlib>=3.0.0 in /usr/local/lib/python3.7/dist-packages (from requests-oauthlib>=0.4.0->twython) (3.1.1)\n",
            "Requirement already satisfied: six>=1.10.0 in /usr/local/lib/python3.7/dist-packages (from tweepy) (1.15.0)\n",
            "Requirement already satisfied: PySocks!=1.5.7,>=1.5.6 in /usr/local/lib/python3.7/dist-packages (from requests>=2.1.0->twython) (1.7.1)\n",
            "Requirement already satisfied: setuptools in /usr/local/lib/python3.7/dist-packages (from tika) (57.4.0)\n"
          ]
        }
      ]
    },
    {
      "cell_type": "code",
      "metadata": {
        "id": "oh7hyz4AS-yu"
      },
      "source": [
        "import warnings; warnings.simplefilter('ignore')\n",
        "import tweepy, json, nltk, urllib.request, requests\n",
        "from urllib.request import Request, urlopen\n",
        "from twython import TwythonStreamer\n",
        "from bs4 import BeautifulSoup as bs\n",
        "import pandas as pd\n",
        "import numpy as np"
      ],
      "execution_count": null,
      "outputs": []
    },
    {
      "cell_type": "code",
      "metadata": {
        "id": "D7ZUGoZ5TGTo"
      },
      "source": [
        "def loadTweets(file='Tweets.json'):\n",
        "    f=open(file,encoding='utf-8', errors ='ignore', mode='r')\n",
        "    T=f.readlines();f.close()\n",
        "    for i,t in enumerate(T):\n",
        "        T[i] = json.loads(t.strip())\n",
        "    return T"
      ],
      "execution_count": null,
      "outputs": []
    },
    {
      "cell_type": "code",
      "metadata": {
        "id": "cmH5dyX6TMAG"
      },
      "source": [
        "BS = loadTweets(file='/content/drive/MyDrive/khai.json')"
      ],
      "execution_count": null,
      "outputs": []
    },
    {
      "cell_type": "code",
      "metadata": {
        "id": "EUXElTlTUnUm"
      },
      "source": [
        "df = pd.DataFrame(BS)"
      ],
      "execution_count": null,
      "outputs": []
    },
    {
      "cell_type": "code",
      "metadata": {
        "id": "2yUjPCHgVEp8",
        "colab": {
          "base_uri": "https://localhost:8080/"
        },
        "outputId": "96a46f60-6a7f-400d-dd49-c0bf54524150"
      },
      "source": [
        "df.keys()"
      ],
      "execution_count": null,
      "outputs": [
        {
          "output_type": "execute_result",
          "data": {
            "text/plain": [
              "Index(['created_at', 'id', 'id_str', 'full_text', 'truncated',\n",
              "       'display_text_range', 'entities', 'metadata', 'source',\n",
              "       'in_reply_to_status_id', 'in_reply_to_status_id_str',\n",
              "       'in_reply_to_user_id', 'in_reply_to_user_id_str',\n",
              "       'in_reply_to_screen_name', 'user', 'geo', 'coordinates', 'place',\n",
              "       'contributors', 'retweeted_status', 'is_quote_status', 'retweet_count',\n",
              "       'favorite_count', 'favorited', 'retweeted', 'lang', 'extended_entities',\n",
              "       'possibly_sensitive', 'quoted_status_id', 'quoted_status_id_str',\n",
              "       'quoted_status'],\n",
              "      dtype='object')"
            ]
          },
          "metadata": {},
          "execution_count": 40
        }
      ]
    },
    {
      "cell_type": "code",
      "metadata": {
        "id": "1towrriCVKM0"
      },
      "source": [
        "df = df[['created_at','full_text','place','retweet_count','favorite_count']]"
      ],
      "execution_count": null,
      "outputs": []
    },
    {
      "cell_type": "code",
      "metadata": {
        "id": "Z2O5EowYVRab"
      },
      "source": [
        "user = [t['user'] for t in BS]"
      ],
      "execution_count": null,
      "outputs": []
    },
    {
      "cell_type": "code",
      "metadata": {
        "id": "9E31lJMDVRjs"
      },
      "source": [
        "df_user = pd.DataFrame(user)"
      ],
      "execution_count": null,
      "outputs": []
    },
    {
      "cell_type": "code",
      "metadata": {
        "id": "hGycBx0nVcjb",
        "colab": {
          "base_uri": "https://localhost:8080/"
        },
        "outputId": "cb4d02f5-c0e8-44e3-a118-eb23d92b5af6"
      },
      "source": [
        "df_user.keys()"
      ],
      "execution_count": null,
      "outputs": [
        {
          "output_type": "execute_result",
          "data": {
            "text/plain": [
              "Index(['id', 'id_str', 'name', 'screen_name', 'location', 'description', 'url',\n",
              "       'entities', 'protected', 'followers_count', 'friends_count',\n",
              "       'listed_count', 'created_at', 'favourites_count', 'utc_offset',\n",
              "       'time_zone', 'geo_enabled', 'verified', 'statuses_count', 'lang',\n",
              "       'contributors_enabled', 'is_translator', 'is_translation_enabled',\n",
              "       'profile_background_color', 'profile_background_image_url',\n",
              "       'profile_background_image_url_https', 'profile_background_tile',\n",
              "       'profile_image_url', 'profile_image_url_https', 'profile_banner_url',\n",
              "       'profile_link_color', 'profile_sidebar_border_color',\n",
              "       'profile_sidebar_fill_color', 'profile_text_color',\n",
              "       'profile_use_background_image', 'has_extended_profile',\n",
              "       'default_profile', 'default_profile_image', 'following',\n",
              "       'follow_request_sent', 'notifications', 'translator_type',\n",
              "       'withheld_in_countries'],\n",
              "      dtype='object')"
            ]
          },
          "metadata": {},
          "execution_count": 44
        }
      ]
    },
    {
      "cell_type": "code",
      "metadata": {
        "id": "RaPOYyPSViF-"
      },
      "source": [
        "df_user = df_user[['id','id_str','name','screen_name',\\\n",
        "                  'location','followers_count','friends_count',\\\n",
        "                   'listed_count', 'created_at', 'favourites_count']]"
      ],
      "execution_count": null,
      "outputs": []
    },
    {
      "cell_type": "code",
      "metadata": {
        "id": "OAorkY2gVmm2"
      },
      "source": [
        "df2 = pd.concat([df_user, df], axis=1)"
      ],
      "execution_count": null,
      "outputs": []
    },
    {
      "cell_type": "code",
      "metadata": {
        "id": "k_cAno1kVqZf",
        "colab": {
          "base_uri": "https://localhost:8080/",
          "height": 496
        },
        "outputId": "c81703fd-43a0-4af2-b698-388ae38c1290"
      },
      "source": [
        "df2.head()"
      ],
      "execution_count": null,
      "outputs": [
        {
          "output_type": "execute_result",
          "data": {
            "text/html": [
              "<div>\n",
              "<style scoped>\n",
              "    .dataframe tbody tr th:only-of-type {\n",
              "        vertical-align: middle;\n",
              "    }\n",
              "\n",
              "    .dataframe tbody tr th {\n",
              "        vertical-align: top;\n",
              "    }\n",
              "\n",
              "    .dataframe thead th {\n",
              "        text-align: right;\n",
              "    }\n",
              "</style>\n",
              "<table border=\"1\" class=\"dataframe\">\n",
              "  <thead>\n",
              "    <tr style=\"text-align: right;\">\n",
              "      <th></th>\n",
              "      <th>id</th>\n",
              "      <th>id_str</th>\n",
              "      <th>name</th>\n",
              "      <th>screen_name</th>\n",
              "      <th>location</th>\n",
              "      <th>followers_count</th>\n",
              "      <th>friends_count</th>\n",
              "      <th>listed_count</th>\n",
              "      <th>created_at</th>\n",
              "      <th>favourites_count</th>\n",
              "      <th>created_at</th>\n",
              "      <th>full_text</th>\n",
              "      <th>place</th>\n",
              "      <th>retweet_count</th>\n",
              "      <th>favorite_count</th>\n",
              "    </tr>\n",
              "  </thead>\n",
              "  <tbody>\n",
              "    <tr>\n",
              "      <th>0</th>\n",
              "      <td>1133355196212367366</td>\n",
              "      <td>1133355196212367366</td>\n",
              "      <td>P</td>\n",
              "      <td>madubyjohnny</td>\n",
              "      <td>Resonance</td>\n",
              "      <td>27</td>\n",
              "      <td>126</td>\n",
              "      <td>0</td>\n",
              "      <td>Tue May 28 12:51:50 +0000 2019</td>\n",
              "      <td>3466</td>\n",
              "      <td>Fri Oct 29 08:34:18 +0000 2021</td>\n",
              "      <td>RT @niazkilam1201: Zayn hanya seorang Ayah yan...</td>\n",
              "      <td>None</td>\n",
              "      <td>1238</td>\n",
              "      <td>0</td>\n",
              "    </tr>\n",
              "    <tr>\n",
              "      <th>1</th>\n",
              "      <td>1315429334589468672</td>\n",
              "      <td>1315429334589468672</td>\n",
              "      <td>Ujungjeka</td>\n",
              "      <td>ujungjeka</td>\n",
              "      <td>Denpasar Selatan, Indonesia</td>\n",
              "      <td>19</td>\n",
              "      <td>69</td>\n",
              "      <td>0</td>\n",
              "      <td>Sun Oct 11 23:09:59 +0000 2020</td>\n",
              "      <td>5229</td>\n",
              "      <td>Fri Oct 29 08:34:00 +0000 2021</td>\n",
              "      <td>@niazkilam1201 Bnr ksian khai jg</td>\n",
              "      <td>None</td>\n",
              "      <td>0</td>\n",
              "      <td>0</td>\n",
              "    </tr>\n",
              "    <tr>\n",
              "      <th>2</th>\n",
              "      <td>1426798656594714627</td>\n",
              "      <td>1426798656594714627</td>\n",
              "      <td>Fhelanidr</td>\n",
              "      <td>Fhelanidr1</td>\n",
              "      <td></td>\n",
              "      <td>11</td>\n",
              "      <td>28</td>\n",
              "      <td>0</td>\n",
              "      <td>Sun Aug 15 06:51:31 +0000 2021</td>\n",
              "      <td>1819</td>\n",
              "      <td>Fri Oct 29 08:33:57 +0000 2021</td>\n",
              "      <td>@fuckpeo__ @ariarsisi_horan Gua kaget anjrit u...</td>\n",
              "      <td>None</td>\n",
              "      <td>0</td>\n",
              "      <td>0</td>\n",
              "    </tr>\n",
              "    <tr>\n",
              "      <th>3</th>\n",
              "      <td>924357553</td>\n",
              "      <td>924357553</td>\n",
              "      <td>-</td>\n",
              "      <td>_mayangs</td>\n",
              "      <td></td>\n",
              "      <td>95</td>\n",
              "      <td>45</td>\n",
              "      <td>0</td>\n",
              "      <td>Sun Nov 04 00:51:55 +0000 2012</td>\n",
              "      <td>3132</td>\n",
              "      <td>Fri Oct 29 08:33:53 +0000 2021</td>\n",
              "      <td>@arsiuul @GiGiHadid khai lang nap khop khapunl...</td>\n",
              "      <td>None</td>\n",
              "      <td>0</td>\n",
              "      <td>0</td>\n",
              "    </tr>\n",
              "    <tr>\n",
              "      <th>4</th>\n",
              "      <td>787905967597899776</td>\n",
              "      <td>787905967597899776</td>\n",
              "      <td>Ital🐋</td>\n",
              "      <td>Kssstal</td>\n",
              "      <td>Her.</td>\n",
              "      <td>10</td>\n",
              "      <td>33</td>\n",
              "      <td>1</td>\n",
              "      <td>Mon Oct 17 06:39:56 +0000 2016</td>\n",
              "      <td>292</td>\n",
              "      <td>Fri Oct 29 08:33:42 +0000 2021</td>\n",
              "      <td>RT @niazkilam1201: Zayn hanya seorang Ayah yan...</td>\n",
              "      <td>None</td>\n",
              "      <td>1238</td>\n",
              "      <td>0</td>\n",
              "    </tr>\n",
              "  </tbody>\n",
              "</table>\n",
              "</div>"
            ],
            "text/plain": [
              "                    id               id_str  ... retweet_count favorite_count\n",
              "0  1133355196212367366  1133355196212367366  ...          1238              0\n",
              "1  1315429334589468672  1315429334589468672  ...             0              0\n",
              "2  1426798656594714627  1426798656594714627  ...             0              0\n",
              "3            924357553            924357553  ...             0              0\n",
              "4   787905967597899776   787905967597899776  ...          1238              0\n",
              "\n",
              "[5 rows x 15 columns]"
            ]
          },
          "metadata": {},
          "execution_count": 47
        }
      ]
    },
    {
      "cell_type": "code",
      "metadata": {
        "id": "jBVolknPVxCh",
        "colab": {
          "base_uri": "https://localhost:8080/"
        },
        "outputId": "283309e1-92ac-440a-8d33-2686966d0780"
      },
      "source": [
        "df2.info()"
      ],
      "execution_count": null,
      "outputs": [
        {
          "output_type": "stream",
          "name": "stdout",
          "text": [
            "<class 'pandas.core.frame.DataFrame'>\n",
            "RangeIndex: 30083 entries, 0 to 30082\n",
            "Data columns (total 15 columns):\n",
            " #   Column            Non-Null Count  Dtype \n",
            "---  ------            --------------  ----- \n",
            " 0   id                30083 non-null  int64 \n",
            " 1   id_str            30083 non-null  object\n",
            " 2   name              30083 non-null  object\n",
            " 3   screen_name       30083 non-null  object\n",
            " 4   location          30083 non-null  object\n",
            " 5   followers_count   30083 non-null  int64 \n",
            " 6   friends_count     30083 non-null  int64 \n",
            " 7   listed_count      30083 non-null  int64 \n",
            " 8   created_at        30083 non-null  object\n",
            " 9   favourites_count  30083 non-null  int64 \n",
            " 10  created_at        30083 non-null  object\n",
            " 11  full_text         30083 non-null  object\n",
            " 12  place             57 non-null     object\n",
            " 13  retweet_count     30083 non-null  int64 \n",
            " 14  favorite_count    30083 non-null  int64 \n",
            "dtypes: int64(7), object(8)\n",
            "memory usage: 3.4+ MB\n"
          ]
        }
      ]
    },
    {
      "cell_type": "markdown",
      "metadata": {
        "id": "AxKXOcRhW8AA"
      },
      "source": [
        "**EDA Dasar**\n"
      ]
    },
    {
      "cell_type": "code",
      "metadata": {
        "id": "d5suLQmzW_tM",
        "colab": {
          "base_uri": "https://localhost:8080/",
          "height": 52
        },
        "outputId": "2d7e85d5-d2b1-4880-a79c-5c7ce204cb42"
      },
      "source": [
        "print(\"tweet dari user dengan retweet terbanyak\")\n",
        "d_ = df2.loc[df2['retweet_count'].idxmax()]\n",
        "d_['full_text']"
      ],
      "execution_count": null,
      "outputs": [
        {
          "output_type": "stream",
          "name": "stdout",
          "text": [
            "tweet dari user dengan retweet terbanyak\n"
          ]
        },
        {
          "output_type": "execute_result",
          "data": {
            "application/vnd.google.colaboratory.intrinsic+json": {
              "type": "string"
            },
            "text/plain": [
              "'RT @BTS_twt: See U soon😙💜 https://t.co/Vyr6t1G9Ed'"
            ]
          },
          "metadata": {},
          "execution_count": 49
        }
      ]
    },
    {
      "cell_type": "code",
      "metadata": {
        "id": "MBi9n2cMV4ZD",
        "colab": {
          "base_uri": "https://localhost:8080/",
          "height": 52
        },
        "outputId": "0cda4600-2886-4b8d-d61e-a292af1450d9"
      },
      "source": [
        "print(\"tweet dari user dengan like terbanyak\")\n",
        "l_ = df2.loc[df2['favorite_count'].idxmax()]\n",
        "l_['full_text']"
      ],
      "execution_count": null,
      "outputs": [
        {
          "output_type": "stream",
          "name": "stdout",
          "text": [
            "tweet dari user dengan like terbanyak\n"
          ]
        },
        {
          "output_type": "execute_result",
          "data": {
            "application/vnd.google.colaboratory.intrinsic+json": {
              "type": "string"
            },
            "text/plain": [
              "'@25TBSLOUIS @zaynmalik Someone from  g’s family leaked pictures of Khai to the press'"
            ]
          },
          "metadata": {},
          "execution_count": 50
        }
      ]
    },
    {
      "cell_type": "code",
      "metadata": {
        "id": "-9DTExvhXNT2",
        "colab": {
          "base_uri": "https://localhost:8080/",
          "height": 683
        },
        "outputId": "5ce51f9d-3c9d-45d5-ee9d-baf48ce92698"
      },
      "source": [
        "followers = df2.sort_values(by=[\"followers_count\"], ascending=False)\n",
        "followers.head()"
      ],
      "execution_count": null,
      "outputs": [
        {
          "output_type": "execute_result",
          "data": {
            "text/html": [
              "<div>\n",
              "<style scoped>\n",
              "    .dataframe tbody tr th:only-of-type {\n",
              "        vertical-align: middle;\n",
              "    }\n",
              "\n",
              "    .dataframe tbody tr th {\n",
              "        vertical-align: top;\n",
              "    }\n",
              "\n",
              "    .dataframe thead th {\n",
              "        text-align: right;\n",
              "    }\n",
              "</style>\n",
              "<table border=\"1\" class=\"dataframe\">\n",
              "  <thead>\n",
              "    <tr style=\"text-align: right;\">\n",
              "      <th></th>\n",
              "      <th>id</th>\n",
              "      <th>id_str</th>\n",
              "      <th>name</th>\n",
              "      <th>screen_name</th>\n",
              "      <th>location</th>\n",
              "      <th>followers_count</th>\n",
              "      <th>friends_count</th>\n",
              "      <th>listed_count</th>\n",
              "      <th>created_at</th>\n",
              "      <th>favourites_count</th>\n",
              "      <th>created_at</th>\n",
              "      <th>full_text</th>\n",
              "      <th>place</th>\n",
              "      <th>retweet_count</th>\n",
              "      <th>favorite_count</th>\n",
              "    </tr>\n",
              "  </thead>\n",
              "  <tbody>\n",
              "    <tr>\n",
              "      <th>25827</th>\n",
              "      <td>2883841</td>\n",
              "      <td>2883841</td>\n",
              "      <td>E! News</td>\n",
              "      <td>enews</td>\n",
              "      <td>Hollywood, CA</td>\n",
              "      <td>11716560</td>\n",
              "      <td>111586</td>\n",
              "      <td>32753</td>\n",
              "      <td>Thu Mar 29 19:42:27 +0000 2007</td>\n",
              "      <td>28752</td>\n",
              "      <td>Wed Oct 27 21:50:56 +0000 2021</td>\n",
              "      <td>Bella Hadid Gushing Over Being an Aunt to Gigi...</td>\n",
              "      <td>None</td>\n",
              "      <td>16</td>\n",
              "      <td>205</td>\n",
              "    </tr>\n",
              "    <tr>\n",
              "      <th>25710</th>\n",
              "      <td>25589776</td>\n",
              "      <td>25589776</td>\n",
              "      <td>People</td>\n",
              "      <td>people</td>\n",
              "      <td></td>\n",
              "      <td>7618517</td>\n",
              "      <td>1718</td>\n",
              "      <td>31042</td>\n",
              "      <td>Fri Mar 20 22:30:24 +0000 2009</td>\n",
              "      <td>4808</td>\n",
              "      <td>Thu Oct 28 01:12:02 +0000 2021</td>\n",
              "      <td>Bella Hadid Calls Niece Khai 'the Biggest Gift...</td>\n",
              "      <td>None</td>\n",
              "      <td>3</td>\n",
              "      <td>42</td>\n",
              "    </tr>\n",
              "    <tr>\n",
              "      <th>17548</th>\n",
              "      <td>25589776</td>\n",
              "      <td>25589776</td>\n",
              "      <td>People</td>\n",
              "      <td>people</td>\n",
              "      <td></td>\n",
              "      <td>7618515</td>\n",
              "      <td>1718</td>\n",
              "      <td>31042</td>\n",
              "      <td>Fri Mar 20 22:30:24 +0000 2009</td>\n",
              "      <td>4808</td>\n",
              "      <td>Thu Oct 28 23:44:09 +0000 2021</td>\n",
              "      <td>Gigi Hadid Issues Statement After Report Zayn ...</td>\n",
              "      <td>None</td>\n",
              "      <td>47</td>\n",
              "      <td>309</td>\n",
              "    </tr>\n",
              "    <tr>\n",
              "      <th>21061</th>\n",
              "      <td>25589776</td>\n",
              "      <td>25589776</td>\n",
              "      <td>People</td>\n",
              "      <td>people</td>\n",
              "      <td></td>\n",
              "      <td>7618515</td>\n",
              "      <td>1718</td>\n",
              "      <td>31042</td>\n",
              "      <td>Fri Mar 20 22:30:24 +0000 2009</td>\n",
              "      <td>4808</td>\n",
              "      <td>Thu Oct 28 20:28:06 +0000 2021</td>\n",
              "      <td>Zayn Malik Responds After Report He Struck Gig...</td>\n",
              "      <td>None</td>\n",
              "      <td>33</td>\n",
              "      <td>174</td>\n",
              "    </tr>\n",
              "    <tr>\n",
              "      <th>2434</th>\n",
              "      <td>19897138</td>\n",
              "      <td>19897138</td>\n",
              "      <td>IndiaToday</td>\n",
              "      <td>IndiaToday</td>\n",
              "      <td>India</td>\n",
              "      <td>5831134</td>\n",
              "      <td>246</td>\n",
              "      <td>6302</td>\n",
              "      <td>Mon Feb 02 07:21:54 +0000 2009</td>\n",
              "      <td>4444</td>\n",
              "      <td>Fri Oct 29 07:11:27 +0000 2021</td>\n",
              "      <td>\"Gigi Hadid is solely focused on the best for ...</td>\n",
              "      <td>None</td>\n",
              "      <td>31</td>\n",
              "      <td>268</td>\n",
              "    </tr>\n",
              "  </tbody>\n",
              "</table>\n",
              "</div>"
            ],
            "text/plain": [
              "             id    id_str        name  ... place retweet_count  favorite_count\n",
              "25827   2883841   2883841     E! News  ...  None            16             205\n",
              "25710  25589776  25589776      People  ...  None             3              42\n",
              "17548  25589776  25589776      People  ...  None            47             309\n",
              "21061  25589776  25589776      People  ...  None            33             174\n",
              "2434   19897138  19897138  IndiaToday  ...  None            31             268\n",
              "\n",
              "[5 rows x 15 columns]"
            ]
          },
          "metadata": {},
          "execution_count": 51
        }
      ]
    },
    {
      "cell_type": "code",
      "metadata": {
        "id": "0hT42oTBXSPs",
        "colab": {
          "base_uri": "https://localhost:8080/",
          "height": 97
        },
        "outputId": "abb03ea1-d3f6-42cb-9541-4c64bf57fe52"
      },
      "source": [
        "print('user yang nge-tweet terbanyak')\n",
        "username = df2.groupby([\"name\",\"screen_name\"])\n",
        "\n",
        "u_ = username[\"name\"].count() \\\n",
        "                        .reset_index(name='count') \\\n",
        "                        .sort_values(['count'], \\\n",
        "                        ascending=False)\n",
        "\n",
        "u_.head(1)"
      ],
      "execution_count": null,
      "outputs": [
        {
          "output_type": "stream",
          "name": "stdout",
          "text": [
            "user yang nge-tweet terbanyak\n"
          ]
        },
        {
          "output_type": "execute_result",
          "data": {
            "text/html": [
              "<div>\n",
              "<style scoped>\n",
              "    .dataframe tbody tr th:only-of-type {\n",
              "        vertical-align: middle;\n",
              "    }\n",
              "\n",
              "    .dataframe tbody tr th {\n",
              "        vertical-align: top;\n",
              "    }\n",
              "\n",
              "    .dataframe thead th {\n",
              "        text-align: right;\n",
              "    }\n",
              "</style>\n",
              "<table border=\"1\" class=\"dataframe\">\n",
              "  <thead>\n",
              "    <tr style=\"text-align: right;\">\n",
              "      <th></th>\n",
              "      <th>name</th>\n",
              "      <th>screen_name</th>\n",
              "      <th>count</th>\n",
              "    </tr>\n",
              "  </thead>\n",
              "  <tbody>\n",
              "    <tr>\n",
              "      <th>10663</th>\n",
              "      <td>khai | sol day!</td>\n",
              "      <td>khai_ackrmn</td>\n",
              "      <td>277</td>\n",
              "    </tr>\n",
              "  </tbody>\n",
              "</table>\n",
              "</div>"
            ],
            "text/plain": [
              "                  name  screen_name  count\n",
              "10663  khai | sol day!  khai_ackrmn    277"
            ]
          },
          "metadata": {},
          "execution_count": 52
        }
      ]
    },
    {
      "cell_type": "code",
      "metadata": {
        "colab": {
          "base_uri": "https://localhost:8080/",
          "height": 279
        },
        "id": "KvjLwUzpoaPh",
        "outputId": "20aa65e1-679c-4b46-9c1b-2c5e84bcb747"
      },
      "source": [
        "import seaborn as sns, pandas as pd\n",
        "\n",
        "p = sns.countplot(y=df2.location, order=pd.value_counts(df2.location).iloc[2:15].index)"
      ],
      "execution_count": null,
      "outputs": [
        {
          "output_type": "display_data",
          "data": {
            "image/png": "[encoded data removed]",
            "text/plain": [
              "<Figure size 432x288 with 1 Axes>"
            ]
          },
          "metadata": {
            "needs_background": "light"
          }
        }
      ]
    },
    {
      "cell_type": "code",
      "metadata": {
        "colab": {
          "base_uri": "https://localhost:8080/"
        },
        "id": "LUa1ouZkoQjB",
        "outputId": "cefe70e9-6fc2-4f77-a2e4-3c3da1f1883b"
      },
      "source": [
        "!pip install unidecode docx2txt\n",
        "import json\n",
        "import pandas as pd\n",
        "import re, os, itertools\n",
        "from tqdm import tqdm\n",
        "from nltk.stem import WordNetLemmatizer\n",
        "from nltk import sent_tokenize, word_tokenize\n",
        "from spacy.lang.id import Indonesian\n",
        "from html import unescape\n",
        "from unidecode import unidecode\n",
        "from nltk.tokenize import TweetTokenizer; Tokenizer = TweetTokenizer(reduce_len=True)\n",
        "from nltk.stem import PorterStemmer;ps = PorterStemmer()\n",
        "from string import punctuation\n",
        "from textblob import TextBlob "
      ],
      "execution_count": null,
      "outputs": [
        {
          "output_type": "stream",
          "name": "stdout",
          "text": [
            "Requirement already satisfied: unidecode in /usr/local/lib/python3.7/dist-packages (1.3.2)\n",
            "Collecting docx2txt\n",
            "  Downloading docx2txt-0.8.tar.gz (2.8 kB)\n",
            "Building wheels for collected packages: docx2txt\n",
            "  Building wheel for docx2txt (setup.py) ... \u001b[?25l\u001b[?25hdone\n",
            "  Created wheel for docx2txt: filename=docx2txt-0.8-py3-none-any.whl size=3980 sha256=6cc1cd4642f3b540874260cb5091fa1953409812d05b5dbee6f9da6f4fd26d9f\n",
            "  Stored in directory: /root/.cache/pip/wheels/b7/20/b2/473e3aea9a0c0d3e7b2f7bd81d06d0794fec12752733d1f3a8\n",
            "Successfully built docx2txt\n",
            "Installing collected packages: docx2txt\n",
            "Successfully installed docx2txt-0.8\n"
          ]
        }
      ]
    },
    {
      "cell_type": "code",
      "metadata": {
        "id": "aMi7iVZkq5RE"
      },
      "source": [
        "data1= pd.read_json('/content/drive/MyDrive/khai.json', lines=True)\n",
        "data=pd.concat([data1])"
      ],
      "execution_count": null,
      "outputs": []
    },
    {
      "cell_type": "code",
      "metadata": {
        "colab": {
          "base_uri": "https://localhost:8080/"
        },
        "id": "GYFD-1YarK7k",
        "outputId": "f92fb790-b43b-4306-cf29-791a3cde711c"
      },
      "source": [
        "len(data)"
      ],
      "execution_count": null,
      "outputs": [
        {
          "output_type": "execute_result",
          "data": {
            "text/plain": [
              "30083"
            ]
          },
          "metadata": {},
          "execution_count": 55
        }
      ]
    },
    {
      "cell_type": "code",
      "metadata": {
        "colab": {
          "base_uri": "https://localhost:8080/"
        },
        "id": "9iWhJeiamn8i",
        "outputId": "e627c846-cd88-4ca0-ffc3-3ada223d387c"
      },
      "source": [
        "auth = tweepy.auth.OAuthHandler(Ck, Cs)\n",
        "auth.set_access_token(At, As)\n",
        "api = tweepy.API(auth)\n",
        "\n",
        "Geo, N = \"-6.700020,108.525833,25km\", 30  # HAti-hati jangan ada spasi di Lat-Lon-Radius\n",
        "qry = 'khai'\n",
        "for tweet in tweepy.Cursor(api.search, q=qry, count=100, geocode=Geo).items(N):\n",
        "    print([tweet.created_at, tweet.text.encode('utf-8'), tweet.user.id, tweet.geo])"
      ],
      "execution_count": null,
      "outputs": [
        {
          "output_type": "stream",
          "name": "stdout",
          "text": [
            "[datetime.datetime(2021, 10, 30, 7, 17, 20), b'@pilcachu @nurkhaal @AREAJULID mengungkap identitas khai, emg ada apa dgn khai?\\nmaap masih blm paham ktinggalan berita \\xf0\\x9f\\x98\\xad', 881367610612359169, None]\n",
            "[datetime.datetime(2021, 10, 30, 2, 59, 57), b'Zaddy semangat @zaynmalik Aku yakin kamu ga salah, dan aku yakin khai bangga punya papah kek kamu. Semangatt\\xe2\\x9d\\xa4\\n#WeAreWithZayn', 1190611152276877312, None]\n",
            "[datetime.datetime(2021, 10, 29, 7, 43, 47), b'@Askrlfess Followers baru ya nder. Itu Bella kecil bukan khai', 1215856234890330112, None]\n",
            "[datetime.datetime(2021, 10, 29, 6, 27, 32), b'Zayn, gigi, and Khai. Keluarga yg gaada celahnya kalo diomongin. \\n\\nKatanya sih dlm rumah tangga ada cobaannya masin\\xe2\\x80\\xa6 https://t.co/PR7HoYJUaJ', 1174632235770630144, None]\n",
            "[datetime.datetime(2021, 10, 29, 4, 28, 56), b'Bukannya nggk mau dengerin... Tapi coba klo di nasehatin.. Praktekin walaupun se (cuil). \\xf0\\x9f\\xa6\\x8c\\n\\n#Khai', 1256571404054523910, None]\n",
            "[datetime.datetime(2021, 10, 29, 3, 36, 31), b'mbah Yolanda gitu terus yaa anjir, mana udh ada statement yg confirm gigi sama Zayn putus lagi ah \\xf0\\x9f\\x92\\x94 Khai baik baik ya sayang\\xf0\\x9f\\x98\\xad', 1442097475720867843, None]\n",
            "[datetime.datetime(2021, 10, 29, 3, 27, 35), b'@inililie_ @daycrumbz @westenthu @Oryzaabhinaya padahal kemarin-kemarin kita habis bahas pengin mereka segera nikah\\xe2\\x80\\xa6 https://t.co/CIeqRs6wvM', 1092202961902530560, None]\n",
            "[datetime.datetime(2021, 10, 29, 3, 22, 48), b'Woilahhh dulu ga rela pas zayn sama perrie pisah terus sama gigi eh giliran dah ada khai kenapa pisah kasian khai y\\xe2\\x80\\xa6 https://t.co/aQU1Bg2qJb', 1371248988, None]\n",
            "[datetime.datetime(2021, 10, 29, 3, 18, 32), b'Strong beb @zaynmalik Keputusan kamu bener ko buat ngelindungi privasi khai, emg dasar mertua kamu aja yg apa2 haru\\xe2\\x80\\xa6 https://t.co/1omVSJ1bMs', 1190611152276877312, None]\n",
            "[datetime.datetime(2021, 10, 29, 1, 4, 12), b'@bertanyarl Hah umi sama baba\\xf0\\x9f\\x98\\xad padahal ga sengaja baru liat khai huhu', 1371248988, None]\n",
            "[datetime.datetime(2021, 10, 28, 12, 35, 50), b'@Khai__13 @BadmintonTalk Fb', 1208064454841126913, None]\n",
            "[datetime.datetime(2021, 10, 26, 4, 12, 36), b'@wiskyspie burjek khai?', 1170664737979322368, None]\n",
            "[datetime.datetime(2021, 10, 26, 2, 48, 32), b'@wiskyspie have a nice day khai khai', 1170664737979322368, None]\n"
          ]
        }
      ]
    },
    {
      "cell_type": "code",
      "metadata": {
        "colab": {
          "base_uri": "https://localhost:8080/",
          "height": 231
        },
        "id": "1oV8isqymqT1",
        "outputId": "26a14438-2024-4a4a-c6e8-43e3f48631b0"
      },
      "source": [
        ""
      ],
      "execution_count": null,
      "outputs": [
        {
          "output_type": "error",
          "ename": "NameError",
          "evalue": "ignored",
          "traceback": [
            "\u001b[0;31m---------------------------------------------------------------------------\u001b[0m",
            "\u001b[0;31mNameError\u001b[0m                                 Traceback (most recent call last)",
            "\u001b[0;32m<ipython-input-78-5095da7aa425>\u001b[0m in \u001b[0;36m<module>\u001b[0;34m()\u001b[0m\n\u001b[1;32m      1\u001b[0m \u001b[0;32mfrom\u001b[0m \u001b[0mtwython\u001b[0m \u001b[0;32mimport\u001b[0m \u001b[0mTwythonStreamer\u001b[0m\u001b[0;34m\u001b[0m\u001b[0;34m\u001b[0m\u001b[0m\n\u001b[1;32m      2\u001b[0m \u001b[0;34m\u001b[0m\u001b[0m\n\u001b[0;32m----> 3\u001b[0;31m \u001b[0mCk\u001b[0m\u001b[0;34m,\u001b[0m \u001b[0mCs\u001b[0m\u001b[0;34m,\u001b[0m \u001b[0mAt\u001b[0m\u001b[0;34m,\u001b[0m \u001b[0mAs\u001b[0m \u001b[0;34m=\u001b[0m \u001b[0mtKeys\u001b[0m\u001b[0;34m\u001b[0m\u001b[0;34m\u001b[0m\u001b[0m\n\u001b[0m\u001b[1;32m      4\u001b[0m \u001b[0;32mdef\u001b[0m \u001b[0mstreamTwitter\u001b[0m\u001b[0;34m(\u001b[0m\u001b[0mtopicS\u001b[0m\u001b[0;34m,\u001b[0m \u001b[0mlang\u001b[0m\u001b[0;34m)\u001b[0m\u001b[0;34m:\u001b[0m\u001b[0;34m\u001b[0m\u001b[0;34m\u001b[0m\u001b[0m\n\u001b[1;32m      5\u001b[0m     \u001b[0;32mclass\u001b[0m \u001b[0mMyStreamer\u001b[0m\u001b[0;34m(\u001b[0m\u001b[0mTwythonStreamer\u001b[0m\u001b[0;34m)\u001b[0m\u001b[0;34m:\u001b[0m\u001b[0;34m\u001b[0m\u001b[0;34m\u001b[0m\u001b[0m\n",
            "\u001b[0;31mNameError\u001b[0m: name 'tKeys' is not defined"
          ]
        }
      ]
    },
    {
      "cell_type": "code",
      "metadata": {
        "colab": {
          "base_uri": "https://localhost:8080/"
        },
        "id": "YewNj7IG85zJ",
        "outputId": "6b232a33-8626-45aa-d0ab-85c8d3b5cd30"
      },
      "source": [
        "pip install --upgrade spacy"
      ],
      "execution_count": null,
      "outputs": [
        {
          "output_type": "stream",
          "name": "stdout",
          "text": [
            "Requirement already satisfied: spacy in /usr/local/lib/python3.7/dist-packages (2.2.4)\n",
            "Collecting spacy\n",
            "  Downloading spacy-3.1.4-cp37-cp37m-manylinux_2_17_x86_64.manylinux2014_x86_64.whl (5.9 MB)\n",
            "\u001b[K     |████████████████████████████████| 5.9 MB 7.2 MB/s \n",
            "\u001b[?25hRequirement already satisfied: numpy>=1.15.0 in /usr/local/lib/python3.7/dist-packages (from spacy) (1.19.5)\n",
            "Requirement already satisfied: packaging>=20.0 in /usr/local/lib/python3.7/dist-packages (from spacy) (21.0)\n",
            "Collecting thinc<8.1.0,>=8.0.12\n",
            "  Downloading thinc-8.0.12-cp37-cp37m-manylinux_2_17_x86_64.manylinux2014_x86_64.whl (628 kB)\n",
            "\u001b[K     |████████████████████████████████| 628 kB 65.5 MB/s \n",
            "\u001b[?25hRequirement already satisfied: cymem<2.1.0,>=2.0.2 in /usr/local/lib/python3.7/dist-packages (from spacy) (2.0.5)\n",
            "Requirement already satisfied: blis<0.8.0,>=0.4.0 in /usr/local/lib/python3.7/dist-packages (from spacy) (0.4.1)\n",
            "Requirement already satisfied: tqdm<5.0.0,>=4.38.0 in /usr/local/lib/python3.7/dist-packages (from spacy) (4.62.3)\n",
            "Requirement already satisfied: setuptools in /usr/local/lib/python3.7/dist-packages (from spacy) (57.4.0)\n",
            "Requirement already satisfied: murmurhash<1.1.0,>=0.28.0 in /usr/local/lib/python3.7/dist-packages (from spacy) (1.0.5)\n",
            "Collecting srsly<3.0.0,>=2.4.1\n",
            "  Downloading srsly-2.4.2-cp37-cp37m-manylinux_2_17_x86_64.manylinux2014_x86_64.whl (451 kB)\n",
            "\u001b[K     |████████████████████████████████| 451 kB 73.1 MB/s \n",
            "\u001b[?25hRequirement already satisfied: preshed<3.1.0,>=3.0.2 in /usr/local/lib/python3.7/dist-packages (from spacy) (3.0.5)\n",
            "Collecting typer<0.5.0,>=0.3.0\n",
            "  Downloading typer-0.4.0-py3-none-any.whl (27 kB)\n",
            "Collecting pathy>=0.3.5\n",
            "  Downloading pathy-0.6.1-py3-none-any.whl (42 kB)\n",
            "\u001b[K     |████████████████████████████████| 42 kB 1.5 MB/s \n",
            "\u001b[?25hCollecting spacy-legacy<3.1.0,>=3.0.8\n",
            "  Downloading spacy_legacy-3.0.8-py2.py3-none-any.whl (14 kB)\n",
            "Collecting catalogue<2.1.0,>=2.0.6\n",
            "  Downloading catalogue-2.0.6-py3-none-any.whl (17 kB)\n",
            "Requirement already satisfied: jinja2 in /usr/local/lib/python3.7/dist-packages (from spacy) (2.11.3)\n",
            "Requirement already satisfied: wasabi<1.1.0,>=0.8.1 in /usr/local/lib/python3.7/dist-packages (from spacy) (0.8.2)\n",
            "Requirement already satisfied: requests<3.0.0,>=2.13.0 in /usr/local/lib/python3.7/dist-packages (from spacy) (2.23.0)\n",
            "Collecting pydantic!=1.8,!=1.8.1,<1.9.0,>=1.7.4\n",
            "  Downloading pydantic-1.8.2-cp37-cp37m-manylinux2014_x86_64.whl (10.1 MB)\n",
            "\u001b[K     |████████████████████████████████| 10.1 MB 28.7 MB/s \n",
            "\u001b[?25hRequirement already satisfied: typing-extensions<4.0.0.0,>=3.7.4 in /usr/local/lib/python3.7/dist-packages (from spacy) (3.7.4.3)\n",
            "Requirement already satisfied: zipp>=0.5 in /usr/local/lib/python3.7/dist-packages (from catalogue<2.1.0,>=2.0.6->spacy) (3.6.0)\n",
            "Requirement already satisfied: pyparsing>=2.0.2 in /usr/local/lib/python3.7/dist-packages (from packaging>=20.0->spacy) (2.4.7)\n",
            "Requirement already satisfied: smart-open<6.0.0,>=5.0.0 in /usr/local/lib/python3.7/dist-packages (from pathy>=0.3.5->spacy) (5.2.1)\n",
            "Requirement already satisfied: chardet<4,>=3.0.2 in /usr/local/lib/python3.7/dist-packages (from requests<3.0.0,>=2.13.0->spacy) (3.0.4)\n",
            "Requirement already satisfied: urllib3!=1.25.0,!=1.25.1,<1.26,>=1.21.1 in /usr/local/lib/python3.7/dist-packages (from requests<3.0.0,>=2.13.0->spacy) (1.24.3)\n",
            "Requirement already satisfied: idna<3,>=2.5 in /usr/local/lib/python3.7/dist-packages (from requests<3.0.0,>=2.13.0->spacy) (2.10)\n",
            "Requirement already satisfied: certifi>=2017.4.17 in /usr/local/lib/python3.7/dist-packages (from requests<3.0.0,>=2.13.0->spacy) (2021.5.30)\n",
            "Requirement already satisfied: click<9.0.0,>=7.1.1 in /usr/local/lib/python3.7/dist-packages (from typer<0.5.0,>=0.3.0->spacy) (7.1.2)\n",
            "Requirement already satisfied: MarkupSafe>=0.23 in /usr/local/lib/python3.7/dist-packages (from jinja2->spacy) (2.0.1)\n",
            "Installing collected packages: catalogue, typer, srsly, pydantic, thinc, spacy-legacy, pathy, spacy\n",
            "  Attempting uninstall: catalogue\n",
            "    Found existing installation: catalogue 1.0.0\n",
            "    Uninstalling catalogue-1.0.0:\n",
            "      Successfully uninstalled catalogue-1.0.0\n",
            "  Attempting uninstall: srsly\n",
            "    Found existing installation: srsly 1.0.5\n",
            "    Uninstalling srsly-1.0.5:\n",
            "      Successfully uninstalled srsly-1.0.5\n",
            "  Attempting uninstall: thinc\n",
            "    Found existing installation: thinc 7.4.0\n",
            "    Uninstalling thinc-7.4.0:\n",
            "      Successfully uninstalled thinc-7.4.0\n",
            "  Attempting uninstall: spacy\n",
            "    Found existing installation: spacy 2.2.4\n",
            "    Uninstalling spacy-2.2.4:\n",
            "      Successfully uninstalled spacy-2.2.4\n",
            "Successfully installed catalogue-2.0.6 pathy-0.6.1 pydantic-1.8.2 spacy-3.1.4 spacy-legacy-3.0.8 srsly-2.4.2 thinc-8.0.12 typer-0.4.0\n"
          ]
        }
      ]
    },
    {
      "cell_type": "code",
      "metadata": {
        "colab": {
          "base_uri": "https://localhost:8080/"
        },
        "id": "z5vWY-VlAbc5",
        "outputId": "2bf0df71-8aeb-44a7-bd3d-98f1caae79d1"
      },
      "source": [
        "!pip install Sastrawi"
      ],
      "execution_count": null,
      "outputs": [
        {
          "output_type": "stream",
          "name": "stdout",
          "text": [
            "Requirement already satisfied: Sastrawi in /usr/local/lib/python3.7/dist-packages (1.0.1)\n"
          ]
        }
      ]
    },
    {
      "cell_type": "code",
      "metadata": {
        "colab": {
          "base_uri": "https://localhost:8080/"
        },
        "id": "Xdu7dobIaVmA",
        "outputId": "90c102c8-6acd-4a4a-d752-3dcc473f1231"
      },
      "source": [
        "!mkdir data\n",
        "!wget -P data/ https://raw.githubusercontent.com/taudata-indonesia/eLearning/master/data/slang.txt\n",
        "!wget -P data/ https://raw.githubusercontent.com/taudata-indonesia/eLearning/master/data/stopwords_id.txt\n",
        "!wget -P data/ https://raw.githubusercontent.com/taudata-indonesia/eLearning/master/data/corpus_sederhana.txt\n",
        "!wget -P / https://raw.githubusercontent.com/taudata-indonesia/eLearning/master/lib/taudataNlpTm.py\n",
        "!pip install unidecode textblob sastrawi\n",
        "!pip install unidecode twython tweepy beautifulsoup4 tika\n",
        "!pip install spacy python-crfsuite unidecode textblob sastrawi\n",
        "!python -m spacy download en\n",
        "!python -m spacy download xx\n",
        "!python -m spacy download en_core_web_sm"
      ],
      "execution_count": null,
      "outputs": [
        {
          "output_type": "stream",
          "name": "stdout",
          "text": [
            "--2021-11-01 16:51:19--  https://raw.githubusercontent.com/taudata-indonesia/eLearning/master/data/slang.txt\n",
            "Resolving raw.githubusercontent.com (raw.githubusercontent.com)... 185.199.108.133, 185.199.109.133, 185.199.110.133, ...\n",
            "Connecting to raw.githubusercontent.com (raw.githubusercontent.com)|185.199.108.133|:443... connected.\n",
            "HTTP request sent, awaiting response... 200 OK\n",
            "Length: 29041 (28K) [text/plain]\n",
            "Saving to: ‘data/slang.txt’\n",
            "\n",
            "slang.txt           100%[===================>]  28.36K  --.-KB/s    in 0.001s  \n",
            "\n",
            "2021-11-01 16:51:19 (24.9 MB/s) - ‘data/slang.txt’ saved [29041/29041]\n",
            "\n",
            "--2021-11-01 16:51:19--  https://raw.githubusercontent.com/taudata-indonesia/eLearning/master/data/stopwords_id.txt\n",
            "Resolving raw.githubusercontent.com (raw.githubusercontent.com)... 185.199.109.133, 185.199.110.133, 185.199.111.133, ...\n",
            "Connecting to raw.githubusercontent.com (raw.githubusercontent.com)|185.199.109.133|:443... connected.\n",
            "HTTP request sent, awaiting response... 200 OK\n",
            "Length: 6446 (6.3K) [text/plain]\n",
            "Saving to: ‘data/stopwords_id.txt’\n",
            "\n",
            "stopwords_id.txt    100%[===================>]   6.29K  --.-KB/s    in 0s      \n",
            "\n",
            "2021-11-01 16:51:20 (57.9 MB/s) - ‘data/stopwords_id.txt’ saved [6446/6446]\n",
            "\n",
            "--2021-11-01 16:51:20--  https://raw.githubusercontent.com/taudata-indonesia/eLearning/master/data/corpus_sederhana.txt\n",
            "Resolving raw.githubusercontent.com (raw.githubusercontent.com)... 185.199.108.133, 185.199.109.133, 185.199.110.133, ...\n",
            "Connecting to raw.githubusercontent.com (raw.githubusercontent.com)|185.199.108.133|:443... connected.\n",
            "HTTP request sent, awaiting response... 200 OK\n",
            "Length: 316963 (310K) [text/plain]\n",
            "Saving to: ‘data/corpus_sederhana.txt’\n",
            "\n",
            "corpus_sederhana.tx 100%[===================>] 309.53K  --.-KB/s    in 0.03s   \n",
            "\n",
            "2021-11-01 16:51:20 (12.1 MB/s) - ‘data/corpus_sederhana.txt’ saved [316963/316963]\n",
            "\n",
            "--2021-11-01 16:51:20--  https://raw.githubusercontent.com/taudata-indonesia/eLearning/master/lib/taudataNlpTm.py\n",
            "Resolving raw.githubusercontent.com (raw.githubusercontent.com)... 185.199.108.133, 185.199.109.133, 185.199.110.133, ...\n",
            "Connecting to raw.githubusercontent.com (raw.githubusercontent.com)|185.199.108.133|:443... connected.\n",
            "HTTP request sent, awaiting response... 200 OK\n",
            "Length: 5686 (5.6K) [text/plain]\n",
            "Saving to: ‘taudataNlpTm.py’\n",
            "\n",
            "audataNlpTm.py      100%[===================>]   5.55K  --.-KB/s    in 0s      \n",
            "\n",
            "2021-11-01 16:51:20 (49.4 MB/s) - ‘taudataNlpTm.py’ saved [5686/5686]\n",
            "\n",
            "Requirement already satisfied: unidecode in /usr/local/lib/python3.7/dist-packages (1.3.2)\n",
            "Requirement already satisfied: textblob in /usr/local/lib/python3.7/dist-packages (0.15.3)\n",
            "Requirement already satisfied: sastrawi in /usr/local/lib/python3.7/dist-packages (1.0.1)\n",
            "Requirement already satisfied: nltk>=3.1 in /usr/local/lib/python3.7/dist-packages (from textblob) (3.2.5)\n",
            "Requirement already satisfied: six in /usr/local/lib/python3.7/dist-packages (from nltk>=3.1->textblob) (1.15.0)\n",
            "Requirement already satisfied: unidecode in /usr/local/lib/python3.7/dist-packages (1.3.2)\n",
            "Requirement already satisfied: twython in /usr/local/lib/python3.7/dist-packages (3.9.1)\n",
            "Requirement already satisfied: tweepy in /usr/local/lib/python3.7/dist-packages (3.10.0)\n",
            "Requirement already satisfied: beautifulsoup4 in /usr/local/lib/python3.7/dist-packages (4.6.3)\n",
            "Requirement already satisfied: tika in /usr/local/lib/python3.7/dist-packages (1.24)\n",
            "Requirement already satisfied: requests-oauthlib>=0.4.0 in /usr/local/lib/python3.7/dist-packages (from twython) (1.3.0)\n",
            "Requirement already satisfied: requests>=2.1.0 in /usr/local/lib/python3.7/dist-packages (from twython) (2.23.0)\n",
            "Requirement already satisfied: idna<3,>=2.5 in /usr/local/lib/python3.7/dist-packages (from requests>=2.1.0->twython) (2.10)\n",
            "Requirement already satisfied: certifi>=2017.4.17 in /usr/local/lib/python3.7/dist-packages (from requests>=2.1.0->twython) (2021.5.30)\n",
            "Requirement already satisfied: urllib3!=1.25.0,!=1.25.1,<1.26,>=1.21.1 in /usr/local/lib/python3.7/dist-packages (from requests>=2.1.0->twython) (1.24.3)\n",
            "Requirement already satisfied: chardet<4,>=3.0.2 in /usr/local/lib/python3.7/dist-packages (from requests>=2.1.0->twython) (3.0.4)\n",
            "Requirement already satisfied: oauthlib>=3.0.0 in /usr/local/lib/python3.7/dist-packages (from requests-oauthlib>=0.4.0->twython) (3.1.1)\n",
            "Requirement already satisfied: six>=1.10.0 in /usr/local/lib/python3.7/dist-packages (from tweepy) (1.15.0)\n",
            "Requirement already satisfied: PySocks!=1.5.7,>=1.5.6 in /usr/local/lib/python3.7/dist-packages (from requests>=2.1.0->twython) (1.7.1)\n",
            "Requirement already satisfied: setuptools in /usr/local/lib/python3.7/dist-packages (from tika) (57.4.0)\n",
            "Requirement already satisfied: spacy in /usr/local/lib/python3.7/dist-packages (3.1.4)\n",
            "Collecting python-crfsuite\n",
            "  Downloading python_crfsuite-0.9.7-cp37-cp37m-manylinux1_x86_64.whl (743 kB)\n",
            "\u001b[K     |████████████████████████████████| 743 kB 9.6 MB/s \n",
            "\u001b[?25hRequirement already satisfied: unidecode in /usr/local/lib/python3.7/dist-packages (1.3.2)\n",
            "Requirement already satisfied: textblob in /usr/local/lib/python3.7/dist-packages (0.15.3)\n",
            "Requirement already satisfied: sastrawi in /usr/local/lib/python3.7/dist-packages (1.0.1)\n",
            "Requirement already satisfied: numpy>=1.15.0 in /usr/local/lib/python3.7/dist-packages (from spacy) (1.19.5)\n",
            "Requirement already satisfied: srsly<3.0.0,>=2.4.1 in /usr/local/lib/python3.7/dist-packages (from spacy) (2.4.2)\n",
            "Requirement already satisfied: typing-extensions<4.0.0.0,>=3.7.4 in /usr/local/lib/python3.7/dist-packages (from spacy) (3.7.4.3)\n",
            "Requirement already satisfied: cymem<2.1.0,>=2.0.2 in /usr/local/lib/python3.7/dist-packages (from spacy) (2.0.5)\n",
            "Requirement already satisfied: setuptools in /usr/local/lib/python3.7/dist-packages (from spacy) (57.4.0)\n",
            "Requirement already satisfied: spacy-legacy<3.1.0,>=3.0.8 in /usr/local/lib/python3.7/dist-packages (from spacy) (3.0.8)\n",
            "Requirement already satisfied: packaging>=20.0 in /usr/local/lib/python3.7/dist-packages (from spacy) (21.0)\n",
            "Requirement already satisfied: tqdm<5.0.0,>=4.38.0 in /usr/local/lib/python3.7/dist-packages (from spacy) (4.62.3)\n",
            "Requirement already satisfied: thinc<8.1.0,>=8.0.12 in /usr/local/lib/python3.7/dist-packages (from spacy) (8.0.12)\n",
            "Requirement already satisfied: murmurhash<1.1.0,>=0.28.0 in /usr/local/lib/python3.7/dist-packages (from spacy) (1.0.5)\n",
            "Requirement already satisfied: wasabi<1.1.0,>=0.8.1 in /usr/local/lib/python3.7/dist-packages (from spacy) (0.8.2)\n",
            "Requirement already satisfied: blis<0.8.0,>=0.4.0 in /usr/local/lib/python3.7/dist-packages (from spacy) (0.4.1)\n",
            "Requirement already satisfied: requests<3.0.0,>=2.13.0 in /usr/local/lib/python3.7/dist-packages (from spacy) (2.23.0)\n",
            "Requirement already satisfied: catalogue<2.1.0,>=2.0.6 in /usr/local/lib/python3.7/dist-packages (from spacy) (2.0.6)\n",
            "Requirement already satisfied: pathy>=0.3.5 in /usr/local/lib/python3.7/dist-packages (from spacy) (0.6.1)\n",
            "Requirement already satisfied: typer<0.5.0,>=0.3.0 in /usr/local/lib/python3.7/dist-packages (from spacy) (0.4.0)\n",
            "Requirement already satisfied: preshed<3.1.0,>=3.0.2 in /usr/local/lib/python3.7/dist-packages (from spacy) (3.0.5)\n",
            "Requirement already satisfied: pydantic!=1.8,!=1.8.1,<1.9.0,>=1.7.4 in /usr/local/lib/python3.7/dist-packages (from spacy) (1.8.2)\n",
            "Requirement already satisfied: jinja2 in /usr/local/lib/python3.7/dist-packages (from spacy) (2.11.3)\n",
            "Requirement already satisfied: zipp>=0.5 in /usr/local/lib/python3.7/dist-packages (from catalogue<2.1.0,>=2.0.6->spacy) (3.6.0)\n",
            "Requirement already satisfied: pyparsing>=2.0.2 in /usr/local/lib/python3.7/dist-packages (from packaging>=20.0->spacy) (2.4.7)\n",
            "Requirement already satisfied: smart-open<6.0.0,>=5.0.0 in /usr/local/lib/python3.7/dist-packages (from pathy>=0.3.5->spacy) (5.2.1)\n",
            "Requirement already satisfied: certifi>=2017.4.17 in /usr/local/lib/python3.7/dist-packages (from requests<3.0.0,>=2.13.0->spacy) (2021.5.30)\n",
            "Requirement already satisfied: idna<3,>=2.5 in /usr/local/lib/python3.7/dist-packages (from requests<3.0.0,>=2.13.0->spacy) (2.10)\n",
            "Requirement already satisfied: chardet<4,>=3.0.2 in /usr/local/lib/python3.7/dist-packages (from requests<3.0.0,>=2.13.0->spacy) (3.0.4)\n",
            "Requirement already satisfied: urllib3!=1.25.0,!=1.25.1,<1.26,>=1.21.1 in /usr/local/lib/python3.7/dist-packages (from requests<3.0.0,>=2.13.0->spacy) (1.24.3)\n",
            "Requirement already satisfied: click<9.0.0,>=7.1.1 in /usr/local/lib/python3.7/dist-packages (from typer<0.5.0,>=0.3.0->spacy) (7.1.2)\n",
            "Requirement already satisfied: nltk>=3.1 in /usr/local/lib/python3.7/dist-packages (from textblob) (3.2.5)\n",
            "Requirement already satisfied: six in /usr/local/lib/python3.7/dist-packages (from nltk>=3.1->textblob) (1.15.0)\n",
            "Requirement already satisfied: MarkupSafe>=0.23 in /usr/local/lib/python3.7/dist-packages (from jinja2->spacy) (2.0.1)\n",
            "Installing collected packages: python-crfsuite\n",
            "Successfully installed python-crfsuite-0.9.7\n",
            "\u001b[38;5;3m⚠ As of spaCy v3.0, shortcuts like 'en' are deprecated. Please use the\n",
            "full pipeline package name 'en_core_web_sm' instead.\u001b[0m\n",
            "Collecting en-core-web-sm==3.1.0\n",
            "  Downloading https://github.com/explosion/spacy-models/releases/download/en_core_web_sm-3.1.0/en_core_web_sm-3.1.0-py3-none-any.whl (13.6 MB)\n",
            "\u001b[K     |████████████████████████████████| 13.6 MB 68 kB/s \n",
            "\u001b[?25hRequirement already satisfied: spacy<3.2.0,>=3.1.0 in /usr/local/lib/python3.7/dist-packages (from en-core-web-sm==3.1.0) (3.1.4)\n",
            "Requirement already satisfied: packaging>=20.0 in /usr/local/lib/python3.7/dist-packages (from spacy<3.2.0,>=3.1.0->en-core-web-sm==3.1.0) (21.0)\n",
            "Requirement already satisfied: pathy>=0.3.5 in /usr/local/lib/python3.7/dist-packages (from spacy<3.2.0,>=3.1.0->en-core-web-sm==3.1.0) (0.6.1)\n",
            "Requirement already satisfied: setuptools in /usr/local/lib/python3.7/dist-packages (from spacy<3.2.0,>=3.1.0->en-core-web-sm==3.1.0) (57.4.0)\n",
            "Requirement already satisfied: wasabi<1.1.0,>=0.8.1 in /usr/local/lib/python3.7/dist-packages (from spacy<3.2.0,>=3.1.0->en-core-web-sm==3.1.0) (0.8.2)\n",
            "Requirement already satisfied: typing-extensions<4.0.0.0,>=3.7.4 in /usr/local/lib/python3.7/dist-packages (from spacy<3.2.0,>=3.1.0->en-core-web-sm==3.1.0) (3.7.4.3)\n",
            "Requirement already satisfied: cymem<2.1.0,>=2.0.2 in /usr/local/lib/python3.7/dist-packages (from spacy<3.2.0,>=3.1.0->en-core-web-sm==3.1.0) (2.0.5)\n",
            "Requirement already satisfied: srsly<3.0.0,>=2.4.1 in /usr/local/lib/python3.7/dist-packages (from spacy<3.2.0,>=3.1.0->en-core-web-sm==3.1.0) (2.4.2)\n",
            "Requirement already satisfied: pydantic!=1.8,!=1.8.1,<1.9.0,>=1.7.4 in /usr/local/lib/python3.7/dist-packages (from spacy<3.2.0,>=3.1.0->en-core-web-sm==3.1.0) (1.8.2)\n",
            "Requirement already satisfied: thinc<8.1.0,>=8.0.12 in /usr/local/lib/python3.7/dist-packages (from spacy<3.2.0,>=3.1.0->en-core-web-sm==3.1.0) (8.0.12)\n",
            "Requirement already satisfied: numpy>=1.15.0 in /usr/local/lib/python3.7/dist-packages (from spacy<3.2.0,>=3.1.0->en-core-web-sm==3.1.0) (1.19.5)\n",
            "Requirement already satisfied: tqdm<5.0.0,>=4.38.0 in /usr/local/lib/python3.7/dist-packages (from spacy<3.2.0,>=3.1.0->en-core-web-sm==3.1.0) (4.62.3)\n",
            "Requirement already satisfied: murmurhash<1.1.0,>=0.28.0 in /usr/local/lib/python3.7/dist-packages (from spacy<3.2.0,>=3.1.0->en-core-web-sm==3.1.0) (1.0.5)\n",
            "Requirement already satisfied: blis<0.8.0,>=0.4.0 in /usr/local/lib/python3.7/dist-packages (from spacy<3.2.0,>=3.1.0->en-core-web-sm==3.1.0) (0.4.1)\n",
            "Requirement already satisfied: jinja2 in /usr/local/lib/python3.7/dist-packages (from spacy<3.2.0,>=3.1.0->en-core-web-sm==3.1.0) (2.11.3)\n",
            "Requirement already satisfied: requests<3.0.0,>=2.13.0 in /usr/local/lib/python3.7/dist-packages (from spacy<3.2.0,>=3.1.0->en-core-web-sm==3.1.0) (2.23.0)\n",
            "Requirement already satisfied: spacy-legacy<3.1.0,>=3.0.8 in /usr/local/lib/python3.7/dist-packages (from spacy<3.2.0,>=3.1.0->en-core-web-sm==3.1.0) (3.0.8)\n",
            "Requirement already satisfied: typer<0.5.0,>=0.3.0 in /usr/local/lib/python3.7/dist-packages (from spacy<3.2.0,>=3.1.0->en-core-web-sm==3.1.0) (0.4.0)\n",
            "Requirement already satisfied: preshed<3.1.0,>=3.0.2 in /usr/local/lib/python3.7/dist-packages (from spacy<3.2.0,>=3.1.0->en-core-web-sm==3.1.0) (3.0.5)\n",
            "Requirement already satisfied: catalogue<2.1.0,>=2.0.6 in /usr/local/lib/python3.7/dist-packages (from spacy<3.2.0,>=3.1.0->en-core-web-sm==3.1.0) (2.0.6)\n",
            "Requirement already satisfied: zipp>=0.5 in /usr/local/lib/python3.7/dist-packages (from catalogue<2.1.0,>=2.0.6->spacy<3.2.0,>=3.1.0->en-core-web-sm==3.1.0) (3.6.0)\n",
            "Requirement already satisfied: pyparsing>=2.0.2 in /usr/local/lib/python3.7/dist-packages (from packaging>=20.0->spacy<3.2.0,>=3.1.0->en-core-web-sm==3.1.0) (2.4.7)\n",
            "Requirement already satisfied: smart-open<6.0.0,>=5.0.0 in /usr/local/lib/python3.7/dist-packages (from pathy>=0.3.5->spacy<3.2.0,>=3.1.0->en-core-web-sm==3.1.0) (5.2.1)\n",
            "Requirement already satisfied: idna<3,>=2.5 in /usr/local/lib/python3.7/dist-packages (from requests<3.0.0,>=2.13.0->spacy<3.2.0,>=3.1.0->en-core-web-sm==3.1.0) (2.10)\n",
            "Requirement already satisfied: certifi>=2017.4.17 in /usr/local/lib/python3.7/dist-packages (from requests<3.0.0,>=2.13.0->spacy<3.2.0,>=3.1.0->en-core-web-sm==3.1.0) (2021.5.30)\n",
            "Requirement already satisfied: urllib3!=1.25.0,!=1.25.1,<1.26,>=1.21.1 in /usr/local/lib/python3.7/dist-packages (from requests<3.0.0,>=2.13.0->spacy<3.2.0,>=3.1.0->en-core-web-sm==3.1.0) (1.24.3)\n",
            "Requirement already satisfied: chardet<4,>=3.0.2 in /usr/local/lib/python3.7/dist-packages (from requests<3.0.0,>=2.13.0->spacy<3.2.0,>=3.1.0->en-core-web-sm==3.1.0) (3.0.4)\n",
            "Requirement already satisfied: click<9.0.0,>=7.1.1 in /usr/local/lib/python3.7/dist-packages (from typer<0.5.0,>=0.3.0->spacy<3.2.0,>=3.1.0->en-core-web-sm==3.1.0) (7.1.2)\n",
            "Requirement already satisfied: MarkupSafe>=0.23 in /usr/local/lib/python3.7/dist-packages (from jinja2->spacy<3.2.0,>=3.1.0->en-core-web-sm==3.1.0) (2.0.1)\n",
            "Installing collected packages: en-core-web-sm\n",
            "  Attempting uninstall: en-core-web-sm\n",
            "    Found existing installation: en-core-web-sm 2.2.5\n",
            "    Uninstalling en-core-web-sm-2.2.5:\n",
            "      Successfully uninstalled en-core-web-sm-2.2.5\n",
            "Successfully installed en-core-web-sm-3.1.0\n",
            "\u001b[38;5;2m✔ Download and installation successful\u001b[0m\n",
            "You can now load the package via spacy.load('en_core_web_sm')\n",
            "\u001b[38;5;3m⚠ As of spaCy v3.0, shortcuts like 'xx' are deprecated. Please use the\n",
            "full pipeline package name 'xx_ent_wiki_sm' instead.\u001b[0m\n",
            "Collecting xx-ent-wiki-sm==3.1.0\n",
            "  Downloading https://github.com/explosion/spacy-models/releases/download/xx_ent_wiki_sm-3.1.0/xx_ent_wiki_sm-3.1.0-py3-none-any.whl (11.6 MB)\n",
            "\u001b[K     |████████████████████████████████| 11.6 MB 8.2 MB/s \n",
            "\u001b[?25hRequirement already satisfied: spacy<3.2.0,>=3.1.0 in /usr/local/lib/python3.7/dist-packages (from xx-ent-wiki-sm==3.1.0) (3.1.4)\n",
            "Requirement already satisfied: blis<0.8.0,>=0.4.0 in /usr/local/lib/python3.7/dist-packages (from spacy<3.2.0,>=3.1.0->xx-ent-wiki-sm==3.1.0) (0.4.1)\n",
            "Requirement already satisfied: setuptools in /usr/local/lib/python3.7/dist-packages (from spacy<3.2.0,>=3.1.0->xx-ent-wiki-sm==3.1.0) (57.4.0)\n",
            "Requirement already satisfied: thinc<8.1.0,>=8.0.12 in /usr/local/lib/python3.7/dist-packages (from spacy<3.2.0,>=3.1.0->xx-ent-wiki-sm==3.1.0) (8.0.12)\n",
            "Requirement already satisfied: numpy>=1.15.0 in /usr/local/lib/python3.7/dist-packages (from spacy<3.2.0,>=3.1.0->xx-ent-wiki-sm==3.1.0) (1.19.5)\n",
            "Requirement already satisfied: packaging>=20.0 in /usr/local/lib/python3.7/dist-packages (from spacy<3.2.0,>=3.1.0->xx-ent-wiki-sm==3.1.0) (21.0)\n",
            "Requirement already satisfied: srsly<3.0.0,>=2.4.1 in /usr/local/lib/python3.7/dist-packages (from spacy<3.2.0,>=3.1.0->xx-ent-wiki-sm==3.1.0) (2.4.2)\n",
            "Requirement already satisfied: wasabi<1.1.0,>=0.8.1 in /usr/local/lib/python3.7/dist-packages (from spacy<3.2.0,>=3.1.0->xx-ent-wiki-sm==3.1.0) (0.8.2)\n",
            "Requirement already satisfied: preshed<3.1.0,>=3.0.2 in /usr/local/lib/python3.7/dist-packages (from spacy<3.2.0,>=3.1.0->xx-ent-wiki-sm==3.1.0) (3.0.5)\n",
            "Requirement already satisfied: catalogue<2.1.0,>=2.0.6 in /usr/local/lib/python3.7/dist-packages (from spacy<3.2.0,>=3.1.0->xx-ent-wiki-sm==3.1.0) (2.0.6)\n",
            "Requirement already satisfied: typing-extensions<4.0.0.0,>=3.7.4 in /usr/local/lib/python3.7/dist-packages (from spacy<3.2.0,>=3.1.0->xx-ent-wiki-sm==3.1.0) (3.7.4.3)\n",
            "Requirement already satisfied: jinja2 in /usr/local/lib/python3.7/dist-packages (from spacy<3.2.0,>=3.1.0->xx-ent-wiki-sm==3.1.0) (2.11.3)\n",
            "Requirement already satisfied: requests<3.0.0,>=2.13.0 in /usr/local/lib/python3.7/dist-packages (from spacy<3.2.0,>=3.1.0->xx-ent-wiki-sm==3.1.0) (2.23.0)\n",
            "Requirement already satisfied: spacy-legacy<3.1.0,>=3.0.8 in /usr/local/lib/python3.7/dist-packages (from spacy<3.2.0,>=3.1.0->xx-ent-wiki-sm==3.1.0) (3.0.8)\n",
            "Requirement already satisfied: murmurhash<1.1.0,>=0.28.0 in /usr/local/lib/python3.7/dist-packages (from spacy<3.2.0,>=3.1.0->xx-ent-wiki-sm==3.1.0) (1.0.5)\n",
            "Requirement already satisfied: pathy>=0.3.5 in /usr/local/lib/python3.7/dist-packages (from spacy<3.2.0,>=3.1.0->xx-ent-wiki-sm==3.1.0) (0.6.1)\n",
            "Requirement already satisfied: tqdm<5.0.0,>=4.38.0 in /usr/local/lib/python3.7/dist-packages (from spacy<3.2.0,>=3.1.0->xx-ent-wiki-sm==3.1.0) (4.62.3)\n",
            "Requirement already satisfied: cymem<2.1.0,>=2.0.2 in /usr/local/lib/python3.7/dist-packages (from spacy<3.2.0,>=3.1.0->xx-ent-wiki-sm==3.1.0) (2.0.5)\n",
            "Requirement already satisfied: pydantic!=1.8,!=1.8.1,<1.9.0,>=1.7.4 in /usr/local/lib/python3.7/dist-packages (from spacy<3.2.0,>=3.1.0->xx-ent-wiki-sm==3.1.0) (1.8.2)\n",
            "Requirement already satisfied: typer<0.5.0,>=0.3.0 in /usr/local/lib/python3.7/dist-packages (from spacy<3.2.0,>=3.1.0->xx-ent-wiki-sm==3.1.0) (0.4.0)\n",
            "Requirement already satisfied: zipp>=0.5 in /usr/local/lib/python3.7/dist-packages (from catalogue<2.1.0,>=2.0.6->spacy<3.2.0,>=3.1.0->xx-ent-wiki-sm==3.1.0) (3.6.0)\n",
            "Requirement already satisfied: pyparsing>=2.0.2 in /usr/local/lib/python3.7/dist-packages (from packaging>=20.0->spacy<3.2.0,>=3.1.0->xx-ent-wiki-sm==3.1.0) (2.4.7)\n",
            "Requirement already satisfied: smart-open<6.0.0,>=5.0.0 in /usr/local/lib/python3.7/dist-packages (from pathy>=0.3.5->spacy<3.2.0,>=3.1.0->xx-ent-wiki-sm==3.1.0) (5.2.1)\n",
            "Requirement already satisfied: urllib3!=1.25.0,!=1.25.1,<1.26,>=1.21.1 in /usr/local/lib/python3.7/dist-packages (from requests<3.0.0,>=2.13.0->spacy<3.2.0,>=3.1.0->xx-ent-wiki-sm==3.1.0) (1.24.3)\n",
            "Requirement already satisfied: chardet<4,>=3.0.2 in /usr/local/lib/python3.7/dist-packages (from requests<3.0.0,>=2.13.0->spacy<3.2.0,>=3.1.0->xx-ent-wiki-sm==3.1.0) (3.0.4)\n",
            "Requirement already satisfied: certifi>=2017.4.17 in /usr/local/lib/python3.7/dist-packages (from requests<3.0.0,>=2.13.0->spacy<3.2.0,>=3.1.0->xx-ent-wiki-sm==3.1.0) (2021.5.30)\n",
            "Requirement already satisfied: idna<3,>=2.5 in /usr/local/lib/python3.7/dist-packages (from requests<3.0.0,>=2.13.0->spacy<3.2.0,>=3.1.0->xx-ent-wiki-sm==3.1.0) (2.10)\n",
            "Requirement already satisfied: click<9.0.0,>=7.1.1 in /usr/local/lib/python3.7/dist-packages (from typer<0.5.0,>=0.3.0->spacy<3.2.0,>=3.1.0->xx-ent-wiki-sm==3.1.0) (7.1.2)\n",
            "Requirement already satisfied: MarkupSafe>=0.23 in /usr/local/lib/python3.7/dist-packages (from jinja2->spacy<3.2.0,>=3.1.0->xx-ent-wiki-sm==3.1.0) (2.0.1)\n",
            "Installing collected packages: xx-ent-wiki-sm\n",
            "Successfully installed xx-ent-wiki-sm-3.1.0\n",
            "\u001b[38;5;2m✔ Download and installation successful\u001b[0m\n",
            "You can now load the package via spacy.load('xx_ent_wiki_sm')\n",
            "Collecting en-core-web-sm==3.1.0\n",
            "  Using cached https://github.com/explosion/spacy-models/releases/download/en_core_web_sm-3.1.0/en_core_web_sm-3.1.0-py3-none-any.whl (13.6 MB)\n",
            "Requirement already satisfied: spacy<3.2.0,>=3.1.0 in /usr/local/lib/python3.7/dist-packages (from en-core-web-sm==3.1.0) (3.1.4)\n",
            "Requirement already satisfied: thinc<8.1.0,>=8.0.12 in /usr/local/lib/python3.7/dist-packages (from spacy<3.2.0,>=3.1.0->en-core-web-sm==3.1.0) (8.0.12)\n",
            "Requirement already satisfied: cymem<2.1.0,>=2.0.2 in /usr/local/lib/python3.7/dist-packages (from spacy<3.2.0,>=3.1.0->en-core-web-sm==3.1.0) (2.0.5)\n",
            "Requirement already satisfied: srsly<3.0.0,>=2.4.1 in /usr/local/lib/python3.7/dist-packages (from spacy<3.2.0,>=3.1.0->en-core-web-sm==3.1.0) (2.4.2)\n",
            "Requirement already satisfied: numpy>=1.15.0 in /usr/local/lib/python3.7/dist-packages (from spacy<3.2.0,>=3.1.0->en-core-web-sm==3.1.0) (1.19.5)\n",
            "Requirement already satisfied: typing-extensions<4.0.0.0,>=3.7.4 in /usr/local/lib/python3.7/dist-packages (from spacy<3.2.0,>=3.1.0->en-core-web-sm==3.1.0) (3.7.4.3)\n",
            "Requirement already satisfied: blis<0.8.0,>=0.4.0 in /usr/local/lib/python3.7/dist-packages (from spacy<3.2.0,>=3.1.0->en-core-web-sm==3.1.0) (0.4.1)\n",
            "Requirement already satisfied: catalogue<2.1.0,>=2.0.6 in /usr/local/lib/python3.7/dist-packages (from spacy<3.2.0,>=3.1.0->en-core-web-sm==3.1.0) (2.0.6)\n",
            "Requirement already satisfied: murmurhash<1.1.0,>=0.28.0 in /usr/local/lib/python3.7/dist-packages (from spacy<3.2.0,>=3.1.0->en-core-web-sm==3.1.0) (1.0.5)\n",
            "Requirement already satisfied: setuptools in /usr/local/lib/python3.7/dist-packages (from spacy<3.2.0,>=3.1.0->en-core-web-sm==3.1.0) (57.4.0)\n",
            "Requirement already satisfied: tqdm<5.0.0,>=4.38.0 in /usr/local/lib/python3.7/dist-packages (from spacy<3.2.0,>=3.1.0->en-core-web-sm==3.1.0) (4.62.3)\n",
            "Requirement already satisfied: wasabi<1.1.0,>=0.8.1 in /usr/local/lib/python3.7/dist-packages (from spacy<3.2.0,>=3.1.0->en-core-web-sm==3.1.0) (0.8.2)\n",
            "Requirement already satisfied: pathy>=0.3.5 in /usr/local/lib/python3.7/dist-packages (from spacy<3.2.0,>=3.1.0->en-core-web-sm==3.1.0) (0.6.1)\n",
            "Requirement already satisfied: pydantic!=1.8,!=1.8.1,<1.9.0,>=1.7.4 in /usr/local/lib/python3.7/dist-packages (from spacy<3.2.0,>=3.1.0->en-core-web-sm==3.1.0) (1.8.2)\n",
            "Requirement already satisfied: typer<0.5.0,>=0.3.0 in /usr/local/lib/python3.7/dist-packages (from spacy<3.2.0,>=3.1.0->en-core-web-sm==3.1.0) (0.4.0)\n",
            "Requirement already satisfied: packaging>=20.0 in /usr/local/lib/python3.7/dist-packages (from spacy<3.2.0,>=3.1.0->en-core-web-sm==3.1.0) (21.0)\n",
            "Requirement already satisfied: jinja2 in /usr/local/lib/python3.7/dist-packages (from spacy<3.2.0,>=3.1.0->en-core-web-sm==3.1.0) (2.11.3)\n",
            "Requirement already satisfied: preshed<3.1.0,>=3.0.2 in /usr/local/lib/python3.7/dist-packages (from spacy<3.2.0,>=3.1.0->en-core-web-sm==3.1.0) (3.0.5)\n",
            "Requirement already satisfied: spacy-legacy<3.1.0,>=3.0.8 in /usr/local/lib/python3.7/dist-packages (from spacy<3.2.0,>=3.1.0->en-core-web-sm==3.1.0) (3.0.8)\n",
            "Requirement already satisfied: requests<3.0.0,>=2.13.0 in /usr/local/lib/python3.7/dist-packages (from spacy<3.2.0,>=3.1.0->en-core-web-sm==3.1.0) (2.23.0)\n",
            "Requirement already satisfied: zipp>=0.5 in /usr/local/lib/python3.7/dist-packages (from catalogue<2.1.0,>=2.0.6->spacy<3.2.0,>=3.1.0->en-core-web-sm==3.1.0) (3.6.0)\n",
            "Requirement already satisfied: pyparsing>=2.0.2 in /usr/local/lib/python3.7/dist-packages (from packaging>=20.0->spacy<3.2.0,>=3.1.0->en-core-web-sm==3.1.0) (2.4.7)\n",
            "Requirement already satisfied: smart-open<6.0.0,>=5.0.0 in /usr/local/lib/python3.7/dist-packages (from pathy>=0.3.5->spacy<3.2.0,>=3.1.0->en-core-web-sm==3.1.0) (5.2.1)\n",
            "Requirement already satisfied: chardet<4,>=3.0.2 in /usr/local/lib/python3.7/dist-packages (from requests<3.0.0,>=2.13.0->spacy<3.2.0,>=3.1.0->en-core-web-sm==3.1.0) (3.0.4)\n",
            "Requirement already satisfied: certifi>=2017.4.17 in /usr/local/lib/python3.7/dist-packages (from requests<3.0.0,>=2.13.0->spacy<3.2.0,>=3.1.0->en-core-web-sm==3.1.0) (2021.5.30)\n",
            "Requirement already satisfied: urllib3!=1.25.0,!=1.25.1,<1.26,>=1.21.1 in /usr/local/lib/python3.7/dist-packages (from requests<3.0.0,>=2.13.0->spacy<3.2.0,>=3.1.0->en-core-web-sm==3.1.0) (1.24.3)\n",
            "Requirement already satisfied: idna<3,>=2.5 in /usr/local/lib/python3.7/dist-packages (from requests<3.0.0,>=2.13.0->spacy<3.2.0,>=3.1.0->en-core-web-sm==3.1.0) (2.10)\n",
            "Requirement already satisfied: click<9.0.0,>=7.1.1 in /usr/local/lib/python3.7/dist-packages (from typer<0.5.0,>=0.3.0->spacy<3.2.0,>=3.1.0->en-core-web-sm==3.1.0) (7.1.2)\n",
            "Requirement already satisfied: MarkupSafe>=0.23 in /usr/local/lib/python3.7/dist-packages (from jinja2->spacy<3.2.0,>=3.1.0->en-core-web-sm==3.1.0) (2.0.1)\n",
            "\u001b[38;5;2m✔ Download and installation successful\u001b[0m\n",
            "You can now load the package via spacy.load('en_core_web_sm')\n"
          ]
        }
      ]
    },
    {
      "cell_type": "code",
      "metadata": {
        "colab": {
          "base_uri": "https://localhost:8080/"
        },
        "id": "DSqjDpjualR8",
        "outputId": "65606f95-1191-4bbd-c763-43fd30fadb40"
      },
      "source": [
        "import pandas as pd\n",
        "import numpy as np\n",
        "import warnings; warnings.simplefilter('ignore')\n",
        "import tweepy, json, nltk, urllib.request, requests, re\n",
        "from urllib.request import Request, urlopen\n",
        "from twython import TwythonStreamer\n",
        "from bs4 import BeautifulSoup as bs\n",
        "from nltk.tokenize import TweetTokenizer\n",
        "from Sastrawi.StopWordRemover.StopWordRemoverFactory import StopWordRemoverFactory\n",
        "from Sastrawi.Stemmer.StemmerFactory import StemmerFactory\n",
        "\n",
        "nltk.download('popular')"
      ],
      "execution_count": null,
      "outputs": [
        {
          "output_type": "stream",
          "name": "stdout",
          "text": [
            "[nltk_data] Downloading collection 'popular'\n",
            "[nltk_data]    | \n",
            "[nltk_data]    | Downloading package cmudict to /root/nltk_data...\n",
            "[nltk_data]    |   Unzipping corpora/cmudict.zip.\n",
            "[nltk_data]    | Downloading package gazetteers to /root/nltk_data...\n",
            "[nltk_data]    |   Unzipping corpora/gazetteers.zip.\n",
            "[nltk_data]    | Downloading package genesis to /root/nltk_data...\n",
            "[nltk_data]    |   Unzipping corpora/genesis.zip.\n",
            "[nltk_data]    | Downloading package gutenberg to /root/nltk_data...\n",
            "[nltk_data]    |   Unzipping corpora/gutenberg.zip.\n",
            "[nltk_data]    | Downloading package inaugural to /root/nltk_data...\n",
            "[nltk_data]    |   Unzipping corpora/inaugural.zip.\n",
            "[nltk_data]    | Downloading package movie_reviews to\n",
            "[nltk_data]    |     /root/nltk_data...\n",
            "[nltk_data]    |   Unzipping corpora/movie_reviews.zip.\n",
            "[nltk_data]    | Downloading package names to /root/nltk_data...\n",
            "[nltk_data]    |   Unzipping corpora/names.zip.\n",
            "[nltk_data]    | Downloading package shakespeare to /root/nltk_data...\n",
            "[nltk_data]    |   Unzipping corpora/shakespeare.zip.\n",
            "[nltk_data]    | Downloading package stopwords to /root/nltk_data...\n",
            "[nltk_data]    |   Unzipping corpora/stopwords.zip.\n",
            "[nltk_data]    | Downloading package treebank to /root/nltk_data...\n",
            "[nltk_data]    |   Unzipping corpora/treebank.zip.\n",
            "[nltk_data]    | Downloading package twitter_samples to\n",
            "[nltk_data]    |     /root/nltk_data...\n",
            "[nltk_data]    |   Unzipping corpora/twitter_samples.zip.\n",
            "[nltk_data]    | Downloading package omw to /root/nltk_data...\n",
            "[nltk_data]    |   Unzipping corpora/omw.zip.\n",
            "[nltk_data]    | Downloading package wordnet to /root/nltk_data...\n",
            "[nltk_data]    |   Unzipping corpora/wordnet.zip.\n",
            "[nltk_data]    | Downloading package wordnet31 to /root/nltk_data...\n",
            "[nltk_data]    |   Unzipping corpora/wordnet31.zip.\n",
            "[nltk_data]    | Downloading package wordnet_ic to /root/nltk_data...\n",
            "[nltk_data]    |   Unzipping corpora/wordnet_ic.zip.\n",
            "[nltk_data]    | Downloading package words to /root/nltk_data...\n",
            "[nltk_data]    |   Unzipping corpora/words.zip.\n",
            "[nltk_data]    | Downloading package maxent_ne_chunker to\n",
            "[nltk_data]    |     /root/nltk_data...\n",
            "[nltk_data]    |   Unzipping chunkers/maxent_ne_chunker.zip.\n",
            "[nltk_data]    | Downloading package punkt to /root/nltk_data...\n",
            "[nltk_data]    |   Unzipping tokenizers/punkt.zip.\n",
            "[nltk_data]    | Downloading package snowball_data to\n",
            "[nltk_data]    |     /root/nltk_data...\n",
            "[nltk_data]    | Downloading package averaged_perceptron_tagger to\n",
            "[nltk_data]    |     /root/nltk_data...\n",
            "[nltk_data]    |   Unzipping taggers/averaged_perceptron_tagger.zip.\n",
            "[nltk_data]    | \n",
            "[nltk_data]  Done downloading collection popular\n"
          ]
        },
        {
          "output_type": "execute_result",
          "data": {
            "text/plain": [
              "True"
            ]
          },
          "metadata": {},
          "execution_count": 59
        }
      ]
    },
    {
      "cell_type": "markdown",
      "metadata": {
        "id": "OQ47huGobadZ"
      },
      "source": [
        "**Cleaning Text**"
      ]
    },
    {
      "cell_type": "code",
      "metadata": {
        "id": "yjy9bXw9besh"
      },
      "source": [
        "def clean_tweet(tweet):\n",
        "    if type(tweet) == np.float:\n",
        "        return \"\"\n",
        "    temp = tweet.lower()\n",
        "    temp = re.sub(\"@[A-Za-z0-9_]+\",\"\", temp)\n",
        "    temp = re.sub(\"#[A-Za-z0-9_]+\",\"\", temp)\n",
        "    temp = re.sub(r'http\\S+', '', temp)\n",
        "    temp = re.sub('[()!?]', ' ', temp)\n",
        "    temp = re.sub('\\[.*?\\]',' ', temp)\n",
        "    temp = re.sub(\"[^a-z0-9]\",\" \", temp)\n",
        "    return temp"
      ],
      "execution_count": null,
      "outputs": []
    },
    {
      "cell_type": "code",
      "metadata": {
        "colab": {
          "base_uri": "https://localhost:8080/",
          "height": 496
        },
        "id": "h3-20uDdbu_u",
        "outputId": "8f02dc2c-7121-4768-cf6b-56f4ea51083e"
      },
      "source": [
        "df2['clean_dasar'] = df2['full_text'].apply(lambda x: clean_tweet(x))\n",
        "df2.head()"
      ],
      "execution_count": null,
      "outputs": [
        {
          "output_type": "execute_result",
          "data": {
            "text/html": [
              "<div>\n",
              "<style scoped>\n",
              "    .dataframe tbody tr th:only-of-type {\n",
              "        vertical-align: middle;\n",
              "    }\n",
              "\n",
              "    .dataframe tbody tr th {\n",
              "        vertical-align: top;\n",
              "    }\n",
              "\n",
              "    .dataframe thead th {\n",
              "        text-align: right;\n",
              "    }\n",
              "</style>\n",
              "<table border=\"1\" class=\"dataframe\">\n",
              "  <thead>\n",
              "    <tr style=\"text-align: right;\">\n",
              "      <th></th>\n",
              "      <th>id</th>\n",
              "      <th>id_str</th>\n",
              "      <th>name</th>\n",
              "      <th>screen_name</th>\n",
              "      <th>location</th>\n",
              "      <th>followers_count</th>\n",
              "      <th>friends_count</th>\n",
              "      <th>listed_count</th>\n",
              "      <th>created_at</th>\n",
              "      <th>favourites_count</th>\n",
              "      <th>created_at</th>\n",
              "      <th>full_text</th>\n",
              "      <th>place</th>\n",
              "      <th>retweet_count</th>\n",
              "      <th>favorite_count</th>\n",
              "      <th>clean_dasar</th>\n",
              "    </tr>\n",
              "  </thead>\n",
              "  <tbody>\n",
              "    <tr>\n",
              "      <th>0</th>\n",
              "      <td>1133355196212367366</td>\n",
              "      <td>1133355196212367366</td>\n",
              "      <td>P</td>\n",
              "      <td>madubyjohnny</td>\n",
              "      <td>Resonance</td>\n",
              "      <td>27</td>\n",
              "      <td>126</td>\n",
              "      <td>0</td>\n",
              "      <td>Tue May 28 12:51:50 +0000 2019</td>\n",
              "      <td>3466</td>\n",
              "      <td>Fri Oct 29 08:34:18 +0000 2021</td>\n",
              "      <td>RT @niazkilam1201: Zayn hanya seorang Ayah yan...</td>\n",
              "      <td>None</td>\n",
              "      <td>1238</td>\n",
              "      <td>0</td>\n",
              "      <td>rt   zayn hanya seorang ayah yang hanya ingin ...</td>\n",
              "    </tr>\n",
              "    <tr>\n",
              "      <th>1</th>\n",
              "      <td>1315429334589468672</td>\n",
              "      <td>1315429334589468672</td>\n",
              "      <td>Ujungjeka</td>\n",
              "      <td>ujungjeka</td>\n",
              "      <td>Denpasar Selatan, Indonesia</td>\n",
              "      <td>19</td>\n",
              "      <td>69</td>\n",
              "      <td>0</td>\n",
              "      <td>Sun Oct 11 23:09:59 +0000 2020</td>\n",
              "      <td>5229</td>\n",
              "      <td>Fri Oct 29 08:34:00 +0000 2021</td>\n",
              "      <td>@niazkilam1201 Bnr ksian khai jg</td>\n",
              "      <td>None</td>\n",
              "      <td>0</td>\n",
              "      <td>0</td>\n",
              "      <td>bnr ksian khai jg</td>\n",
              "    </tr>\n",
              "    <tr>\n",
              "      <th>2</th>\n",
              "      <td>1426798656594714627</td>\n",
              "      <td>1426798656594714627</td>\n",
              "      <td>Fhelanidr</td>\n",
              "      <td>Fhelanidr1</td>\n",
              "      <td></td>\n",
              "      <td>11</td>\n",
              "      <td>28</td>\n",
              "      <td>0</td>\n",
              "      <td>Sun Aug 15 06:51:31 +0000 2021</td>\n",
              "      <td>1819</td>\n",
              "      <td>Fri Oct 29 08:33:57 +0000 2021</td>\n",
              "      <td>@fuckpeo__ @ariarsisi_horan Gua kaget anjrit u...</td>\n",
              "      <td>None</td>\n",
              "      <td>0</td>\n",
              "      <td>0</td>\n",
              "      <td>gua kaget anjrit udh liat muka khai</td>\n",
              "    </tr>\n",
              "    <tr>\n",
              "      <th>3</th>\n",
              "      <td>924357553</td>\n",
              "      <td>924357553</td>\n",
              "      <td>-</td>\n",
              "      <td>_mayangs</td>\n",
              "      <td></td>\n",
              "      <td>95</td>\n",
              "      <td>45</td>\n",
              "      <td>0</td>\n",
              "      <td>Sun Nov 04 00:51:55 +0000 2012</td>\n",
              "      <td>3132</td>\n",
              "      <td>Fri Oct 29 08:33:53 +0000 2021</td>\n",
              "      <td>@arsiuul @GiGiHadid khai lang nap khop khapunl...</td>\n",
              "      <td>None</td>\n",
              "      <td>0</td>\n",
              "      <td>0</td>\n",
              "      <td>khai lang nap khop khapunleuy kap</td>\n",
              "    </tr>\n",
              "    <tr>\n",
              "      <th>4</th>\n",
              "      <td>787905967597899776</td>\n",
              "      <td>787905967597899776</td>\n",
              "      <td>Ital🐋</td>\n",
              "      <td>Kssstal</td>\n",
              "      <td>Her.</td>\n",
              "      <td>10</td>\n",
              "      <td>33</td>\n",
              "      <td>1</td>\n",
              "      <td>Mon Oct 17 06:39:56 +0000 2016</td>\n",
              "      <td>292</td>\n",
              "      <td>Fri Oct 29 08:33:42 +0000 2021</td>\n",
              "      <td>RT @niazkilam1201: Zayn hanya seorang Ayah yan...</td>\n",
              "      <td>None</td>\n",
              "      <td>1238</td>\n",
              "      <td>0</td>\n",
              "      <td>rt   zayn hanya seorang ayah yang hanya ingin ...</td>\n",
              "    </tr>\n",
              "  </tbody>\n",
              "</table>\n",
              "</div>"
            ],
            "text/plain": [
              "                    id  ...                                        clean_dasar\n",
              "0  1133355196212367366  ...  rt   zayn hanya seorang ayah yang hanya ingin ...\n",
              "1  1315429334589468672  ...                                  bnr ksian khai jg\n",
              "2  1426798656594714627  ...               gua kaget anjrit udh liat muka khai \n",
              "3            924357553  ...                 khai lang nap khop khapunleuy kap \n",
              "4   787905967597899776  ...  rt   zayn hanya seorang ayah yang hanya ingin ...\n",
              "\n",
              "[5 rows x 16 columns]"
            ]
          },
          "metadata": {},
          "execution_count": 62
        }
      ]
    },
    {
      "cell_type": "code",
      "metadata": {
        "colab": {
          "base_uri": "https://localhost:8080/",
          "height": 496
        },
        "id": "GJTALVA_b4PR",
        "outputId": "f6e40ed0-1531-46fb-f70a-07fe16b0caf5"
      },
      "source": [
        "Tokenizer = TweetTokenizer(strip_handles=True, reduce_len=True)\n",
        "\n",
        "def tokenization(text):\n",
        "    teks= Tokenizer.tokenize(text)\n",
        "    return teks\n",
        "\n",
        "df2['tokenized'] = df2['clean_dasar'].apply(lambda x: tokenization(x))\n",
        "df2.head()"
      ],
      "execution_count": null,
      "outputs": [
        {
          "output_type": "execute_result",
          "data": {
            "text/html": [
              "<div>\n",
              "<style scoped>\n",
              "    .dataframe tbody tr th:only-of-type {\n",
              "        vertical-align: middle;\n",
              "    }\n",
              "\n",
              "    .dataframe tbody tr th {\n",
              "        vertical-align: top;\n",
              "    }\n",
              "\n",
              "    .dataframe thead th {\n",
              "        text-align: right;\n",
              "    }\n",
              "</style>\n",
              "<table border=\"1\" class=\"dataframe\">\n",
              "  <thead>\n",
              "    <tr style=\"text-align: right;\">\n",
              "      <th></th>\n",
              "      <th>id</th>\n",
              "      <th>id_str</th>\n",
              "      <th>name</th>\n",
              "      <th>screen_name</th>\n",
              "      <th>location</th>\n",
              "      <th>followers_count</th>\n",
              "      <th>friends_count</th>\n",
              "      <th>listed_count</th>\n",
              "      <th>created_at</th>\n",
              "      <th>favourites_count</th>\n",
              "      <th>created_at</th>\n",
              "      <th>full_text</th>\n",
              "      <th>place</th>\n",
              "      <th>retweet_count</th>\n",
              "      <th>favorite_count</th>\n",
              "      <th>clean_dasar</th>\n",
              "      <th>tokenized</th>\n",
              "    </tr>\n",
              "  </thead>\n",
              "  <tbody>\n",
              "    <tr>\n",
              "      <th>0</th>\n",
              "      <td>1133355196212367366</td>\n",
              "      <td>1133355196212367366</td>\n",
              "      <td>P</td>\n",
              "      <td>madubyjohnny</td>\n",
              "      <td>Resonance</td>\n",
              "      <td>27</td>\n",
              "      <td>126</td>\n",
              "      <td>0</td>\n",
              "      <td>Tue May 28 12:51:50 +0000 2019</td>\n",
              "      <td>3466</td>\n",
              "      <td>Fri Oct 29 08:34:18 +0000 2021</td>\n",
              "      <td>RT @niazkilam1201: Zayn hanya seorang Ayah yan...</td>\n",
              "      <td>None</td>\n",
              "      <td>1238</td>\n",
              "      <td>0</td>\n",
              "      <td>rt   zayn hanya seorang ayah yang hanya ingin ...</td>\n",
              "      <td>[rt, zayn, hanya, seorang, ayah, yang, hanya, ...</td>\n",
              "    </tr>\n",
              "    <tr>\n",
              "      <th>1</th>\n",
              "      <td>1315429334589468672</td>\n",
              "      <td>1315429334589468672</td>\n",
              "      <td>Ujungjeka</td>\n",
              "      <td>ujungjeka</td>\n",
              "      <td>Denpasar Selatan, Indonesia</td>\n",
              "      <td>19</td>\n",
              "      <td>69</td>\n",
              "      <td>0</td>\n",
              "      <td>Sun Oct 11 23:09:59 +0000 2020</td>\n",
              "      <td>5229</td>\n",
              "      <td>Fri Oct 29 08:34:00 +0000 2021</td>\n",
              "      <td>@niazkilam1201 Bnr ksian khai jg</td>\n",
              "      <td>None</td>\n",
              "      <td>0</td>\n",
              "      <td>0</td>\n",
              "      <td>bnr ksian khai jg</td>\n",
              "      <td>[bnr, ksian, khai, jg]</td>\n",
              "    </tr>\n",
              "    <tr>\n",
              "      <th>2</th>\n",
              "      <td>1426798656594714627</td>\n",
              "      <td>1426798656594714627</td>\n",
              "      <td>Fhelanidr</td>\n",
              "      <td>Fhelanidr1</td>\n",
              "      <td></td>\n",
              "      <td>11</td>\n",
              "      <td>28</td>\n",
              "      <td>0</td>\n",
              "      <td>Sun Aug 15 06:51:31 +0000 2021</td>\n",
              "      <td>1819</td>\n",
              "      <td>Fri Oct 29 08:33:57 +0000 2021</td>\n",
              "      <td>@fuckpeo__ @ariarsisi_horan Gua kaget anjrit u...</td>\n",
              "      <td>None</td>\n",
              "      <td>0</td>\n",
              "      <td>0</td>\n",
              "      <td>gua kaget anjrit udh liat muka khai</td>\n",
              "      <td>[gua, kaget, anjrit, udh, liat, muka, khai]</td>\n",
              "    </tr>\n",
              "    <tr>\n",
              "      <th>3</th>\n",
              "      <td>924357553</td>\n",
              "      <td>924357553</td>\n",
              "      <td>-</td>\n",
              "      <td>_mayangs</td>\n",
              "      <td></td>\n",
              "      <td>95</td>\n",
              "      <td>45</td>\n",
              "      <td>0</td>\n",
              "      <td>Sun Nov 04 00:51:55 +0000 2012</td>\n",
              "      <td>3132</td>\n",
              "      <td>Fri Oct 29 08:33:53 +0000 2021</td>\n",
              "      <td>@arsiuul @GiGiHadid khai lang nap khop khapunl...</td>\n",
              "      <td>None</td>\n",
              "      <td>0</td>\n",
              "      <td>0</td>\n",
              "      <td>khai lang nap khop khapunleuy kap</td>\n",
              "      <td>[khai, lang, nap, khop, khapunleuy, kap]</td>\n",
              "    </tr>\n",
              "    <tr>\n",
              "      <th>4</th>\n",
              "      <td>787905967597899776</td>\n",
              "      <td>787905967597899776</td>\n",
              "      <td>Ital🐋</td>\n",
              "      <td>Kssstal</td>\n",
              "      <td>Her.</td>\n",
              "      <td>10</td>\n",
              "      <td>33</td>\n",
              "      <td>1</td>\n",
              "      <td>Mon Oct 17 06:39:56 +0000 2016</td>\n",
              "      <td>292</td>\n",
              "      <td>Fri Oct 29 08:33:42 +0000 2021</td>\n",
              "      <td>RT @niazkilam1201: Zayn hanya seorang Ayah yan...</td>\n",
              "      <td>None</td>\n",
              "      <td>1238</td>\n",
              "      <td>0</td>\n",
              "      <td>rt   zayn hanya seorang ayah yang hanya ingin ...</td>\n",
              "      <td>[rt, zayn, hanya, seorang, ayah, yang, hanya, ...</td>\n",
              "    </tr>\n",
              "  </tbody>\n",
              "</table>\n",
              "</div>"
            ],
            "text/plain": [
              "                    id  ...                                          tokenized\n",
              "0  1133355196212367366  ...  [rt, zayn, hanya, seorang, ayah, yang, hanya, ...\n",
              "1  1315429334589468672  ...                             [bnr, ksian, khai, jg]\n",
              "2  1426798656594714627  ...        [gua, kaget, anjrit, udh, liat, muka, khai]\n",
              "3            924357553  ...           [khai, lang, nap, khop, khapunleuy, kap]\n",
              "4   787905967597899776  ...  [rt, zayn, hanya, seorang, ayah, yang, hanya, ...\n",
              "\n",
              "[5 rows x 17 columns]"
            ]
          },
          "metadata": {},
          "execution_count": 63
        }
      ]
    },
    {
      "cell_type": "code",
      "metadata": {
        "colab": {
          "base_uri": "https://localhost:8080/"
        },
        "id": "xyaM-6gbcKQD",
        "outputId": "5397f8ac-acc0-43da-e7f0-f7fd728c21ba"
      },
      "source": [
        "factory = StopWordRemoverFactory()\n",
        "\n",
        "Sastrawi_StopWords_id = factory.get_stop_words()\n",
        "\n",
        "stopword = Sastrawi_StopWords_id + ['rt']\n",
        "\n",
        "print(stopword)"
      ],
      "execution_count": null,
      "outputs": [
        {
          "output_type": "stream",
          "name": "stdout",
          "text": [
            "['yang', 'untuk', 'pada', 'ke', 'para', 'namun', 'menurut', 'antara', 'dia', 'dua', 'ia', 'seperti', 'jika', 'jika', 'sehingga', 'kembali', 'dan', 'tidak', 'ini', 'karena', 'kepada', 'oleh', 'saat', 'harus', 'sementara', 'setelah', 'belum', 'kami', 'sekitar', 'bagi', 'serta', 'di', 'dari', 'telah', 'sebagai', 'masih', 'hal', 'ketika', 'adalah', 'itu', 'dalam', 'bisa', 'bahwa', 'atau', 'hanya', 'kita', 'dengan', 'akan', 'juga', 'ada', 'mereka', 'sudah', 'saya', 'terhadap', 'secara', 'agar', 'lain', 'anda', 'begitu', 'mengapa', 'kenapa', 'yaitu', 'yakni', 'daripada', 'itulah', 'lagi', 'maka', 'tentang', 'demi', 'dimana', 'kemana', 'pula', 'sambil', 'sebelum', 'sesudah', 'supaya', 'guna', 'kah', 'pun', 'sampai', 'sedangkan', 'selagi', 'sementara', 'tetapi', 'apakah', 'kecuali', 'sebab', 'selain', 'seolah', 'seraya', 'seterusnya', 'tanpa', 'agak', 'boleh', 'dapat', 'dsb', 'dst', 'dll', 'dahulu', 'dulunya', 'anu', 'demikian', 'tapi', 'ingin', 'juga', 'nggak', 'mari', 'nanti', 'melainkan', 'oh', 'ok', 'seharusnya', 'sebetulnya', 'setiap', 'setidaknya', 'sesuatu', 'pasti', 'saja', 'toh', 'ya', 'walau', 'tolong', 'tentu', 'amat', 'apalagi', 'bagaimanapun', 'rt']\n"
          ]
        }
      ]
    },
    {
      "cell_type": "code",
      "metadata": {
        "colab": {
          "base_uri": "https://localhost:8080/",
          "height": 496
        },
        "id": "rntu41NPayNb",
        "outputId": "3ce79737-7e16-447e-b3a4-db7ffcecb8fa"
      },
      "source": [
        "def remove_stopwords(text):\n",
        "    text = [word for word in text if word not in stopword]\n",
        "    return text\n",
        "    \n",
        "df2['stopword_remove'] = df2['tokenized'].apply(lambda x: remove_stopwords(x))\n",
        "df2.head()"
      ],
      "execution_count": null,
      "outputs": [
        {
          "output_type": "execute_result",
          "data": {
            "text/html": [
              "<div>\n",
              "<style scoped>\n",
              "    .dataframe tbody tr th:only-of-type {\n",
              "        vertical-align: middle;\n",
              "    }\n",
              "\n",
              "    .dataframe tbody tr th {\n",
              "        vertical-align: top;\n",
              "    }\n",
              "\n",
              "    .dataframe thead th {\n",
              "        text-align: right;\n",
              "    }\n",
              "</style>\n",
              "<table border=\"1\" class=\"dataframe\">\n",
              "  <thead>\n",
              "    <tr style=\"text-align: right;\">\n",
              "      <th></th>\n",
              "      <th>id</th>\n",
              "      <th>id_str</th>\n",
              "      <th>name</th>\n",
              "      <th>screen_name</th>\n",
              "      <th>location</th>\n",
              "      <th>followers_count</th>\n",
              "      <th>friends_count</th>\n",
              "      <th>listed_count</th>\n",
              "      <th>created_at</th>\n",
              "      <th>favourites_count</th>\n",
              "      <th>created_at</th>\n",
              "      <th>full_text</th>\n",
              "      <th>place</th>\n",
              "      <th>retweet_count</th>\n",
              "      <th>favorite_count</th>\n",
              "      <th>clean_dasar</th>\n",
              "      <th>tokenized</th>\n",
              "      <th>stopword_remove</th>\n",
              "    </tr>\n",
              "  </thead>\n",
              "  <tbody>\n",
              "    <tr>\n",
              "      <th>0</th>\n",
              "      <td>1133355196212367366</td>\n",
              "      <td>1133355196212367366</td>\n",
              "      <td>P</td>\n",
              "      <td>madubyjohnny</td>\n",
              "      <td>Resonance</td>\n",
              "      <td>27</td>\n",
              "      <td>126</td>\n",
              "      <td>0</td>\n",
              "      <td>Tue May 28 12:51:50 +0000 2019</td>\n",
              "      <td>3466</td>\n",
              "      <td>Fri Oct 29 08:34:18 +0000 2021</td>\n",
              "      <td>RT @niazkilam1201: Zayn hanya seorang Ayah yan...</td>\n",
              "      <td>None</td>\n",
              "      <td>1238</td>\n",
              "      <td>0</td>\n",
              "      <td>rt   zayn hanya seorang ayah yang hanya ingin ...</td>\n",
              "      <td>[rt, zayn, hanya, seorang, ayah, yang, hanya, ...</td>\n",
              "      <td>[zayn, seorang, ayah, melindungi, memberikan, ...</td>\n",
              "    </tr>\n",
              "    <tr>\n",
              "      <th>1</th>\n",
              "      <td>1315429334589468672</td>\n",
              "      <td>1315429334589468672</td>\n",
              "      <td>Ujungjeka</td>\n",
              "      <td>ujungjeka</td>\n",
              "      <td>Denpasar Selatan, Indonesia</td>\n",
              "      <td>19</td>\n",
              "      <td>69</td>\n",
              "      <td>0</td>\n",
              "      <td>Sun Oct 11 23:09:59 +0000 2020</td>\n",
              "      <td>5229</td>\n",
              "      <td>Fri Oct 29 08:34:00 +0000 2021</td>\n",
              "      <td>@niazkilam1201 Bnr ksian khai jg</td>\n",
              "      <td>None</td>\n",
              "      <td>0</td>\n",
              "      <td>0</td>\n",
              "      <td>bnr ksian khai jg</td>\n",
              "      <td>[bnr, ksian, khai, jg]</td>\n",
              "      <td>[bnr, ksian, khai, jg]</td>\n",
              "    </tr>\n",
              "    <tr>\n",
              "      <th>2</th>\n",
              "      <td>1426798656594714627</td>\n",
              "      <td>1426798656594714627</td>\n",
              "      <td>Fhelanidr</td>\n",
              "      <td>Fhelanidr1</td>\n",
              "      <td></td>\n",
              "      <td>11</td>\n",
              "      <td>28</td>\n",
              "      <td>0</td>\n",
              "      <td>Sun Aug 15 06:51:31 +0000 2021</td>\n",
              "      <td>1819</td>\n",
              "      <td>Fri Oct 29 08:33:57 +0000 2021</td>\n",
              "      <td>@fuckpeo__ @ariarsisi_horan Gua kaget anjrit u...</td>\n",
              "      <td>None</td>\n",
              "      <td>0</td>\n",
              "      <td>0</td>\n",
              "      <td>gua kaget anjrit udh liat muka khai</td>\n",
              "      <td>[gua, kaget, anjrit, udh, liat, muka, khai]</td>\n",
              "      <td>[gua, kaget, anjrit, udh, liat, muka, khai]</td>\n",
              "    </tr>\n",
              "    <tr>\n",
              "      <th>3</th>\n",
              "      <td>924357553</td>\n",
              "      <td>924357553</td>\n",
              "      <td>-</td>\n",
              "      <td>_mayangs</td>\n",
              "      <td></td>\n",
              "      <td>95</td>\n",
              "      <td>45</td>\n",
              "      <td>0</td>\n",
              "      <td>Sun Nov 04 00:51:55 +0000 2012</td>\n",
              "      <td>3132</td>\n",
              "      <td>Fri Oct 29 08:33:53 +0000 2021</td>\n",
              "      <td>@arsiuul @GiGiHadid khai lang nap khop khapunl...</td>\n",
              "      <td>None</td>\n",
              "      <td>0</td>\n",
              "      <td>0</td>\n",
              "      <td>khai lang nap khop khapunleuy kap</td>\n",
              "      <td>[khai, lang, nap, khop, khapunleuy, kap]</td>\n",
              "      <td>[khai, lang, nap, khop, khapunleuy, kap]</td>\n",
              "    </tr>\n",
              "    <tr>\n",
              "      <th>4</th>\n",
              "      <td>787905967597899776</td>\n",
              "      <td>787905967597899776</td>\n",
              "      <td>Ital🐋</td>\n",
              "      <td>Kssstal</td>\n",
              "      <td>Her.</td>\n",
              "      <td>10</td>\n",
              "      <td>33</td>\n",
              "      <td>1</td>\n",
              "      <td>Mon Oct 17 06:39:56 +0000 2016</td>\n",
              "      <td>292</td>\n",
              "      <td>Fri Oct 29 08:33:42 +0000 2021</td>\n",
              "      <td>RT @niazkilam1201: Zayn hanya seorang Ayah yan...</td>\n",
              "      <td>None</td>\n",
              "      <td>1238</td>\n",
              "      <td>0</td>\n",
              "      <td>rt   zayn hanya seorang ayah yang hanya ingin ...</td>\n",
              "      <td>[rt, zayn, hanya, seorang, ayah, yang, hanya, ...</td>\n",
              "      <td>[zayn, seorang, ayah, melindungi, memberikan, ...</td>\n",
              "    </tr>\n",
              "  </tbody>\n",
              "</table>\n",
              "</div>"
            ],
            "text/plain": [
              "                    id  ...                                    stopword_remove\n",
              "0  1133355196212367366  ...  [zayn, seorang, ayah, melindungi, memberikan, ...\n",
              "1  1315429334589468672  ...                             [bnr, ksian, khai, jg]\n",
              "2  1426798656594714627  ...        [gua, kaget, anjrit, udh, liat, muka, khai]\n",
              "3            924357553  ...           [khai, lang, nap, khop, khapunleuy, kap]\n",
              "4   787905967597899776  ...  [zayn, seorang, ayah, melindungi, memberikan, ...\n",
              "\n",
              "[5 rows x 18 columns]"
            ]
          },
          "metadata": {},
          "execution_count": 65
        }
      ]
    },
    {
      "cell_type": "code",
      "metadata": {
        "colab": {
          "base_uri": "https://localhost:8080/",
          "height": 564
        },
        "id": "TMV8CYpucaKF",
        "outputId": "db4cbfaa-2711-4a22-aa16-a6c1356e2808"
      },
      "source": [
        "stemmer = StemmerFactory().create_stemmer()\n",
        "\n",
        "def stemming(text):\n",
        "    text = [stemmer.stem(word) for word in text]\n",
        "    return text\n",
        "\n",
        "df2['stemmed'] = df2['stopword_remove'].apply(lambda x: stemming(x))\n",
        "df2.head()"
      ],
      "execution_count": null,
      "outputs": [
        {
          "output_type": "execute_result",
          "data": {
            "text/html": [
              "<div>\n",
              "<style scoped>\n",
              "    .dataframe tbody tr th:only-of-type {\n",
              "        vertical-align: middle;\n",
              "    }\n",
              "\n",
              "    .dataframe tbody tr th {\n",
              "        vertical-align: top;\n",
              "    }\n",
              "\n",
              "    .dataframe thead th {\n",
              "        text-align: right;\n",
              "    }\n",
              "</style>\n",
              "<table border=\"1\" class=\"dataframe\">\n",
              "  <thead>\n",
              "    <tr style=\"text-align: right;\">\n",
              "      <th></th>\n",
              "      <th>id</th>\n",
              "      <th>id_str</th>\n",
              "      <th>name</th>\n",
              "      <th>screen_name</th>\n",
              "      <th>location</th>\n",
              "      <th>followers_count</th>\n",
              "      <th>friends_count</th>\n",
              "      <th>listed_count</th>\n",
              "      <th>created_at</th>\n",
              "      <th>favourites_count</th>\n",
              "      <th>created_at</th>\n",
              "      <th>full_text</th>\n",
              "      <th>place</th>\n",
              "      <th>retweet_count</th>\n",
              "      <th>favorite_count</th>\n",
              "      <th>clean_dasar</th>\n",
              "      <th>tokenized</th>\n",
              "      <th>stopword_remove</th>\n",
              "      <th>stemmed</th>\n",
              "    </tr>\n",
              "  </thead>\n",
              "  <tbody>\n",
              "    <tr>\n",
              "      <th>0</th>\n",
              "      <td>1133355196212367366</td>\n",
              "      <td>1133355196212367366</td>\n",
              "      <td>P</td>\n",
              "      <td>madubyjohnny</td>\n",
              "      <td>Resonance</td>\n",
              "      <td>27</td>\n",
              "      <td>126</td>\n",
              "      <td>0</td>\n",
              "      <td>Tue May 28 12:51:50 +0000 2019</td>\n",
              "      <td>3466</td>\n",
              "      <td>Fri Oct 29 08:34:18 +0000 2021</td>\n",
              "      <td>RT @niazkilam1201: Zayn hanya seorang Ayah yan...</td>\n",
              "      <td>None</td>\n",
              "      <td>1238</td>\n",
              "      <td>0</td>\n",
              "      <td>rt   zayn hanya seorang ayah yang hanya ingin ...</td>\n",
              "      <td>[rt, zayn, hanya, seorang, ayah, yang, hanya, ...</td>\n",
              "      <td>[zayn, seorang, ayah, melindungi, memberikan, ...</td>\n",
              "      <td>[zayn, orang, ayah, lindung, beri, nyaman, ana...</td>\n",
              "    </tr>\n",
              "    <tr>\n",
              "      <th>1</th>\n",
              "      <td>1315429334589468672</td>\n",
              "      <td>1315429334589468672</td>\n",
              "      <td>Ujungjeka</td>\n",
              "      <td>ujungjeka</td>\n",
              "      <td>Denpasar Selatan, Indonesia</td>\n",
              "      <td>19</td>\n",
              "      <td>69</td>\n",
              "      <td>0</td>\n",
              "      <td>Sun Oct 11 23:09:59 +0000 2020</td>\n",
              "      <td>5229</td>\n",
              "      <td>Fri Oct 29 08:34:00 +0000 2021</td>\n",
              "      <td>@niazkilam1201 Bnr ksian khai jg</td>\n",
              "      <td>None</td>\n",
              "      <td>0</td>\n",
              "      <td>0</td>\n",
              "      <td>bnr ksian khai jg</td>\n",
              "      <td>[bnr, ksian, khai, jg]</td>\n",
              "      <td>[bnr, ksian, khai, jg]</td>\n",
              "      <td>[bnr, ksi, kha, jg]</td>\n",
              "    </tr>\n",
              "    <tr>\n",
              "      <th>2</th>\n",
              "      <td>1426798656594714627</td>\n",
              "      <td>1426798656594714627</td>\n",
              "      <td>Fhelanidr</td>\n",
              "      <td>Fhelanidr1</td>\n",
              "      <td></td>\n",
              "      <td>11</td>\n",
              "      <td>28</td>\n",
              "      <td>0</td>\n",
              "      <td>Sun Aug 15 06:51:31 +0000 2021</td>\n",
              "      <td>1819</td>\n",
              "      <td>Fri Oct 29 08:33:57 +0000 2021</td>\n",
              "      <td>@fuckpeo__ @ariarsisi_horan Gua kaget anjrit u...</td>\n",
              "      <td>None</td>\n",
              "      <td>0</td>\n",
              "      <td>0</td>\n",
              "      <td>gua kaget anjrit udh liat muka khai</td>\n",
              "      <td>[gua, kaget, anjrit, udh, liat, muka, khai]</td>\n",
              "      <td>[gua, kaget, anjrit, udh, liat, muka, khai]</td>\n",
              "      <td>[gua, kaget, anjrit, udh, liat, muka, kha]</td>\n",
              "    </tr>\n",
              "    <tr>\n",
              "      <th>3</th>\n",
              "      <td>924357553</td>\n",
              "      <td>924357553</td>\n",
              "      <td>-</td>\n",
              "      <td>_mayangs</td>\n",
              "      <td></td>\n",
              "      <td>95</td>\n",
              "      <td>45</td>\n",
              "      <td>0</td>\n",
              "      <td>Sun Nov 04 00:51:55 +0000 2012</td>\n",
              "      <td>3132</td>\n",
              "      <td>Fri Oct 29 08:33:53 +0000 2021</td>\n",
              "      <td>@arsiuul @GiGiHadid khai lang nap khop khapunl...</td>\n",
              "      <td>None</td>\n",
              "      <td>0</td>\n",
              "      <td>0</td>\n",
              "      <td>khai lang nap khop khapunleuy kap</td>\n",
              "      <td>[khai, lang, nap, khop, khapunleuy, kap]</td>\n",
              "      <td>[khai, lang, nap, khop, khapunleuy, kap]</td>\n",
              "      <td>[kha, lang, nap, khop, khapunleuy, kap]</td>\n",
              "    </tr>\n",
              "    <tr>\n",
              "      <th>4</th>\n",
              "      <td>787905967597899776</td>\n",
              "      <td>787905967597899776</td>\n",
              "      <td>Ital🐋</td>\n",
              "      <td>Kssstal</td>\n",
              "      <td>Her.</td>\n",
              "      <td>10</td>\n",
              "      <td>33</td>\n",
              "      <td>1</td>\n",
              "      <td>Mon Oct 17 06:39:56 +0000 2016</td>\n",
              "      <td>292</td>\n",
              "      <td>Fri Oct 29 08:33:42 +0000 2021</td>\n",
              "      <td>RT @niazkilam1201: Zayn hanya seorang Ayah yan...</td>\n",
              "      <td>None</td>\n",
              "      <td>1238</td>\n",
              "      <td>0</td>\n",
              "      <td>rt   zayn hanya seorang ayah yang hanya ingin ...</td>\n",
              "      <td>[rt, zayn, hanya, seorang, ayah, yang, hanya, ...</td>\n",
              "      <td>[zayn, seorang, ayah, melindungi, memberikan, ...</td>\n",
              "      <td>[zayn, orang, ayah, lindung, beri, nyaman, ana...</td>\n",
              "    </tr>\n",
              "  </tbody>\n",
              "</table>\n",
              "</div>"
            ],
            "text/plain": [
              "                    id  ...                                            stemmed\n",
              "0  1133355196212367366  ...  [zayn, orang, ayah, lindung, beri, nyaman, ana...\n",
              "1  1315429334589468672  ...                                [bnr, ksi, kha, jg]\n",
              "2  1426798656594714627  ...         [gua, kaget, anjrit, udh, liat, muka, kha]\n",
              "3            924357553  ...            [kha, lang, nap, khop, khapunleuy, kap]\n",
              "4   787905967597899776  ...  [zayn, orang, ayah, lindung, beri, nyaman, ana...\n",
              "\n",
              "[5 rows x 19 columns]"
            ]
          },
          "metadata": {},
          "execution_count": 67
        }
      ]
    },
    {
      "cell_type": "code",
      "metadata": {
        "colab": {
          "base_uri": "https://localhost:8080/"
        },
        "id": "Oy-a0gdqebMp",
        "outputId": "72897836-82d5-4567-a306-e1ae8b398bff"
      },
      "source": [
        "df=open('data/slang.txt',\"r\",encoding=\"utf-8\", errors='replace')\n",
        "slangS = df.readlines(); df.close()\n",
        "\n",
        "slangS = [t.split(\":\") for t in slangS]\n",
        "slangS = [[k.strip(), v.strip()] for k,v in slangS]\n",
        "\n",
        "slangs = {k:v for k,v in slangS}\n",
        "print(slangs)\n",
        "\n",
        "#slg = slangs.keys()\n",
        "#val = slangs.values()"
      ],
      "execution_count": null,
      "outputs": [
        {
          "output_type": "stream",
          "name": "stdout",
          "text": [
            "{'&': 'dan', '1pun': 'satupun', '7an': 'tujuan', '@': 'di', 'Dr': 'dokter', 'Jkt': 'Jakarta', 'Jkw': 'jokowi', 'Napza': 'narkoba psikotropika dan zat adiktif', 'Nasihat': 'nasehat', 'SE': 'Surat Edaran', 'ababil': 'abg labil', 'abis': 'habis', 'acc': 'accord', 'accord': 'sesuai', 'ad': 'ada', 'adl': 'adalah', 'adlah': 'adalah', 'adlh': 'adalah', 'administ': 'administrasi', 'adoh': 'aduh', 'afaik': 'as far as i know', 'agma': 'agama', 'aha': 'tertawa', 'ahaha': 'haha', 'ahiok': 'ahok', 'ahoax': 'ahok', 'ahokncc': 'ahok', 'aing': 'saya', 'aj': 'saja', 'aja': 'saja', 'ajak2': 'ajak-ajak', 'ajep-ajep': 'dunia gemerlap', 'ajj': 'saja', 'ak': 'aku', 'aka': 'dikenal juga sebagai', 'akherat': 'akhirat', 'akhirx': 'akhirnya', 'akika': 'aku', 'akko': 'aku', 'akkoh': 'aku', 'akku': 'aku', 'akn': 'akan', 'aktifis2': 'aktivis-aktivis', 'aktivi': 'aktivis', 'aktivis2': 'aktivis-aktivis', 'akun2': 'akun-akun', 'akuwh': 'aku', 'akyu': 'aku', 'alay': 'norak', 'aleg': 'caleg', 'alih2': 'alih-alih', 'aljasa': 'asal jadi saja', 'almaidahyg': 'almaidah', 'alow': 'halo', 'ama': 'sama', 'ambilin': 'ambilkan', 'ambl': 'ambil', 'amerik': 'amarika', 'anak2': 'anak-anak', 'analisise': 'analisis', 'ancur': 'hancur', 'angis': 'nangis', 'anjay': 'anjing', 'anjir': 'anjing', 'anjrit': 'anjing', 'ank': 'anak', 'anter': 'antar', 'ap': 'apa', 'ap2': 'apa-apa', 'apaan': 'apa', 'apasih': 'apa sih', 'ape': 'apa', 'apes': 'sial', 'aplot': 'unggah', 'aps': 'apa', 'apva': 'apa', 'aq': 'saya', 'aqu': 'aku', 'aquwh': 'aku', 'as': 'amerika serikat', 'asap': 'sesegera mungkin', 'asbun': 'asal bunyi', 'aseek': 'asyik', 'aseekk': 'asyik', 'asek': 'asyik', 'asekk': 'asyik', 'aseknya': 'asyiknya', 'asem': 'asam', 'asoy': 'asyik', 'aspal': 'asli tetapi palsu', 'astrojim': 'astagfirullahaladzim', 'astul': 'asal tulis', 'ath': 'kalau begitu', 'ato': 'atau', 'ats': 'atas', 'atuh': 'kalau begitu', 'atvsi': 'asosiasi televisi swasta indonesia', 'au': 'angkatan udara', 'au ah': 'tidak mau tahu', 'ava': 'avatar', 'awak': 'saya', 'aws': 'awas', 'ay': 'sayang', 'ayang': 'sayang', 'ayank': 'sayang', 'ayat2': 'ayat-ayat', 'ayok': 'ayo', 'b2': 'berdua', 'b4': 'sebelum', 'bacot': 'banyak bicara', 'bajir': 'banjir', 'bakalan': 'akan', 'bales': 'balas', 'bandes': 'bantuan desa', 'bangdes': 'pembangunan desa', 'bangedh': 'banget', 'bangkotan': 'tua', 'banpol': 'bantuan polisi', 'banpres': 'bantuan presiden', 'banpur': 'bantuan tempur', 'bansarkas': 'bantuan sarana kesehatan', 'baper': 'bawa perasaan', 'basbang': 'basi', 'bazis': 'badan amal, zakat, infak, dan sedekah', 'bbrp': 'beberapa', 'bcanda': 'bercanda', 'bcoz': 'karena', 'bdaya': 'budaya', 'bdg': 'bandung', 'bdk': 'budak', 'beb': 'sayang', 'bebal': 'bodoh', 'bedakin': 'bedak', 'begajulan': 'nakal', 'bejibun': 'banyak', 'beliin': 'belikan', 'belom': 'belum', 'bem': 'badan eksekutif mahasiswa', 'benarjujur': 'jujur', 'bencong': 'banci', 'bener': 'benar', 'bener2': 'bener bener', 'bentar': 'sebentar', 'ber2': 'berdua', 'ber3': 'bertiga', 'berdikari': 'berdiri di atas kaki sendiri', 'beresin': 'membereskan', 'berhenti2': 'berhenti berhenti', 'bet': 'banget', 'bete': 'bosan', 'beti': 'beda tipis', 'beud': 'banget', 'beut': 'banget', 'bg': 'bagi', 'bgd': 'banget', 'bgm': 'bagaimana', 'bgmn': 'bagaimana', 'bgs': 'bagus', 'bgst': 'bangsat', 'bgt': 'banget', 'bgtu': 'begitu', 'bhai': 'bye', 'bhkan': 'bahkan', 'bhubu': 'tidur', 'bhw': 'bahwa', 'bhy': 'bahaya', 'bijimane': 'bagaimana', 'bilanh': 'bilang', 'bimbuluh': 'bimbingan dan penyuluhan', 'bintal': 'bimbingan mental', 'bisi': 'kalau-kalau', 'bkannya': 'bukannya', 'bkl': 'akan', 'bkmt': 'badan kontak majelis taklim', 'bkn': 'bukan', 'bknnya': 'bukannya', 'bl': 'beli', 'blas': 'balas', 'blegug': 'bodoh', 'blg': 'bilang', 'blh': 'boleh', 'blm': 'belum', 'bln': 'bulan', 'bls': 'balas', 'blum': 'belum', 'bnchi': 'benci', 'bnci': 'benci', 'bnda': 'benda', 'bngung': 'bingung', 'bnran': 'yang benar', 'bntr': 'sebentar', 'bnyk': 'banyak', 'bodor': 'lucu', 'bohay': 'badan aduhai', 'bokap': 'ayah', 'bokep': 'video porno', 'boker': 'buang air besar', 'bokin': 'pacar', 'bokis': 'bohong', 'bole': 'boleh', 'boljug': 'boleh juga', 'bolot': 'bodoh', 'bonek': 'bocah nekat', 'bonyok': 'ayah ibu', 'bopi': 'badan olahraga profesional indonesia', 'boyeh': 'boleh', 'bpk': 'bapak', 'br': 'baru', 'brb': 'segera kembali', 'brg': 'bareng', 'brhadapan': 'berhadapan', 'brngkt': 'berangkat', 'bro': 'saudara laki-laki', 'brp': 'berapa', 'brsdia': 'bersedia', 'brstu': 'bersatu', 'bru': 'baru', 'brur': 'saudara laki-laki', 'bs': 'bisa', 'bsa': 'bisa', 'bsen': 'bosan', 'bsk': 'besok', 'bsr': 'besar', 'bt': 'buat', 'btol': 'botol', 'btw': 'ngomong-ngomong', 'bu_bu': 'tidur', 'buangbuang': 'buang', 'buaya': 'tidak setia', 'bubarin': 'bubarkan', 'bubbu': 'tidur', 'buber': 'buka bersama', 'bubu': 'tidur', 'bujubune': 'luar biasa', 'bumil': 'ibu hamil', 'bunuh2an': 'bunuh-bunuhan', 'buser': 'buru sergap', 'buzzerbuzzer': 'buzzer', 'bw': 'bawa', 'bwhn': 'bawahan', 'bwt': 'buat', 'byar': 'bayar', 'byk': 'banyak', 'byr': 'bayar', 'byrin': 'bayarkan', 'c8': 'chat', 'cabal': 'sabar', 'cabut': 'pergi', 'cadas': 'keren', 'caem': 'cakep', 'cakap': 'berbicara', 'calo': 'makelar', 'cama-cama': 'sama-sama', 'can': 'belum', 'cangcut': 'celana dalam', 'capcus': 'pergi', 'cape': 'capek', 'capek': 'lelah', 'caper': 'cari perhatian', 'capresss': 'calon presiden', 'caur': 'jelek', 'cayalah': 'percaya', 'cb': 'coba', 'cc': 'carbon copy', 'ce': 'cewek', 'cekak': 'tidak ada uang', 'cekal': 'cegah tangkal', 'cekidot': 'coba lihat', 'cemen': 'penakut', 'cemplungin': 'cemplungkan', 'cengengesan': 'tertawa', 'cepat2': 'cepat cepat', 'ceper': 'pendek', 'cepet': 'cepat', 'ceu': 'kakak perempuan', 'cew': 'cewek', 'cewe': 'cewek', 'chuyunk': 'sayang', 'cibuk': 'sibuk', 'cimeng': 'ganja', 'cin': 'cinta', 'cipika cipiki': 'cium pipi kanan cium pipi kiri', 'ciye': 'cie', 'ciyh': 'sih', 'cjr': 'coboy junior', 'ckck': 'ck', 'ckepp': 'cakep', 'ckp': 'cukup', 'clbk': 'cinta lama bersemi kembali', 'cm': 'cuma', 'cmiiw': \"correct me if i'm wrong\", 'cmpr': 'campur', 'cmpur': 'campur', 'cnenk': 'senang', 'cong': 'banci', 'congor': 'mulut', 'conlok': 'cinta lokasi', 'cos': 'cause', 'cow': 'cowok', 'cowwyy': 'maaf', 'coz': 'karena', 'cp': 'siapa', 'cpa': 'siapa', 'cpe': 'capek', 'cppa': 'siapa', 'cppe': 'capek', 'cr': 'cara', 'crny': 'caranya', 'cth': 'contoh', 'cucok': 'cocok', 'cuek': 'tidak acuh', 'cuex': 'cuek', 'cuman': 'Cuma', 'cumi': 'Cuma miscall', 'cungkring': 'kurus tinggi', 'cups': 'culun', 'cupu': 'culun', 'curanmor': 'pencurian kendaraan bermotor', 'curas': 'pencurian dengan kekerasan', 'curcol': 'curahan hati colongan', 'curhat': 'curahan hati', 'cust': 'customer', 'cwek': 'cewek', 'cwo': 'cowo', 'cwok': 'cowok', 'cyin': 'cinta', 'cz': 'karena', 'd': 'di', 'dagh': 'sudah', 'dah': 'sudah', 'damang': 'sehat', 'dapet': 'dapat', 'dateng': 'datang', 'de': 'adik', 'dech': 'deh', 'dek': 'adik', 'deket': 'dekat', 'demen': 'suka', 'denger': 'dengar', 'dengerin': 'dengarkan', 'deyh': 'deh', 'dg': 'dengan', 'dgn': 'dengan', 'dgr': 'dengar', 'dh': 'sudah', 'diancurin': 'dihancurkan', 'die': 'dia', 'diem2': 'diam diam', 'digosipin': 'digosipkan', 'dikti': 'direktoral jendral pendidikan tinggi', 'dimaafin': 'dimaafkan', 'dimana2': 'dimana-mana', 'dimintak': 'diminta', 'dimna': 'dimana', 'direhap': 'direhab', 'disono': 'di sana', 'diuber': 'dikejar', 'dket': 'dekat', 'dki': 'daerah khusus ibukota', 'dkit': 'sedikit', 'dkk': 'dan kawan-kawan', 'dl': 'dulu', 'dll': 'dan lain-lain', 'dlm': 'dalam', 'dlu': 'dulu', 'dmaksud': 'dimaksud', 'dmn': 'dimana', 'dn': 'dan', 'dngn': 'dengan', 'doang': 'saja', 'dodol': 'bodoh', 'doi': 'dia', 'doku': 'uang', 'don juan': 'playboy', 'dongok': 'bodoh', 'dongs': 'dong', 'donk': 'dong', 'donlot': 'unduh', 'dpr': 'dewan perwakilan rakyat', 'dprd': 'dewan perwakilan rakyat daerah', 'dpt': 'dapat', 'dr': 'dari', 'dri': 'dari', 'drmana': 'darimana', 'drmn': 'darimana', 'drpd': 'daripada', 'drtd': 'dari tadi', 'dsb': 'dan sebagainya', 'dst': 'dan seterusnya', 'dstu': 'disitu', 'dtg': 'datang', 'dugem': 'dunia gemerlap', 'duh': 'aduh', 'duit': 'uang', 'dulu': 'dahulu', 'dungu': 'bodoh', 'duren': 'durian', 'dy': 'dia', 'dzolim': 'zalim', 'ed': 'edisi', 'edan': 'gila', 'ego': 'emosi', 'egp': 'emang gue pikirin', 'eike': 'aku', 'eke': 'aku', 'elo': 'kamu', 'elu': 'kamu', 'emang': 'memang', 'emangnya': 'memangnya', 'emank': 'memang', 'emg': 'memang', 'emng': 'memang', 'emte': 'makan teman', 'endak': 'tidak', 'engga': 'tidak', 'enggak': 'tidak', 'entar': 'nanti', 'envy': 'iri', 'eps': 'episode', 'etc': 'et cetera', 'ex': 'mantan', 'ext': 'extension', 'fahami': 'pahami', 'fak': 'fakultas', 'fakta2': 'fakta-fakta', 'faktakta': 'fakta', 'fax': 'facsimile', 'fb': 'facebook', 'fdsi': 'forum diskusi suporter indonesia', 'fifo': 'first in first out', 'finek': 'finansial ekonomi', 'fisip': 'fakultas ilmu sosial dan ilmu politik', 'fitnag': 'fitnah', 'folbek': 'follow back', 'fpi': 'front pembela islam', 'fwd': 'diterukan', 'fyi': 'sebagai informasi', 'g': 'tidak', 'ga': 'tidak', 'gaada': 'tidak ada uang', 'gabisa': 'tidak bisa', 'gag': 'tidak', 'gahar': 'sangar', 'gaje': 'tidak jelas', 'gak': 'tidak', 'gak papa': 'tidak apa-apa', 'gamau': 'tidak mau', 'gan': 'juragan', 'gantengbs': 'ganteng', 'gantengsaya': 'ganteng', 'gapapa': 'tidak apa-apa', 'gaptek': 'gagap teknologi', 'gatau': 'tidak tahu', 'gatek': 'gagap teknologi', 'gatot': 'gagal total', 'gawe': 'kerja', 'gax': 'tidak', 'gbs': 'tidak bisa', 'gd': 'gusdur', 'gda': 'tidak ada uang', 'gebetan': 'orang yang disuka', 'geer': 'gede rasa', 'gegara': 'gara-gara', 'geje': 'tidak jelas', 'gelo': 'gila', 'gene': 'begini', 'gepeng': 'gelandangan dan pengemis', 'ghiey': 'lagi', 'ghiy': 'lagi', 'gi': 'lagi', 'gib': 'gerakan indonesia beradab', 'gile': 'gila', 'giman': 'gigi mancung', 'gimana': 'bagaimana', 'gini': 'begini', 'gino': 'gigi nongol', 'gitchu': 'gitu', 'githu': 'gitu', 'gitu': 'begitu', 'gj': 'tidak jelas', 'gk': 'tidak', 'gmana': 'bagaimana', 'gmn': 'bagamana', 'gn': 'begini', 'goblog': 'goblok', 'goblok': 'bodoh', 'gokil': 'gila', 'golongan2': 'golongan-golongan', 'golput': 'golongan putih', 'gombal': 'suka merayu', 'good': 'bagus', 'governor': 'gubernur', 'gowes': 'mengayuh sepeda', 'gpl': 'tidak pakai lama', 'gpny': 'tidak punya', 'gpp': 'tidak apa-apa', 'gr': 'gede rasa', 'gretong': 'gratis', 'gretongan': 'gratisan', 'gt': 'gitu', 'gtau': 'tidak tahu', 'gtw': 'tidak tahu', 'gua': 'saya', 'gub': 'gubernur', 'gue': 'saya', 'guna': 'menggunakan', 'guoblok': 'goblok', 'guys': 'teman-teman', 'gw': 'saya', 'gws': 'cepat sembuh', 'ha': 'tertawa', 'habis2an': 'habis-habisan', 'haghaghag': 'tertawa', 'haha': 'tertawa', 'hak2': 'hak hak', 'hakhak': 'tertawa', 'hallow': 'halo', 'ham': 'hak asasi manusia', 'handak': 'bahan peledak', 'hankam': 'pertahanan dan keamanan', 'hansip': 'pertahanan sipil', 'happy': 'bahagia', 'hardcore': 'keras', 'hehe': 'he', 'hellow': 'halo', 'helo': 'halo', 'helow': 'halo', 'heter': 'pembenci', 'heters': 'pembenci', 'hey': 'hai', 'hi': 'hai', 'hlm': 'halaman', 'hlng': 'hilang', 'hny': 'hanya', 'hnya': 'hanya', 'hoax': 'isu bohong', 'hot2nya': 'hot-hotnya', 'houm': 'rumah', 'hr': 'hari', 'hrs': 'harus', 'hrus': 'harus', 'hubad': 'hubungan angkatan darat', 'hubdar': 'perhubungan darat', 'hubla': 'perhubungan laut', 'huff': 'mengeluh', 'huft': 'mengeluh', 'hum': 'rumah', 'humas': 'hubungan masyarakat', 'humoris': 'lucu', 'humz': 'rumah', 'hurts': 'pedih', 'ide2': 'ide-ide', 'idk': 'saya tidak tahu', 'idup': 'hidup', 'ikon': 'lambang', 'ilang': 'hilang', 'ilfeel': 'tidak suka', 'ilfil': 'tidak suka', 'imba': 'jago sekali', 'imho': 'in my humble opinion', 'imoet': 'imut', 'imoetz': 'imut', 'indinesia': 'indonesia', 'indo': 'indonesia', 'indon': 'Indonesia', 'info': 'informasi', 'insom': 'insomnia', 'ipb': 'institut pertanian bogor', 'irit': 'hemat', 'isengin': 'bercanda', 'ista': 'nista', 'istaa': 'nista', 'isu2': 'isu-isu', 'item': 'hitam', 'itj': 'Indonesia tanpa jil', 'ito': 'itu', 'itu2': 'itu-itu', 'itung': 'hitung', 'itungan': 'hitungan', 'iy': 'iya', 'iyala': 'iya lah', 'iye': 'iya', 'iyo': 'iya', 'ja': 'saja', 'jabar': 'jawa barat', 'jablay': 'jarang dibelai', 'jadiin': 'jadikan', 'jadul': 'jaman dulu', 'jaim': 'jaga image', 'jan': 'jangan', 'jancuk': 'anjing', 'janjinyaa': 'janji', 'jargon2': 'jargon jargon', 'jatim': 'jawa timur', 'jatohin': 'menjatuhkan', 'jawapan': 'jawaban', 'jayus': 'tidak lucu', 'jd': 'jadi', 'jdi': 'jadi', 'jdikan': 'jadikan', 'je': 'saja', 'jelas2': 'jelas-jelas', 'jem': 'jam', 'jentelmen': 'berani', 'jg': 'juga', 'jga': 'juga', 'jgk': 'juga', 'jgn': 'jangan', 'jgnkan': 'jangankan', 'ji2k': 'jijik', 'jijay': 'jijik', 'jil': 'jaringan islam liberal', 'jir': 'anjing', 'jjk': 'jijik', 'jk': 'jika', 'jkt': 'jakarta', 'jln': 'jalan', 'jng': 'jangan', 'jnj': 'janji', 'joget2': 'joget-joget', 'jomblo': 'tidak punya pacar', 'jth': 'jatuh', 'jual2': 'jual-jual', 'jubir': 'juru bicara', 'jurdil': 'jujur adil', 'jutek': 'galak', 'jwb': 'jawab', 'k': 'ke', 'ka': 'kakak', 'kab': 'kabupaten', 'kabag': 'kepala bagian', 'kabor': 'kabur', 'kacian': 'kasihan', 'kacrut': 'kacau', 'kadang2': 'kadang kadang', 'kadit': 'kepala direktorat', 'kadiv': 'kepala divisi', 'kaga': 'tidak', 'kagak': 'tidak', 'kaka': 'kakak', 'kalo': 'kalau', 'kaltim': 'kalimantan timur', 'kampret': 'sialan', 'kamtib': 'keamanan dan ketertiban', 'kamtibmas': 'keamanan dan ketertiban masyarakat', 'kamuh': 'kamu', 'kamuwh': 'kamu', 'kamyu': 'kamu', 'kan': 'akan', 'kanwil': 'kantor wilayah', 'kapolri': 'Kepala Polisi Republik Indonesia', 'kapt': 'kapten', 'karna': 'karena', 'kasat': 'kepala satuan', 'kasubbag': 'kepala subbagian', 'kasubbid': 'kepala subbidang', 'kata2': 'kata-kata', 'katrok': 'kampungan', 'kau': 'kamu', 'kawan2': 'kawan-kawan', 'kayanya': 'kayaknya', 'kbar': 'kabar', 'kbr': 'kabar', 'kcian': 'kasihan', 'kdng': 'kadang', 'kdu': 'harus', 'ke': 'kah', 'kebranian': 'keberanian', 'keburu': 'terlanjur', 'kec': 'kecamatan', 'kedubes': 'kedutaan besar', 'kejar2': 'kejar-kejar', 'kejurnas': 'kejuaraan nasional', 'kek': 'seperti', 'kekeuh': 'keras kepala', 'keknya': 'kayanya', 'kel': 'kelurahan', 'keliatan': 'kelihatan', 'kemaren': 'kemarin', 'kemenag': 'kementrian agama', 'kemenkominfo': 'kementrian komunikasi dan informatika', 'kemrin': 'kemarin', 'keneh': 'masih', 'kentot': 'senggama', 'kepengen': 'mau', 'kepikiran': 'terpikirkan', 'kepingin': 'mau', 'kepo': 'mau tahu urusan orang', 'kepsek': 'kepala sekolah', 'kere': 'tidak punya uang', 'kesbang': 'kesatuan bangsa', 'kesian': 'kasihan', 'kesihatan': 'kesehatan', 'kesra': 'kesejahteraan rakyat', 'ketauan': 'ketahuan', 'ketrima': 'diterima', 'ketum': 'ketua umum', 'keukeuh': 'keras kepala', 'kgiatan': 'kegiatan', 'khan': 'kan', 'kibul': 'bohong', 'kibus': 'kaki busuk', 'kimpoi': 'kawin', 'kk': 'kakak', 'kl': 'kalau', 'klian': 'kalian', 'klianz': 'kalian', 'klmpk': 'kelompok', 'klo': 'kalau', 'kloter': 'kelompok terbang', 'kls': 'kelas', 'kluarga': 'keluarga', 'klw': 'kalau', 'klwrga': 'keluarga', 'km': 'kamu', 'kmaksiatan': 'kemaksiatan', 'kmari': 'kemari', 'kmna': 'kemana', 'kmps': 'kampus', 'kmpus': 'kampus', 'kmrm': 'kemeramen', 'kmrn': 'kemarin', 'kn': 'kan', 'knal': 'kenal', 'kne': 'terlibat', 'knl': 'kenal', 'knp': 'kenapa', 'knpa': 'kenapa', 'koar': 'teriak', 'kodya': 'kota madya', 'kog': 'kok', 'komdis': 'komisi disiplin', 'kompi': 'komputer', 'komsov': 'komunis sovyet', 'komtiong': 'komunis Tiongkok', 'komun': 'komunitas', 'kongkow': 'kumpul bareng teman-teman', 'konjen': 'konsulat jenderal', 'konpers': 'konferensi pers', 'kopdar': 'kopi darat', 'koq': 'kok', 'korup': 'korupsi', 'kowe': 'kamu', 'kpai': 'komisi perlindungan anak indonesia', 'kpd': 'kepada', 'kpid': 'komisi penyiaran indonesia daerah', 'kpk': 'komisi pemberantas koruptor', 'kpn': 'kapan', 'kptsan': 'keputusan', 'krenz': 'keren', 'krik': 'garing', 'krim': 'kirim', 'krm': 'kirim', 'krn': 'karena', 'ksadaran': 'kesadaran', 'kt': 'kita', 'ktauan': 'ketahuan', 'ktipu': 'tipu', 'ktk': 'ketika', 'ktmu': 'ketemu', 'ktny': 'katanya', 'ktp': 'kartu tanda penduduk', 'ktr': 'kantor', 'kudu': 'harus', 'kuper': 'kurang pergaulan', 'kuq': 'kok', 'kurng': 'kurang', 'kw': 'imitasi', 'kwn': 'kawan', 'ky': 'seperti', 'kyk': 'seperti', 'kykny': 'kayanya', 'la': 'lah', 'laka': 'kecelakaan', 'laki2': 'laki-laki', 'lam': 'salam', 'lambreta': 'lambat', 'lamp': 'lampiran', 'langi': 'langit', 'lansia': 'lanjut usia', 'lanud': 'landasan udara', 'lapas': 'lembaga pemasyarakatan', 'larang2': 'larang-larang', 'latgab': 'latihan gabungan', 'lawyer2': 'lawyer lawyer', 'lbh': 'lebih', 'lbur': 'libur', 'lebay': 'berlebihan', 'leh': 'boleh', 'lekong': 'laki-laki', 'lelet': 'lambat', 'lemot': 'lemah otak', 'lesbia': 'lesbian', 'less': 'kurang', 'lg': 'lagi', 'lgi': 'lagi', 'lgkp': 'lengkap', 'lgsg': 'langsung', 'lha': 'lah', 'lht': 'lihat', 'liat': 'lihat', 'light': 'terang', 'linmas': 'perlindungan masyarakat', 'litbang': 'penelitian dan pengembangan', 'liwat': 'lewat', 'lknt': 'laknat', 'lmyan': 'lumayan', 'lmyn': 'lumayan', 'lngkp': 'lengkap', 'lo': 'kamu', 'loch': 'loh', 'loe': 'kamu', 'lol': 'tertawa', 'lola': 'lambat berfikir', 'lom': 'belum', 'louph': 'cinta', 'loupz': 'cinta', 'low': 'kalau', 'lowh': 'kamu', 'lp': 'lupa', 'lsm': 'lembaga swadaya masyarakat', 'lu': 'kamu', 'luber': 'langsung, umum, bebas, dan rahasia', 'luchu': 'lucu', 'luchuw': 'lucu', 'luff': 'cinta', 'lum': 'belum', 'luph': 'cinta', 'luthu': 'lucu', 'luv': 'love', 'lw': 'kamu', 'lwn': 'lawan', 'lwt': 'lewat', 'lyf': 'live', 'ma': 'sama', 'maacih': 'terima kasih', 'maaciw': 'terima kasih', 'mabal': 'bolos', 'mabes': 'markas besar', 'macem': 'macam', 'macem-macem': 'macam-macam', 'macet2an': 'macet-macetan', 'macih': 'masih', 'madesu': 'masa depan suram', 'maem': 'makan', 'maen': 'main', 'magabut': 'makan gaji buta', 'mahatma': 'maju sehat bersama', 'maho': 'homo', 'majority': 'mayoritas', 'mak': 'ibu', 'mak jang': 'kaget', 'makasih': 'terima kasih', 'maksain': 'memaksa', 'malah': 'bahkan', 'malem': 'malam', 'malu2in': 'memalukan', 'mam': 'makan', 'mamz': 'makan', 'mana2': 'mana-mana', 'maneh': 'kamu', 'manen': 'panen', 'manggil': 'panggil', 'manies': 'manis', 'maniez': 'manis', 'mantabss bagus': '', 'mantep': 'mantap', 'mao': 'mau', 'maren2': 'kemarin-kemarin', 'markus': 'makelar kasus', 'masama': 'sama - sama', 'masing2': 'masing-masing', 'masukin': 'masukkan', 'masy': 'masyarakat', 'mati2': 'mati-mati', 'maybe': 'mungkin', 'mb': 'mbak', 'mba': 'mbak', 'mbabibuta': 'ceroboh', 'mbahas': 'membahas', 'mbaur': 'baur', 'mbelain': 'belain', 'mbual': 'membual', 'mcm': 'macam', 'mdh': 'mudah', 'mdh2an': 'mudah-mudahan', 'medsos': 'media sosial', 'melayakni': 'melayani', 'melu': 'ikut', 'mencarut2': 'mencarut', 'mending': 'lebih baik', 'mendpt': 'mendapat', 'menjdi': 'menjadi', 'menklarifikasi': 'mengklarifikasi', 'menolak': 'tolak', 'menpora': 'menteri pemuda dan olahraga', 'menristek': 'mentri riset, teknologi dan pendidikan', 'mensos': 'menteri sosial', 'mepet': 'dekat sekali', 'mesjid': 'masjid', 'met': 'selamat', 'metro': 'metropolitan', 'mga': 'moga', 'mgkin': 'mungkin', 'mgkn': 'mungkin', 'mgu': 'minggu', 'mhn': 'mohon', 'migas': 'minyak dan gas bumi', 'miker': 'minuman keras', 'mikol': 'minuman beralkohol', 'milis': 'mailing list', 'miras': 'minuman keras', 'miumi': 'majelis intelektual dan ulama muda indonesia', 'mjadikan': 'menjadikan', 'mjd': 'menjadi', 'mksd': 'maksud', 'mlah': 'malah', 'mlalui': 'melalui', 'mlm': 'malam', 'mls': 'malas', 'mmbuat': 'membuat', 'mmg': 'memang', 'mmng': 'memang', 'mndukung': 'mendukung', 'mngajarkan': 'mengajarkan', 'mngkn': 'mungkin', 'mninggal': 'meninggal', 'mnipu': 'tipu', 'mnjd': 'menjadi', 'mnolak': 'tolak', 'mnrtmu': 'menurutmu', 'mnt': 'minta', 'mnyumbang': 'menyumbang', 'mo': 'mau', 'modar': 'mati', 'moga': 'semoga', 'moge': 'motor gede', 'mokad': 'mati', 'mokat': 'mati', 'moso': 'masa', 'mosok': 'masa', 'most': 'paling', 'mpe': 'sampai', 'mpr': 'majelis permusyawaratan rakyat', 'mrk': 'mereka', 'msh': 'masih', 'msk': 'masuk', 'mskpn': 'meskipun', 'mslh': 'masalah', 'msng2': 'masing-masing', 'msuh': 'musuh', 'mt': 'makan teman', 'muahal': 'mahal', 'mubes': 'musyawarah besar', 'mui': 'majelis ulama indonesia', 'muker': 'musyawarah kerja', 'mulu': 'melulu', 'mumet': 'pusing', 'mumpung': 'selagi', 'muna': 'munafik', 'munas': 'musyawarah nasional', 'munaslub': 'musyawarah nasional luar biasa', 'munfik': 'munafik', 'muntaber': 'muntah dan berak', 'musda': 'musyawarah daerah', 'musti': 'mesti', 'muter2': 'muter-muter', 'muup': 'maaf', 'muupz': 'maaf', 'muuv': 'maaf', 'mw': 'now watching', 'mz': 'mas', 'n': 'dan', 'na': 'nya', 'naas': 'nahas', 'nak': 'hendak', 'nal': 'kenal', 'nan': 'dan', 'nanam': 'menanam', 'nangis': 'menangis', 'nanya': 'bertanya', 'naon': 'apa', 'napa': 'kenapa', 'napi': 'narapidana', 'napol': 'narapidana politik', 'napza': 'narkotika, alkohol, psikotropika, dan zat adiktif', 'naq': 'anak', 'narkoba': 'narkotika, psikotropika, dan obat terlarang', 'narsis': 'bangga pada diri sendiri', 'nasgor': 'nasi goreng', 'nax': 'anak', 'nda': 'tidak', 'ndak': 'tidak', 'ndiri': 'sendiri', 'ndut': 'gendut', 'ne': 'ini', 'negri': 'negeri', 'nekolim': 'neokolonialisme', 'nekolin': 'neokolonialisme', 'nelfon': 'menelepon', 'nembak': 'menyatakan cinta', 'next': 'lanjut', 'ngabis2in': 'menghabiskan', 'ngabuburit': 'menunggu berbuka puasa', 'ngakak': 'tertawa', 'ngaku': 'mengaku', 'ngambek': 'marah', 'ngambil': 'mengambil', 'ngampus': 'pergi ke kampus', 'ngamuk2': 'ngamuk-ngamuk', 'nganggur': 'tidak punya pekerjaan', 'ngantri': 'mengantri', 'ngapah': 'kenapa', 'ngapain': 'sedang apa', 'ngaret': 'terlambat', 'ngaruh': 'berpengaruh', 'ngasih': 'memberikan', 'ngawur': 'berbicara sembarangan', 'ngebandel': 'berbuat bandel', 'ngebully': 'intimidasi', 'ngeceng': 'kumpul bareng-bareng', 'ngegosip': 'bergosip', 'ngeh': 'sadar', 'ngehe': 'kesal', 'ngeklaim': 'mengklaim', 'ngekos': 'tinggal di kos', 'ngeksis': 'menjadi eksis', 'ngelamar': 'melamar', 'ngeles': 'berkilah', 'ngeliat': 'melihat', 'ngelidur': 'menggigau', 'ngemeng': 'bicara terus-terusan', 'ngentot': 'senggama', 'ngentotin': 'senggama', 'ngerampok': 'merampok', 'ngeri': 'seram', 'ngerti': 'mengerti', 'ngga': 'tidak', 'nggak': 'tidak', 'ngibul': 'berbohong', 'ngikut': 'ikut', 'ngiler': 'mau', 'nginep': 'menginap', 'ngiri': 'iri', 'ngisi': 'mengisi', 'ngisiin': 'mengisikan', 'ngmg': 'bicara', 'ngmng': 'bicara', 'ngn': 'dengan', 'ngo': 'non governmental organization', 'ngocol': 'lucu', 'ngomong': 'bicara', 'ngomongin': 'membicarakan', 'ngubek2': 'mencari-cari', 'ngumpet': 'sembunyi', 'ngumpul': 'berkumpul', 'ngurus': 'mengurus', 'ngusir2': 'usir-usir', 'nh': 'nih', 'ni': 'ini', 'nice': 'bagus', 'nie': 'ini', 'niech': 'nih', 'nih': 'ini', 'nikahkah': 'nikahkan', 'nimbrung': 'ikut serta', 'nipu': 'tipu', 'nitizen': 'netizen', 'niyh': 'nih', 'nk': 'ingin', 'nkah': 'nikah', 'nmenarik': 'menarik', 'nmr': 'nomor', 'nnt': 'nanti', 'nnti': 'nanti', 'nntn': 'nonton', 'no': 'nomor', 'nobar': 'nonton bareng', 'nongkrong': 'kumpul-kumpul', 'np': 'now playing', 'nrp': 'narapidana', 'ntap': 'mantap', 'ntar': 'sebentar', 'ntn': 'nonton', 'nu': 'nahdatul ulama', 'nuhun': 'terima kasih', 'numpuk': 'bertumpuk', 'nunggu': 'menunggu', 'nutupin': 'menutupi', 'ny': 'nya', 'nyaingin': 'saing', 'nyalahin': 'salah', 'nyampah': 'membuat sampah', 'nyampyr': 'nyampur', 'nyang': 'yang', 'nyari': 'mencari', 'nyariin': 'mencari', 'nyasar': 'tersesat', 'nyekar': 'menyekar', 'nyela': 'cela', 'nyembah': 'sembah', 'nyemot': 'ambil', 'nyerang': 'serang', 'nyiapin': 'mempersiapkan', 'nyicil': 'mencicil', 'nyiram': 'menyiram', 'nympr': 'nyampur', 'nyoblos': 'mencoblos', 'nyok': 'ayo', 'nyokap': 'ibu', 'o': 'oleh', 'o/': 'oleh', 'odmk': 'orang dengan masalah kejiwaan', 'ogah': 'tidak mau', 'oia': 'oh iya', 'ok': 'ok', 'okt': 'oktober', 'ol': 'online', 'omdo': 'omong doang', 'omg': 'oh my god', 'omong2': 'ngomong-ngomong', 'ongkir': 'ongkos kirim', 'oon': 'bodoh', 'oot': 'out of topic', 'orange': 'oranye', 'org': 'orang', 'org2': 'orang-orang', 'orglaen': 'orang lain', 'orkes': 'olahraga dan kesehatan', 'ortu': 'orang tua', 'ospek': 'orientasi studi dan pengenalan kampus', 'otda': 'otonomi daerah', 'otre': 'ok', 'otw': 'on the way, sedang di jalan', 'our': 'kami', 'p': 'per', 'p.s': 'pesan', 'p0rn': 'porno', 'pa': 'apa', 'pacal': 'pacar', 'pahe': 'paket hemat', 'pake': 'pakai', 'pakek': 'pakai', 'pala': 'kepala', 'panja': 'panitia kerja', 'pansus': 'panitia khusus', 'pantura': 'pantai utara', 'paranoid': 'takut', 'parno': 'takut', 'parpol': 'partai politik', 'parte': 'partai', 'pas2an': 'pas-pasan', 'pasutri': 'pasangan suami istri', 'patas': 'cepat dan terbatas', 'pd': 'pada', 'pdhl': 'padahal', 'pdip': 'partai demokrasi Indonesia perjuangan', 'pdskji': 'perhimpunan dokter spesialis kedokteran jiwa indonesia', 'pdt': 'padat', 'pecahan2': 'pecahan-pecahan', 'pede': 'percaya diri', 'pelanggarab': 'pelanggaran', 'pelatda': 'pemusatan latihan daerah', 'pelatnas': 'pemusatan latihan nasional', 'pelcehn': 'pelecehan', 'pembokat': 'pembantu', 'pemda': 'pemerintah daerah', 'pemilu': 'pemilihan umum', 'pemko': 'pemerintah kota', 'pemkot': 'pemerintah kota', 'pemprov': 'pemerintah provinsi', 'pemred': 'pemimpin redaksi', 'pendukung2': 'pendukung-pendukung', 'penertiban': 'tertib', 'pengen': 'ingin', 'penjas': 'pendidikan jasmani', 'penmas': 'pendidikan masyarakat', 'perda': 'peraturan daerah', 'perek': 'wanita tuna susila', 'peremp': 'perempuan', 'pergub': 'peraturan gubernur', 'perhatiin': 'perhatikan', 'pertamax': 'pertama', 'pesenan': 'pesanan', 'pesenin': 'pesankan', 'pgang': 'pegang', 'pgi': 'pergi', 'pi': 'tapi', 'pihak2': 'pihak pihak', 'pijetin': 'pijitkan', 'pilgub': 'pemilihan gubernur', 'pilkada': 'pemilihan kepala daerah', 'pimpro': 'pemimpin proyek', 'pinter2': 'pintar-pintar', 'pisan': 'sangat', 'pisgor': 'pisang goreng', 'pk': 'penjahat kelamin', 'pke': 'pakai', 'pket': 'paket', 'pkr': 'pakar', 'pks': 'partai keadilan sejahtera', 'plg': 'paling', 'plh': 'pilih', 'pls': 'tolong', 'pm': 'private message', 'pmhaman': 'pemahaman', 'pmrnth': 'pemerintah', 'pndkung': 'pendukung', 'pndukung': 'pendukung', 'pnjilat': 'penjilat', 'pns': 'pegawai negeri sipil', 'pny': 'punya', 'poin2': 'poin-poin', 'polantas': 'polisi lalu lintas', 'polda': 'kepolisian daerah', 'polres': 'kepolisian resor', 'polwan': 'polisi wanita', 'pon': 'juga', 'ponpes': 'pondok pesantren', 'ponsel': 'telepon seluler', 'poster2': 'poster-poster', 'pp': 'pulang pergi', 'ppa': 'apa', 'presh': 'segar', 'prg': 'pergi', 'prikitiw': 'cie', 'priksa': 'periksa', 'prilaku': 'perilaku', 'prnh': 'pernah', 'pro': 'profesional', 'problem': 'masalah', 'prototype': 'contoh', 'prov': 'provinsi', 'psen': 'pesan', 'psn': 'pesan', 'psr': 'pasar', 'pst': 'pasti', 'psti': 'pasti', 'pswt': 'pesawat', 'ptemuan': 'pertemuan', 'puanas': 'panas', 'pulgar': 'kasar', 'puskesmas2': 'puskesmas-puskesmas', 'puyeng': 'pusing', 'pw': 'posisi nyaman', 'qmo': 'kamu', 'qmu': 'kamu', 'qt': 'kita', 'rakor': 'rapat koordinasi', 'rame': 'ramai', 'rang': 'orang', 'ranmor': 'kendaraan bermotor', 'raskin': 'rakyat miskin', 'rata2': 'rata-rata', 're': 'reply', 'red': 'redaksi', 'ref': 'referensi', 'reg': 'register', 'rehab': 'rehabilitasi', 'rejeki': 'rezeki', 'rekan2': 'rekan-rekan', 'reklamuk': 'reklamasi', 'rempah2': 'rempah-rempah', 'rempong': 'sulit', 'renstra': 'rencana strategis', 'repp': 'balas', 'reskrim': 'reserse kriminal', 'restik': 'reserse narkotika', 'rhs': 'rahasia', 'rights': 'benar', 'rja': 'raja', 'rkyt': 'rakyat', 'rmbt': 'rambut', 'rmh': 'rumah', 'rofl': 'rolling on the floor laughing', 'ru': 'baru', 'rubahnn': 'rubah', 'rudal': 'peluru kendali', 'ruko': 'rumah toko', 'rusun': 'rumah susun', 'rusunawa': 'rumah susun sewa', 'rutan': 'rumah tahanan', 'ruu': 'rancangan undang-undang', 'ruz': 'terus', 'rwt': 'rawat', 's4': 'sempat', 'sadaar': 'sadar', 'sah2': 'sah-sah', 'saia': 'saya', 'saiank': 'sayang', 'salting': 'salah tingkah', 'saltum': 'salah kostum', 'sampe': 'sampai', 'sampeyan': 'anda', 'samsek': 'sama sekali', 'sapa': 'siapa', 'sapose': 'siapa', 'satkorlak': 'satuan koordinator pelaksana', 'satpam': 'satuan pengamanan', 'say': 'sayang', 'sayan': 'sayang', 'sbaliknya': 'sebaliknya', 'sbb': 'sebagai berikut', 'sbg': 'sebagai', 'sbgn': 'sebagian', 'sbh': 'sebuah', 'sblm': 'sebelum', 'sbnr': 'sebenar', 'sbnrny': 'sebenarnya', 'sbntr': 'sebentar', 'scara': 'secara', 'scr': 'secara', 'sdg': 'sedang', 'sdgkn': 'sedangkan', 'sdh': 'sudah', 'sdkt': 'sedikit', 'sdngkn': 'sedangkan', 'se7': 'setuju', 'seabrek': 'banyak', 'sebelas dua belas': 'mirip', 'sebelom': 'sebelum', 'sebgmn': 'sebagaimana', 'sebuk': 'sibuk', 'sekjen': 'sekretaris jenderal', 'selaen': 'selain', 'selmt': 'selamat', 'semau': 'asal', 'sembako': 'sembilan bahan pokok', 'sempak': 'celana dalam', 'sempet': 'sempat', 'sempet2nya': 'sempat-sempatnya', 'sendratari': 'seni drama tari', 'seorg': 'seorang', 'sept': 'september', 'serasiii': 'serasi', 'sertijab': 'serah terima jabatan', 'sesok': 'besok', 'seting': 'akting', 'setting': 'atur', 'sgl': 'segala', 'sgrc': 'support group and resource center', 'sgt': 'sangat', 'sgtunya': 'segitunya', 'shg': 'sehingga', 'shrsnya': 'seharusnya', 'siap2': 'siap-siap', 'sidak': 'inspeksi mendadak', 'siech': 'sih', 'sieyh': 'sih', 'sigh': 'sih', 'sik': 'sih', 'sikon': 'situasi dan kondisi', 'simiskin': 'miskin', 'simpedes': 'simpanan pedesaan', 'sinetron': 'sinema elektronik', 'sip': 'ok', 'siramin': 'siramkan', 'sis': 'kakak perempuan', 'sj': 'saja', 'sjk': 'sejak', 'skali': 'sekali', 'skalian': 'sekalian', 'skl': 'sekali', 'sklh': 'sekolah', 'skrg': 'sekarang', 'skt': 'sakit', 'skul': 'sekolah', 'slalu': 'selalu', 'slama': 'selama', 'slesai': 'selesai', 'slh': 'salah', 'sll': 'selalu', 'sllu': 'selalu', 'slm': 'salam', 'slma': 'selama', 'slmt': 'selamat', 'slsai': 'selesai', 'slt': 'sulit', 'sm': 'sama', 'sma': 'sama', 'smg': 'semoga', 'smkn': 'semakin', 'smpt': 'sempat', 'smua': 'semua', 'smw': 'semua', 'smwny': 'semuanya', 'sndiri': 'sendiri', 'sng': 'senang', 'sni': 'sini', 'soft': 'halus', 'sohib': 'teman', 'sokong': 'dukung', 'soljum': 'sholat jumat', 'solve': 'solusi', 'somse': 'sombong sekali', 'songong': 'sombong', 'sorry': 'maaf', 'sory': 'maaf', 'sosbud': 'sosial-budaya', 'sosek': 'sosial-ekonomi', 'sospol': 'sosial-politik', 'sotoy': 'sok tahu', 'sowry': 'maaf', 'spa': 'siapa', 'spd': 'sepeda', 'sppa': 'siapa', 'sprti': 'seperti', 'spt': 'seperti', 'spy': 'supaya', 'srt': 'surat', 'srtfkt': 'sertifikat', 'stelah': 'setelah', 'stiap': 'setiap', 'still': 'masih', 'stlh': 'setelah', 'stop': 'henti', 'subbag': 'subbagian', 'suk': 'masuk', 'sumbangin': 'sumbangkan', 'sumpek': 'sempit', 'sy': 'saya', 'sya': 'saya', 'syg': 'sayang', 'syp': 'siapa', 't4': 'tempat', 'tabanas': 'tabungan pembangunan nasional', 'tahi': 'kotoran', 'tai': 'kotoran', 'taik': 'tahi', 'tajir': 'kaya', 'tak': 'tidak', 'tar': 'nanti', 'tarik2': 'tarik-tarik', 'tau': 'tahu', 'tauk': 'tahu', 'taun': 'tahun', 'taw': 'tahu', 'tawh': 'tahu', 'tayangan2': 'tayangan-tayangan', 'td': 'tadi', 'tdi': 'tadi', 'tdk': 'tidak', 'te2p': 'tetap', 'teh': 'kakak perempuan', 'teken': 'tekan', 'tekor': 'rugi', 'telat': 'terlambat', 'telkom': 'telekomunikasi', 'telmi': 'telat berpikir', 'telp': 'telepon', 'teman2': 'teman-teman', 'temen': 'teman', 'temen2': 'teman-teman', 'tenang2': 'tenang tenang', 'tengil': 'menyebalkan', 'tengok': 'menjenguk', 'tepar': 'terkapar', 'terbitin': 'terbitkan', 'tetp': 'tetap', 'teve': 'televisi', 'tggu': 'tunggu', 'tgl': 'tanggal', 'tgok': 'tengok', 'tgu': 'tunggu', 'thanks': 'terima kasih', 'thankz': 'terima kasih', 'thd': 'terhadap', 'thdp': 'terhadap', 'thn': 'tahun', 'thx': 'thanks', 'tilang': 'bukti pelanggaran', 'tilep': 'tilap', 'tioghoa': 'tionghoa', 'tipi': 'TV', 'tipiwan': 'TvOne', 'tirani': 'tiran', 'tk': 'tidak', 'tkg': 'tukang', 'tks': 'terima kasih', 'tl': 'timeline', 'tll': 'terlalu', 'tlp': 'telepon', 'tlpn': 'telepon', 'tls': 'tulis', 'tman': 'teman', 'tmbah': 'tambah', 'tmbh': 'tambah', 'tmen2': 'teman-teman', 'tmn': 'teman', 'tmn2': 'teman-teman', 'tmpah': 'tumpah', 'tmph': 'tumpah', 'tmpt': 'tempat', 'tnda': 'tanda', 'tngu': 'tunggu', 'tnh': 'tanah', 'tni': 'tentara nasional indonesia', 'tnp': 'tanpa', 'tntg': 'tentang', 'tnya': 'tanya', 'tnyta': 'ternyata', 'togel': 'toto gelap', 'tokai': 'tai', 'tokoh2': 'tokoh-tokoh', 'toserba': 'toko serba ada', 'toys': 'main', 'tp': 'tapi', 'tpi': 'tetapi', 'tq': 'terima kasih', 'trdhulu': 'terdahulu', 'tren': 'trend', 'trending': 'trend', 'trfkir': 'terfikir', 'trgntg': 'tergantung', 'trh': 'terhadap', 'trhdp': 'terhadap', 'trima': 'terima kasih', 'trims': 'terima kasih', 'trimz': 'terima kasih', 'trkhr': 'terakhir', 'trlalu': 'terlalu', 'trllu': 'terlalu', 'trm': 'terima', 'trmsk': 'termasuk', 'trnyt': 'ternyata', 'trs': 'terus', 'trus': 'terus', 'trutama': 'terutama', 'trz': 'terus', 'ts': 'penulis', 'tsangka': 'tersangka', 'tsb': 'tersebut', 'tsk': 'tersangka', 'tst': 'tahu sama tahu', 'ttd': 'tertanda', 'ttg': 'tentang', 'ttng': 'tentang', 'ttp': 'tetap', 'tu': 'itu', 'tuch': 'tuh', 'tuh': 'itu', 'tuir': 'tua', 'tuwh': 'tuh', 'tv': 'televisi', 'tw': 'tahu', 'twit2': 'tweet-tweet', 'twt': 'tweet', 'tyap': 'tiap', 'u': 'untuk', 'u/': 'untuk', 'uasai': 'kuasa', 'ud': 'sudah', 'uda': 'sudah', 'udah': 'sudah', 'udh': 'sudah', 'ugm': 'universitas gajah mada', 'ui': 'universitas indonesia', 'ujg': 'ujung', 'ujung2nya': 'ujung-ujungnya', 'ul': 'ulangan', 'ultah': 'ulang tahun', 'unair': 'universitas airlangga', 'undang2': 'undang undang', 'undip': 'universitas diponegoro', 'univ': 'universitas', 'unyu': 'menggemaskan', 'uplot': 'unggah', 'uppu': 'apa', 'urang': 'saya', 'urg': 'saya', 'usah': 'perlu', 'ust': 'ustadz', 'ut': 'untuk', 'utang': 'hutang', 'utip': 'kutip', 'utk': 'untuk', 'utul': 'ujian tertulis', 'uu': 'undang-undang', 'valas': 'valuta asing', 'valid': 'sah', 'victory': 'menang', 'vol': 'volume', 'vote': 'pilih', 'w/': 'dengan', 'wad': 'buat', 'wadir': 'wakil direktur', 'wagub': 'wakil gubernur', 'wamil': 'wajib militer', 'war': 'perang', 'warbiyasak': 'luar biasa', 'waria': 'wanita pria', 'warkop': 'warung kopi', 'warnet': 'warung internet', 'warteg': 'warung tegal', 'wartel': 'warung telekomunikasi', 'waspadalah': 'waspada', 'wat': 'buat', 'watuk': 'batuk', 'who': 'world health organization', 'wk': 'tertawa', 'wkt': 'waktu', 'wkwk': 'tertawa', 'wkwkkw': 'tertawa', 'wtf': 'what the fuck', 'wth': 'what the hell', 'x': 'tidak', 'xan': 'tak akan', 'xew': 'apa', 'xixixi': 'tertawa', 'y': 'ya', 'ya': 'iya', 'yad': 'yang akan datang', 'yap': 'iya', 'yapz': 'iya', 'yaudah': 'ya sudah', 'yauwda': 'ya sudah', 'yawdah': 'ya sudah', 'ybs': 'yang bersangkutan', 'yg': 'yang', 'yi': 'yaitu', 'yl': 'yang lain', 'yng': 'yang', 'yo': 'iya', 'yoha': 'iya', 'yowes': 'ya sudah', 'yuk': 'ayo', 'yup': 'iya', 'ywdh': 'ya sudah', 'zonk': 'bodoh'}\n"
          ]
        }
      ]
    },
    {
      "cell_type": "code",
      "metadata": {
        "colab": {
          "base_uri": "https://localhost:8080/",
          "height": 231
        },
        "id": "reyPoTVRfMV0",
        "outputId": "4292f149-b18d-433d-abbd-e7f78146bc63"
      },
      "source": [
        "from textblob import TextBlob\n",
        "\n",
        "T = df2['stemmed']\n",
        "for i,t in enumerate(T):\n",
        "    for t in T:\n",
        "        if t in slangs.keys():\n",
        "            T[i] = slangs[t]\n",
        "print(' '.join(T))\n"
      ],
      "execution_count": null,
      "outputs": [
        {
          "output_type": "error",
          "ename": "TypeError",
          "evalue": "ignored",
          "traceback": [
            "\u001b[0;31m---------------------------------------------------------------------------\u001b[0m",
            "\u001b[0;31mTypeError\u001b[0m                                 Traceback (most recent call last)",
            "\u001b[0;32m<ipython-input-76-46fb24188972>\u001b[0m in \u001b[0;36m<module>\u001b[0;34m()\u001b[0m\n\u001b[1;32m      4\u001b[0m \u001b[0;32mfor\u001b[0m \u001b[0mi\u001b[0m\u001b[0;34m,\u001b[0m\u001b[0mt\u001b[0m \u001b[0;32min\u001b[0m \u001b[0menumerate\u001b[0m\u001b[0;34m(\u001b[0m\u001b[0mT\u001b[0m\u001b[0;34m)\u001b[0m\u001b[0;34m:\u001b[0m\u001b[0;34m\u001b[0m\u001b[0;34m\u001b[0m\u001b[0m\n\u001b[1;32m      5\u001b[0m     \u001b[0;32mfor\u001b[0m \u001b[0mt\u001b[0m \u001b[0;32min\u001b[0m \u001b[0mT\u001b[0m\u001b[0;34m:\u001b[0m\u001b[0;34m\u001b[0m\u001b[0;34m\u001b[0m\u001b[0m\n\u001b[0;32m----> 6\u001b[0;31m         \u001b[0;32mif\u001b[0m \u001b[0mt\u001b[0m \u001b[0;32min\u001b[0m \u001b[0mslangs\u001b[0m\u001b[0;34m.\u001b[0m\u001b[0mkeys\u001b[0m\u001b[0;34m(\u001b[0m\u001b[0;34m)\u001b[0m\u001b[0;34m:\u001b[0m\u001b[0;34m\u001b[0m\u001b[0;34m\u001b[0m\u001b[0m\n\u001b[0m\u001b[1;32m      7\u001b[0m             \u001b[0mT\u001b[0m\u001b[0;34m[\u001b[0m\u001b[0mi\u001b[0m\u001b[0;34m]\u001b[0m \u001b[0;34m=\u001b[0m \u001b[0mslangs\u001b[0m\u001b[0;34m[\u001b[0m\u001b[0mt\u001b[0m\u001b[0;34m]\u001b[0m\u001b[0;34m\u001b[0m\u001b[0;34m\u001b[0m\u001b[0m\n\u001b[1;32m      8\u001b[0m \u001b[0mprint\u001b[0m\u001b[0;34m(\u001b[0m\u001b[0;34m' '\u001b[0m\u001b[0;34m.\u001b[0m\u001b[0mjoin\u001b[0m\u001b[0;34m(\u001b[0m\u001b[0mT\u001b[0m\u001b[0;34m)\u001b[0m\u001b[0;34m)\u001b[0m\u001b[0;34m\u001b[0m\u001b[0;34m\u001b[0m\u001b[0m\n",
            "\u001b[0;31mTypeError\u001b[0m: unhashable type: 'list'"
          ]
        }
      ]
    },
    {
      "cell_type": "code",
      "metadata": {
        "id": "3ZMBSLHRfawF"
      },
      "source": [
        "emoticons_happy = set([\n",
        "    ':-)', ':)', ';)', ':o)', ':]', ':3', ':c)', ':>', '=]', '8)', '=)', ':}',\n",
        "    ':^)', ':-D', ':D', '8-D', '8D', 'x-D', 'xD', 'X-D', 'XD', '=-D', '=D',\n",
        "    '=-3', '=3', ':-))', \":'-)\", \":')\", ':*', ':^*', '>:P', ':-P', ':P', 'X-P',\n",
        "    'x-p', 'xp', 'XP', ':-p', ':p', '=p', ':-b', ':b', '>:)', '>;)', '>:-)',\n",
        "    '<3'\n",
        "    ])"
      ],
      "execution_count": null,
      "outputs": []
    },
    {
      "cell_type": "code",
      "metadata": {
        "id": "tnIqDzV2l2h0"
      },
      "source": [
        "emoticons_sad = set([\n",
        "    ':L', ':-/', '>:/', ':S', '>:[', ':@', ':-(', ':[', ':-||', '=L', ':<',\n",
        "    ':-[', ':-<', '=\\\\', '=/', '>:(', ':(', '>.<', \":'-(\", \":'(\", ':\\\\', ':-c',\n",
        "    ':c', ':{', '>:\\\\', ';('\n",
        "    ])"
      ],
      "execution_count": null,
      "outputs": []
    },
    {
      "cell_type": "code",
      "metadata": {
        "id": "ctwlqWxgl7y0"
      },
      "source": [
        "emoticons = emoticons_happy.union(emoticons_sad)"
      ],
      "execution_count": null,
      "outputs": []
    },
    {
      "cell_type": "code",
      "metadata": {
        "colab": {
          "base_uri": "https://localhost:8080/"
        },
        "id": "e_yawBCimADI",
        "outputId": "cfe92762-c987-4014-df45-8247ab06f1e9"
      },
      "source": [
        "from textblob import Word\n",
        "\n",
        "w = Word('khai')\n",
        "w.spellcheck()"
      ],
      "execution_count": null,
      "outputs": [
        {
          "output_type": "execute_result",
          "data": {
            "text/plain": [
              "[('khan', 1.0)]"
            ]
          },
          "metadata": {},
          "execution_count": 80
        }
      ]
    },
    {
      "cell_type": "code",
      "metadata": {
        "colab": {
          "base_uri": "https://localhost:8080/"
        },
        "id": "tLfTNQdFsygB",
        "outputId": "395e07c1-8555-4794-c2a2-fda944ace488"
      },
      "source": [
        "w = Word('jang4n')\n",
        "w.spellcheck()"
      ],
      "execution_count": null,
      "outputs": [
        {
          "output_type": "execute_result",
          "data": {
            "text/plain": [
              "[('jang4n', 0.0)]"
            ]
          },
          "metadata": {},
          "execution_count": 81
        }
      ]
    },
    {
      "cell_type": "code",
      "metadata": {
        "colab": {
          "base_uri": "https://localhost:8080/"
        },
        "id": "zNfhi2Uds6rL",
        "outputId": "aa2543d1-0c15-4c20-8bd3-03aaaf4611a3"
      },
      "source": [
        "import taudataNlpTm as tau\n",
        "# http://norvig.com/spell-correct.html\n",
        "# corpus = 'data/kata_dasar.txt'\n",
        "print(tau.correction('jang4n'))"
      ],
      "execution_count": null,
      "outputs": [
        {
          "output_type": "stream",
          "name": "stdout",
          "text": [
            "jangan\n"
          ]
        }
      ]
    },
    {
      "cell_type": "markdown",
      "metadata": {
        "id": "5-SgWXRzykYo"
      },
      "source": [
        "**Visualisasi**"
      ]
    },
    {
      "cell_type": "markdown",
      "metadata": {
        "id": "DdU0N-zfv1B9"
      },
      "source": [
        "**Insight**\n",
        "\n",
        "Perpisahan Gigi dan Zayn kali ini didukung oleh orang-orang terdekat mereka. Keluarga sepakat, Gigi dan Zayn, memiliki hubungan yang merusak. “Akan lebih baik kalau mereka berpisah. Gigi dan Zayn memiliki hubungan yang sangat merusak saat mereka bersama,\n",
        "\n",
        "Meski berpisah, keduanya sepakat tetap bersama merawat dan membesarkan Khai Hadid Malik, putri mereka yang berusia 13 bulan. Gigi mengandalkan kemampuan Zayn dalam merawat putri mereka bersama. “Gigi dan Zayn senang menjadi orang tua dan tidak pernah puas dengan anak perempuannya. Mereka sangat menghargai setiap momen yang ada Hubungan itu tidak berlangsung lama dan Gigi kembali kepada Zayn di awal 2020. Tak lama Gigi hamil dan melahirkan Khai, September 2020. Keduanya bahkan sempat merayakan ulang tahun pertama Khai, sebelum Zayn terlibat perseteruan dengan Yolanda. \n",
        "Dari data kita dapat mengambil kesimpulan bahwa banyak orang yang mendukung perpisahan zayn malik dan gigi hadid, tapii mereka tetap harus menjaga Khai Hadid Malik."
      ]
    }
  ]
}